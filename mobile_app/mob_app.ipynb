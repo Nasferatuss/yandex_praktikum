{
 "cells": [
  {
   "cell_type": "markdown",
   "metadata": {
    "id": "4ksyY8Y4E6xQ"
   },
   "source": [
    "**Стартап по продаже продуктов питания**\n",
    "Необходимо понять как ведут себя пользователи мобильного приложения. \n",
    "\n",
    "**Цель исследования** — понять как ведут себя пользователи мобильного приложения\n",
    "\n",
    "**Ход исследования**\n",
    "\n",
    "Данные для исследования находятся датасете:  \n",
    "'/datasets/logs_exp.csv' - здесь находится вся информация о событиях или действии пользователя  \n",
    "\n",
    "*Описание данных*\n",
    "\n",
    "EventName — название события;  \n",
    "DeviceIDHash — уникальный идентификатор пользователя;  \n",
    "EventTimestamp — время события;  \n",
    "ExpId — номер эксперимента: 246 и 247 — контрольные группы, а 248 — экспериментальная.\n",
    " \n",
    "В рамках исследования необходимо будет сначала провести подготовку данных. Далее изучить воронку продаж и узнать, как пользователи доходят до покупки. После этого исследовать результаты A/A/B-эксперимента. В рамках этого исследования изучим воронку событий, в каком порядке происходят события, какая доля пользователей проходит на следующий шаг воронки (от числа пользователей на предыдущем), акая доля пользователей доходит от первого события до оплаты и т.д. Также изучим находят ли статистические критерии разницу между выборками. Сделаем основные выводы по шрифтам и выберем \"победную\" выборку. \n",
    "\n",
    "Таким образом, исследование пройдёт в 3 этапа:\n",
    " 1. Подготовка данных.\n",
    " 2. Проведение анализа А/А/В теста.\n",
    " 3. Сделаем итоговые выводы."
   ]
  },
  {
   "cell_type": "code",
   "execution_count": null,
   "metadata": {
    "id": "csRyx_SEE6xR"
   },
   "outputs": [],
   "source": [
    "# загрузим необходимые библиотеки\n",
    "\n",
    "import pandas as pd\n",
    "import matplotlib.pyplot as plt\n",
    "from scipy import stats as st\n",
    "import datetime as dt\n",
    "import numpy as np\n",
    "import seaborn as sns\n",
    "import plotly.express as px\n",
    "from plotly import graph_objects as go\n",
    "import math as mth"
   ]
  },
  {
   "cell_type": "markdown",
   "metadata": {
    "id": "ufig46sQE6xR"
   },
   "source": [
    "## Начнем подготовку данных"
   ]
  },
  {
   "cell_type": "code",
   "execution_count": null,
   "metadata": {
    "id": "oXzjQthrE6xR"
   },
   "outputs": [],
   "source": [
    "# данные были склеены, пришлось разделение сделать\n",
    "logs = pd.read_csv('/datasets/logs_exp.csv', sep='\\t')"
   ]
  },
  {
   "cell_type": "code",
   "execution_count": null,
   "metadata": {
    "id": "YEpQ8Qu_E6xS",
    "outputId": "2bfae4d9-bd19-4229-8949-3188704fa92d"
   },
   "outputs": [
    {
     "data": {
      "text/html": [
       "<div>\n",
       "<style scoped>\n",
       "    .dataframe tbody tr th:only-of-type {\n",
       "        vertical-align: middle;\n",
       "    }\n",
       "\n",
       "    .dataframe tbody tr th {\n",
       "        vertical-align: top;\n",
       "    }\n",
       "\n",
       "    .dataframe thead th {\n",
       "        text-align: right;\n",
       "    }\n",
       "</style>\n",
       "<table border=\"1\" class=\"dataframe\">\n",
       "  <thead>\n",
       "    <tr style=\"text-align: right;\">\n",
       "      <th></th>\n",
       "      <th>EventName</th>\n",
       "      <th>DeviceIDHash</th>\n",
       "      <th>EventTimestamp</th>\n",
       "      <th>ExpId</th>\n",
       "    </tr>\n",
       "  </thead>\n",
       "  <tbody>\n",
       "    <tr>\n",
       "      <th>0</th>\n",
       "      <td>MainScreenAppear</td>\n",
       "      <td>4575588528974610257</td>\n",
       "      <td>1564029816</td>\n",
       "      <td>246</td>\n",
       "    </tr>\n",
       "    <tr>\n",
       "      <th>1</th>\n",
       "      <td>MainScreenAppear</td>\n",
       "      <td>7416695313311560658</td>\n",
       "      <td>1564053102</td>\n",
       "      <td>246</td>\n",
       "    </tr>\n",
       "    <tr>\n",
       "      <th>2</th>\n",
       "      <td>PaymentScreenSuccessful</td>\n",
       "      <td>3518123091307005509</td>\n",
       "      <td>1564054127</td>\n",
       "      <td>248</td>\n",
       "    </tr>\n",
       "    <tr>\n",
       "      <th>3</th>\n",
       "      <td>CartScreenAppear</td>\n",
       "      <td>3518123091307005509</td>\n",
       "      <td>1564054127</td>\n",
       "      <td>248</td>\n",
       "    </tr>\n",
       "    <tr>\n",
       "      <th>4</th>\n",
       "      <td>PaymentScreenSuccessful</td>\n",
       "      <td>6217807653094995999</td>\n",
       "      <td>1564055322</td>\n",
       "      <td>248</td>\n",
       "    </tr>\n",
       "    <tr>\n",
       "      <th>5</th>\n",
       "      <td>CartScreenAppear</td>\n",
       "      <td>6217807653094995999</td>\n",
       "      <td>1564055323</td>\n",
       "      <td>248</td>\n",
       "    </tr>\n",
       "    <tr>\n",
       "      <th>6</th>\n",
       "      <td>OffersScreenAppear</td>\n",
       "      <td>8351860793733343758</td>\n",
       "      <td>1564066242</td>\n",
       "      <td>246</td>\n",
       "    </tr>\n",
       "    <tr>\n",
       "      <th>7</th>\n",
       "      <td>MainScreenAppear</td>\n",
       "      <td>5682100281902512875</td>\n",
       "      <td>1564085677</td>\n",
       "      <td>246</td>\n",
       "    </tr>\n",
       "    <tr>\n",
       "      <th>8</th>\n",
       "      <td>MainScreenAppear</td>\n",
       "      <td>1850981295691852772</td>\n",
       "      <td>1564086702</td>\n",
       "      <td>247</td>\n",
       "    </tr>\n",
       "    <tr>\n",
       "      <th>9</th>\n",
       "      <td>MainScreenAppear</td>\n",
       "      <td>5407636962369102641</td>\n",
       "      <td>1564112112</td>\n",
       "      <td>246</td>\n",
       "    </tr>\n",
       "  </tbody>\n",
       "</table>\n",
       "</div>"
      ],
      "text/plain": [
       "                 EventName         DeviceIDHash  EventTimestamp  ExpId\n",
       "0         MainScreenAppear  4575588528974610257      1564029816    246\n",
       "1         MainScreenAppear  7416695313311560658      1564053102    246\n",
       "2  PaymentScreenSuccessful  3518123091307005509      1564054127    248\n",
       "3         CartScreenAppear  3518123091307005509      1564054127    248\n",
       "4  PaymentScreenSuccessful  6217807653094995999      1564055322    248\n",
       "5         CartScreenAppear  6217807653094995999      1564055323    248\n",
       "6       OffersScreenAppear  8351860793733343758      1564066242    246\n",
       "7         MainScreenAppear  5682100281902512875      1564085677    246\n",
       "8         MainScreenAppear  1850981295691852772      1564086702    247\n",
       "9         MainScreenAppear  5407636962369102641      1564112112    246"
      ]
     },
     "execution_count": 3,
     "metadata": {},
     "output_type": "execute_result"
    }
   ],
   "source": [
    "logs.head(10)"
   ]
  },
  {
   "cell_type": "code",
   "execution_count": null,
   "metadata": {
    "id": "AEbT8lCzE6xS"
   },
   "outputs": [],
   "source": [
    "logs.columns = ['event_name', 'user_id', 'event_time', 'experiment_id']"
   ]
  },
  {
   "cell_type": "code",
   "execution_count": null,
   "metadata": {
    "id": "KHVkY7AAE6xT",
    "outputId": "f215a695-8a7c-4014-99ce-0f5ff8700d28"
   },
   "outputs": [
    {
     "name": "stdout",
     "output_type": "stream",
     "text": [
      "<class 'pandas.core.frame.DataFrame'>\n",
      "RangeIndex: 244126 entries, 0 to 244125\n",
      "Data columns (total 4 columns):\n",
      " #   Column         Non-Null Count   Dtype \n",
      "---  ------         --------------   ----- \n",
      " 0   event_name     244126 non-null  object\n",
      " 1   user_id        244126 non-null  int64 \n",
      " 2   event_time     244126 non-null  int64 \n",
      " 3   experiment_id  244126 non-null  int64 \n",
      "dtypes: int64(3), object(1)\n",
      "memory usage: 7.5+ MB\n"
     ]
    }
   ],
   "source": [
    "# посмотрим на пропуски и типы данных\n",
    "logs.info()"
   ]
  },
  {
   "cell_type": "code",
   "execution_count": null,
   "metadata": {
    "id": "Zfexbrc_E6xT"
   },
   "outputs": [],
   "source": [
    "# пропусков нет, создадим столбец с датами и времени\n",
    "logs['datetime'] = pd.to_datetime(logs['event_time'], unit='s')"
   ]
  },
  {
   "cell_type": "code",
   "execution_count": null,
   "metadata": {
    "id": "_RuALv7ZE6xT",
    "outputId": "adb36eca-ee9e-4990-db32-a05e6096bf0f"
   },
   "outputs": [
    {
     "data": {
      "text/html": [
       "<div>\n",
       "<style scoped>\n",
       "    .dataframe tbody tr th:only-of-type {\n",
       "        vertical-align: middle;\n",
       "    }\n",
       "\n",
       "    .dataframe tbody tr th {\n",
       "        vertical-align: top;\n",
       "    }\n",
       "\n",
       "    .dataframe thead th {\n",
       "        text-align: right;\n",
       "    }\n",
       "</style>\n",
       "<table border=\"1\" class=\"dataframe\">\n",
       "  <thead>\n",
       "    <tr style=\"text-align: right;\">\n",
       "      <th></th>\n",
       "      <th>event_name</th>\n",
       "      <th>user_id</th>\n",
       "      <th>event_time</th>\n",
       "      <th>experiment_id</th>\n",
       "      <th>datetime</th>\n",
       "    </tr>\n",
       "  </thead>\n",
       "  <tbody>\n",
       "    <tr>\n",
       "      <th>0</th>\n",
       "      <td>MainScreenAppear</td>\n",
       "      <td>4575588528974610257</td>\n",
       "      <td>1564029816</td>\n",
       "      <td>246</td>\n",
       "      <td>2019-07-25 04:43:36</td>\n",
       "    </tr>\n",
       "    <tr>\n",
       "      <th>1</th>\n",
       "      <td>MainScreenAppear</td>\n",
       "      <td>7416695313311560658</td>\n",
       "      <td>1564053102</td>\n",
       "      <td>246</td>\n",
       "      <td>2019-07-25 11:11:42</td>\n",
       "    </tr>\n",
       "    <tr>\n",
       "      <th>2</th>\n",
       "      <td>PaymentScreenSuccessful</td>\n",
       "      <td>3518123091307005509</td>\n",
       "      <td>1564054127</td>\n",
       "      <td>248</td>\n",
       "      <td>2019-07-25 11:28:47</td>\n",
       "    </tr>\n",
       "    <tr>\n",
       "      <th>3</th>\n",
       "      <td>CartScreenAppear</td>\n",
       "      <td>3518123091307005509</td>\n",
       "      <td>1564054127</td>\n",
       "      <td>248</td>\n",
       "      <td>2019-07-25 11:28:47</td>\n",
       "    </tr>\n",
       "  </tbody>\n",
       "</table>\n",
       "</div>"
      ],
      "text/plain": [
       "                event_name              user_id  event_time  experiment_id  \\\n",
       "0         MainScreenAppear  4575588528974610257  1564029816            246   \n",
       "1         MainScreenAppear  7416695313311560658  1564053102            246   \n",
       "2  PaymentScreenSuccessful  3518123091307005509  1564054127            248   \n",
       "3         CartScreenAppear  3518123091307005509  1564054127            248   \n",
       "\n",
       "             datetime  \n",
       "0 2019-07-25 04:43:36  \n",
       "1 2019-07-25 11:11:42  \n",
       "2 2019-07-25 11:28:47  \n",
       "3 2019-07-25 11:28:47  "
      ]
     },
     "execution_count": 7,
     "metadata": {},
     "output_type": "execute_result"
    }
   ],
   "source": [
    "logs.head(4)"
   ]
  },
  {
   "cell_type": "code",
   "execution_count": null,
   "metadata": {
    "id": "jRtwBL_ZE6xT"
   },
   "outputs": [],
   "source": [
    "# создадим отдельный столбец с датами и приведем в нужный тип\n",
    "logs['date'] = logs['datetime'].dt.date\n",
    "logs['date'] = logs['date'].astype('datetime64[ns]')"
   ]
  },
  {
   "cell_type": "code",
   "execution_count": null,
   "metadata": {
    "id": "BJEBX5M_E6xT",
    "outputId": "36793349-8eba-4191-bfef-35dc7396f1ef"
   },
   "outputs": [
    {
     "data": {
      "text/html": [
       "<div>\n",
       "<style scoped>\n",
       "    .dataframe tbody tr th:only-of-type {\n",
       "        vertical-align: middle;\n",
       "    }\n",
       "\n",
       "    .dataframe tbody tr th {\n",
       "        vertical-align: top;\n",
       "    }\n",
       "\n",
       "    .dataframe thead th {\n",
       "        text-align: right;\n",
       "    }\n",
       "</style>\n",
       "<table border=\"1\" class=\"dataframe\">\n",
       "  <thead>\n",
       "    <tr style=\"text-align: right;\">\n",
       "      <th></th>\n",
       "      <th>event_name</th>\n",
       "      <th>user_id</th>\n",
       "      <th>event_time</th>\n",
       "      <th>experiment_id</th>\n",
       "      <th>datetime</th>\n",
       "      <th>date</th>\n",
       "    </tr>\n",
       "  </thead>\n",
       "  <tbody>\n",
       "    <tr>\n",
       "      <th>0</th>\n",
       "      <td>MainScreenAppear</td>\n",
       "      <td>4575588528974610257</td>\n",
       "      <td>1564029816</td>\n",
       "      <td>246</td>\n",
       "      <td>2019-07-25 04:43:36</td>\n",
       "      <td>2019-07-25</td>\n",
       "    </tr>\n",
       "    <tr>\n",
       "      <th>1</th>\n",
       "      <td>MainScreenAppear</td>\n",
       "      <td>7416695313311560658</td>\n",
       "      <td>1564053102</td>\n",
       "      <td>246</td>\n",
       "      <td>2019-07-25 11:11:42</td>\n",
       "      <td>2019-07-25</td>\n",
       "    </tr>\n",
       "    <tr>\n",
       "      <th>2</th>\n",
       "      <td>PaymentScreenSuccessful</td>\n",
       "      <td>3518123091307005509</td>\n",
       "      <td>1564054127</td>\n",
       "      <td>248</td>\n",
       "      <td>2019-07-25 11:28:47</td>\n",
       "      <td>2019-07-25</td>\n",
       "    </tr>\n",
       "    <tr>\n",
       "      <th>3</th>\n",
       "      <td>CartScreenAppear</td>\n",
       "      <td>3518123091307005509</td>\n",
       "      <td>1564054127</td>\n",
       "      <td>248</td>\n",
       "      <td>2019-07-25 11:28:47</td>\n",
       "      <td>2019-07-25</td>\n",
       "    </tr>\n",
       "  </tbody>\n",
       "</table>\n",
       "</div>"
      ],
      "text/plain": [
       "                event_name              user_id  event_time  experiment_id  \\\n",
       "0         MainScreenAppear  4575588528974610257  1564029816            246   \n",
       "1         MainScreenAppear  7416695313311560658  1564053102            246   \n",
       "2  PaymentScreenSuccessful  3518123091307005509  1564054127            248   \n",
       "3         CartScreenAppear  3518123091307005509  1564054127            248   \n",
       "\n",
       "             datetime       date  \n",
       "0 2019-07-25 04:43:36 2019-07-25  \n",
       "1 2019-07-25 11:11:42 2019-07-25  \n",
       "2 2019-07-25 11:28:47 2019-07-25  \n",
       "3 2019-07-25 11:28:47 2019-07-25  "
      ]
     },
     "execution_count": 9,
     "metadata": {},
     "output_type": "execute_result"
    }
   ],
   "source": [
    "logs.head(4)"
   ]
  },
  {
   "cell_type": "code",
   "execution_count": null,
   "metadata": {
    "id": "2SsPOdLKE6xU",
    "outputId": "79450707-088c-48f0-c0c2-7ee5baaef295"
   },
   "outputs": [
    {
     "data": {
      "text/plain": [
       "413"
      ]
     },
     "execution_count": 10,
     "metadata": {},
     "output_type": "execute_result"
    }
   ],
   "source": [
    "# еще проверим на дубликаты данные\n",
    "logs.duplicated().sum()"
   ]
  },
  {
   "cell_type": "code",
   "execution_count": null,
   "metadata": {
    "id": "5yPaBivTE6xU",
    "outputId": "bb409c79-f195-4683-fb0f-f2f9acac17a4"
   },
   "outputs": [
    {
     "data": {
      "text/html": [
       "<div>\n",
       "<style scoped>\n",
       "    .dataframe tbody tr th:only-of-type {\n",
       "        vertical-align: middle;\n",
       "    }\n",
       "\n",
       "    .dataframe tbody tr th {\n",
       "        vertical-align: top;\n",
       "    }\n",
       "\n",
       "    .dataframe thead th {\n",
       "        text-align: right;\n",
       "    }\n",
       "</style>\n",
       "<table border=\"1\" class=\"dataframe\">\n",
       "  <thead>\n",
       "    <tr style=\"text-align: right;\">\n",
       "      <th></th>\n",
       "      <th>event_name</th>\n",
       "      <th>user_id</th>\n",
       "      <th>event_time</th>\n",
       "      <th>experiment_id</th>\n",
       "      <th>datetime</th>\n",
       "      <th>date</th>\n",
       "    </tr>\n",
       "  </thead>\n",
       "  <tbody>\n",
       "    <tr>\n",
       "      <th>130558</th>\n",
       "      <td>MainScreenAppear</td>\n",
       "      <td>33176906322804559</td>\n",
       "      <td>1564933075</td>\n",
       "      <td>248</td>\n",
       "      <td>2019-08-04 15:37:55</td>\n",
       "      <td>2019-08-04</td>\n",
       "    </tr>\n",
       "    <tr>\n",
       "      <th>130995</th>\n",
       "      <td>OffersScreenAppear</td>\n",
       "      <td>33176906322804559</td>\n",
       "      <td>1564933763</td>\n",
       "      <td>248</td>\n",
       "      <td>2019-08-04 15:49:23</td>\n",
       "      <td>2019-08-04</td>\n",
       "    </tr>\n",
       "    <tr>\n",
       "      <th>104108</th>\n",
       "      <td>CartScreenAppear</td>\n",
       "      <td>34565258828294726</td>\n",
       "      <td>1564857221</td>\n",
       "      <td>248</td>\n",
       "      <td>2019-08-03 18:33:41</td>\n",
       "      <td>2019-08-03</td>\n",
       "    </tr>\n",
       "    <tr>\n",
       "      <th>159302</th>\n",
       "      <td>PaymentScreenSuccessful</td>\n",
       "      <td>54903596035630984</td>\n",
       "      <td>1565011672</td>\n",
       "      <td>248</td>\n",
       "      <td>2019-08-05 13:27:52</td>\n",
       "      <td>2019-08-05</td>\n",
       "    </tr>\n",
       "    <tr>\n",
       "      <th>176813</th>\n",
       "      <td>PaymentScreenSuccessful</td>\n",
       "      <td>77364241990273403</td>\n",
       "      <td>1565044732</td>\n",
       "      <td>246</td>\n",
       "      <td>2019-08-05 22:38:52</td>\n",
       "      <td>2019-08-05</td>\n",
       "    </tr>\n",
       "    <tr>\n",
       "      <th>189896</th>\n",
       "      <td>MainScreenAppear</td>\n",
       "      <td>91292479590032512</td>\n",
       "      <td>1565087723</td>\n",
       "      <td>246</td>\n",
       "      <td>2019-08-06 10:35:23</td>\n",
       "      <td>2019-08-06</td>\n",
       "    </tr>\n",
       "    <tr>\n",
       "      <th>155464</th>\n",
       "      <td>MainScreenAppear</td>\n",
       "      <td>95206628315371849</td>\n",
       "      <td>1565005724</td>\n",
       "      <td>247</td>\n",
       "      <td>2019-08-05 11:48:44</td>\n",
       "      <td>2019-08-05</td>\n",
       "    </tr>\n",
       "    <tr>\n",
       "      <th>110479</th>\n",
       "      <td>MainScreenAppear</td>\n",
       "      <td>170935625628929269</td>\n",
       "      <td>1564897487</td>\n",
       "      <td>246</td>\n",
       "      <td>2019-08-04 05:44:47</td>\n",
       "      <td>2019-08-04</td>\n",
       "    </tr>\n",
       "    <tr>\n",
       "      <th>34223</th>\n",
       "      <td>CartScreenAppear</td>\n",
       "      <td>197027893265565660</td>\n",
       "      <td>1564684544</td>\n",
       "      <td>246</td>\n",
       "      <td>2019-08-01 18:35:44</td>\n",
       "      <td>2019-08-01</td>\n",
       "    </tr>\n",
       "    <tr>\n",
       "      <th>17037</th>\n",
       "      <td>CartScreenAppear</td>\n",
       "      <td>197027893265565660</td>\n",
       "      <td>1564659614</td>\n",
       "      <td>246</td>\n",
       "      <td>2019-08-01 11:40:14</td>\n",
       "      <td>2019-08-01</td>\n",
       "    </tr>\n",
       "    <tr>\n",
       "      <th>112562</th>\n",
       "      <td>CartScreenAppear</td>\n",
       "      <td>197027893265565660</td>\n",
       "      <td>1564902904</td>\n",
       "      <td>246</td>\n",
       "      <td>2019-08-04 07:15:04</td>\n",
       "      <td>2019-08-04</td>\n",
       "    </tr>\n",
       "    <tr>\n",
       "      <th>144045</th>\n",
       "      <td>CartScreenAppear</td>\n",
       "      <td>197027893265565660</td>\n",
       "      <td>1564983860</td>\n",
       "      <td>246</td>\n",
       "      <td>2019-08-05 05:44:20</td>\n",
       "      <td>2019-08-05</td>\n",
       "    </tr>\n",
       "    <tr>\n",
       "      <th>23421</th>\n",
       "      <td>CartScreenAppear</td>\n",
       "      <td>197027893265565660</td>\n",
       "      <td>1564668928</td>\n",
       "      <td>246</td>\n",
       "      <td>2019-08-01 14:15:28</td>\n",
       "      <td>2019-08-01</td>\n",
       "    </tr>\n",
       "    <tr>\n",
       "      <th>220672</th>\n",
       "      <td>MainScreenAppear</td>\n",
       "      <td>252409739172511110</td>\n",
       "      <td>1565167797</td>\n",
       "      <td>246</td>\n",
       "      <td>2019-08-07 08:49:57</td>\n",
       "      <td>2019-08-07</td>\n",
       "    </tr>\n",
       "    <tr>\n",
       "      <th>235186</th>\n",
       "      <td>CartScreenAppear</td>\n",
       "      <td>299409047914517767</td>\n",
       "      <td>1565193055</td>\n",
       "      <td>248</td>\n",
       "      <td>2019-08-07 15:50:55</td>\n",
       "      <td>2019-08-07</td>\n",
       "    </tr>\n",
       "    <tr>\n",
       "      <th>32113</th>\n",
       "      <td>PaymentScreenSuccessful</td>\n",
       "      <td>366093607806007780</td>\n",
       "      <td>1564681254</td>\n",
       "      <td>246</td>\n",
       "      <td>2019-08-01 17:40:54</td>\n",
       "      <td>2019-08-01</td>\n",
       "    </tr>\n",
       "    <tr>\n",
       "      <th>3573</th>\n",
       "      <td>MainScreenAppear</td>\n",
       "      <td>434103746454591587</td>\n",
       "      <td>1564628377</td>\n",
       "      <td>248</td>\n",
       "      <td>2019-08-01 02:59:37</td>\n",
       "      <td>2019-08-01</td>\n",
       "    </tr>\n",
       "    <tr>\n",
       "      <th>42988</th>\n",
       "      <td>CartScreenAppear</td>\n",
       "      <td>438481114985016111</td>\n",
       "      <td>1564722577</td>\n",
       "      <td>247</td>\n",
       "      <td>2019-08-02 05:09:37</td>\n",
       "      <td>2019-08-02</td>\n",
       "    </tr>\n",
       "    <tr>\n",
       "      <th>84545</th>\n",
       "      <td>PaymentScreenSuccessful</td>\n",
       "      <td>510822730682036735</td>\n",
       "      <td>1564825850</td>\n",
       "      <td>248</td>\n",
       "      <td>2019-08-03 09:50:50</td>\n",
       "      <td>2019-08-03</td>\n",
       "    </tr>\n",
       "    <tr>\n",
       "      <th>84546</th>\n",
       "      <td>PaymentScreenSuccessful</td>\n",
       "      <td>510822730682036735</td>\n",
       "      <td>1564825850</td>\n",
       "      <td>248</td>\n",
       "      <td>2019-08-03 09:50:50</td>\n",
       "      <td>2019-08-03</td>\n",
       "    </tr>\n",
       "    <tr>\n",
       "      <th>86618</th>\n",
       "      <td>MainScreenAppear</td>\n",
       "      <td>538346255722523869</td>\n",
       "      <td>1564829504</td>\n",
       "      <td>246</td>\n",
       "      <td>2019-08-03 10:51:44</td>\n",
       "      <td>2019-08-03</td>\n",
       "    </tr>\n",
       "    <tr>\n",
       "      <th>163986</th>\n",
       "      <td>MainScreenAppear</td>\n",
       "      <td>578778055564101635</td>\n",
       "      <td>1565017831</td>\n",
       "      <td>247</td>\n",
       "      <td>2019-08-05 15:10:31</td>\n",
       "      <td>2019-08-05</td>\n",
       "    </tr>\n",
       "    <tr>\n",
       "      <th>44074</th>\n",
       "      <td>PaymentScreenSuccessful</td>\n",
       "      <td>636437379427729086</td>\n",
       "      <td>1564726205</td>\n",
       "      <td>247</td>\n",
       "      <td>2019-08-02 06:10:05</td>\n",
       "      <td>2019-08-02</td>\n",
       "    </tr>\n",
       "    <tr>\n",
       "      <th>44075</th>\n",
       "      <td>PaymentScreenSuccessful</td>\n",
       "      <td>636437379427729086</td>\n",
       "      <td>1564726205</td>\n",
       "      <td>247</td>\n",
       "      <td>2019-08-02 06:10:05</td>\n",
       "      <td>2019-08-02</td>\n",
       "    </tr>\n",
       "    <tr>\n",
       "      <th>44077</th>\n",
       "      <td>PaymentScreenSuccessful</td>\n",
       "      <td>636437379427729086</td>\n",
       "      <td>1564726206</td>\n",
       "      <td>247</td>\n",
       "      <td>2019-08-02 06:10:06</td>\n",
       "      <td>2019-08-02</td>\n",
       "    </tr>\n",
       "    <tr>\n",
       "      <th>44078</th>\n",
       "      <td>PaymentScreenSuccessful</td>\n",
       "      <td>636437379427729086</td>\n",
       "      <td>1564726206</td>\n",
       "      <td>247</td>\n",
       "      <td>2019-08-02 06:10:06</td>\n",
       "      <td>2019-08-02</td>\n",
       "    </tr>\n",
       "    <tr>\n",
       "      <th>44079</th>\n",
       "      <td>PaymentScreenSuccessful</td>\n",
       "      <td>636437379427729086</td>\n",
       "      <td>1564726206</td>\n",
       "      <td>247</td>\n",
       "      <td>2019-08-02 06:10:06</td>\n",
       "      <td>2019-08-02</td>\n",
       "    </tr>\n",
       "    <tr>\n",
       "      <th>44073</th>\n",
       "      <td>PaymentScreenSuccessful</td>\n",
       "      <td>636437379427729086</td>\n",
       "      <td>1564726205</td>\n",
       "      <td>247</td>\n",
       "      <td>2019-08-02 06:10:05</td>\n",
       "      <td>2019-08-02</td>\n",
       "    </tr>\n",
       "    <tr>\n",
       "      <th>44080</th>\n",
       "      <td>PaymentScreenSuccessful</td>\n",
       "      <td>636437379427729086</td>\n",
       "      <td>1564726206</td>\n",
       "      <td>247</td>\n",
       "      <td>2019-08-02 06:10:06</td>\n",
       "      <td>2019-08-02</td>\n",
       "    </tr>\n",
       "    <tr>\n",
       "      <th>70387</th>\n",
       "      <td>MainScreenAppear</td>\n",
       "      <td>643792675919090543</td>\n",
       "      <td>1564772305</td>\n",
       "      <td>246</td>\n",
       "      <td>2019-08-02 18:58:25</td>\n",
       "      <td>2019-08-02</td>\n",
       "    </tr>\n",
       "    <tr>\n",
       "      <th>74544</th>\n",
       "      <td>MainScreenAppear</td>\n",
       "      <td>656563515679158310</td>\n",
       "      <td>1564788283</td>\n",
       "      <td>248</td>\n",
       "      <td>2019-08-02 23:24:43</td>\n",
       "      <td>2019-08-02</td>\n",
       "    </tr>\n",
       "    <tr>\n",
       "      <th>17763</th>\n",
       "      <td>MainScreenAppear</td>\n",
       "      <td>677967665205174414</td>\n",
       "      <td>1564660750</td>\n",
       "      <td>246</td>\n",
       "      <td>2019-08-01 11:59:10</td>\n",
       "      <td>2019-08-01</td>\n",
       "    </tr>\n",
       "    <tr>\n",
       "      <th>143113</th>\n",
       "      <td>MainScreenAppear</td>\n",
       "      <td>736519707444721968</td>\n",
       "      <td>1564981132</td>\n",
       "      <td>246</td>\n",
       "      <td>2019-08-05 04:58:52</td>\n",
       "      <td>2019-08-05</td>\n",
       "    </tr>\n",
       "    <tr>\n",
       "      <th>153039</th>\n",
       "      <td>PaymentScreenSuccessful</td>\n",
       "      <td>747706080571680169</td>\n",
       "      <td>1565001523</td>\n",
       "      <td>247</td>\n",
       "      <td>2019-08-05 10:38:43</td>\n",
       "      <td>2019-08-05</td>\n",
       "    </tr>\n",
       "    <tr>\n",
       "      <th>153036</th>\n",
       "      <td>PaymentScreenSuccessful</td>\n",
       "      <td>747706080571680169</td>\n",
       "      <td>1565001522</td>\n",
       "      <td>247</td>\n",
       "      <td>2019-08-05 10:38:42</td>\n",
       "      <td>2019-08-05</td>\n",
       "    </tr>\n",
       "    <tr>\n",
       "      <th>153035</th>\n",
       "      <td>PaymentScreenSuccessful</td>\n",
       "      <td>747706080571680169</td>\n",
       "      <td>1565001522</td>\n",
       "      <td>247</td>\n",
       "      <td>2019-08-05 10:38:42</td>\n",
       "      <td>2019-08-05</td>\n",
       "    </tr>\n",
       "    <tr>\n",
       "      <th>128932</th>\n",
       "      <td>PaymentScreenSuccessful</td>\n",
       "      <td>789235048114585398</td>\n",
       "      <td>1564930618</td>\n",
       "      <td>246</td>\n",
       "      <td>2019-08-04 14:56:58</td>\n",
       "      <td>2019-08-04</td>\n",
       "    </tr>\n",
       "    <tr>\n",
       "      <th>136430</th>\n",
       "      <td>CartScreenAppear</td>\n",
       "      <td>789235048114585398</td>\n",
       "      <td>1564942828</td>\n",
       "      <td>246</td>\n",
       "      <td>2019-08-04 18:20:28</td>\n",
       "      <td>2019-08-04</td>\n",
       "    </tr>\n",
       "    <tr>\n",
       "      <th>238473</th>\n",
       "      <td>CartScreenAppear</td>\n",
       "      <td>789235048114585398</td>\n",
       "      <td>1565197952</td>\n",
       "      <td>246</td>\n",
       "      <td>2019-08-07 17:12:32</td>\n",
       "      <td>2019-08-07</td>\n",
       "    </tr>\n",
       "    <tr>\n",
       "      <th>128931</th>\n",
       "      <td>PaymentScreenSuccessful</td>\n",
       "      <td>789235048114585398</td>\n",
       "      <td>1564930618</td>\n",
       "      <td>246</td>\n",
       "      <td>2019-08-04 14:56:58</td>\n",
       "      <td>2019-08-04</td>\n",
       "    </tr>\n",
       "    <tr>\n",
       "      <th>125426</th>\n",
       "      <td>OffersScreenAppear</td>\n",
       "      <td>867736847519709439</td>\n",
       "      <td>1564924453</td>\n",
       "      <td>246</td>\n",
       "      <td>2019-08-04 13:14:13</td>\n",
       "      <td>2019-08-04</td>\n",
       "    </tr>\n",
       "    <tr>\n",
       "      <th>235825</th>\n",
       "      <td>PaymentScreenSuccessful</td>\n",
       "      <td>877451560995731305</td>\n",
       "      <td>1565193887</td>\n",
       "      <td>247</td>\n",
       "      <td>2019-08-07 16:04:47</td>\n",
       "      <td>2019-08-07</td>\n",
       "    </tr>\n",
       "    <tr>\n",
       "      <th>225626</th>\n",
       "      <td>MainScreenAppear</td>\n",
       "      <td>901910488586804919</td>\n",
       "      <td>1565177488</td>\n",
       "      <td>248</td>\n",
       "      <td>2019-08-07 11:31:28</td>\n",
       "      <td>2019-08-07</td>\n",
       "    </tr>\n",
       "    <tr>\n",
       "      <th>225625</th>\n",
       "      <td>MainScreenAppear</td>\n",
       "      <td>901910488586804919</td>\n",
       "      <td>1565177488</td>\n",
       "      <td>248</td>\n",
       "      <td>2019-08-07 11:31:28</td>\n",
       "      <td>2019-08-07</td>\n",
       "    </tr>\n",
       "    <tr>\n",
       "      <th>225454</th>\n",
       "      <td>OffersScreenAppear</td>\n",
       "      <td>941985263376238712</td>\n",
       "      <td>1565177175</td>\n",
       "      <td>248</td>\n",
       "      <td>2019-08-07 11:26:15</td>\n",
       "      <td>2019-08-07</td>\n",
       "    </tr>\n",
       "    <tr>\n",
       "      <th>103070</th>\n",
       "      <td>CartScreenAppear</td>\n",
       "      <td>987620840339193594</td>\n",
       "      <td>1564855026</td>\n",
       "      <td>247</td>\n",
       "      <td>2019-08-03 17:57:06</td>\n",
       "      <td>2019-08-03</td>\n",
       "    </tr>\n",
       "    <tr>\n",
       "      <th>67252</th>\n",
       "      <td>PaymentScreenSuccessful</td>\n",
       "      <td>1035766790164458922</td>\n",
       "      <td>1564766012</td>\n",
       "      <td>246</td>\n",
       "      <td>2019-08-02 17:13:32</td>\n",
       "      <td>2019-08-02</td>\n",
       "    </tr>\n",
       "    <tr>\n",
       "      <th>99871</th>\n",
       "      <td>MainScreenAppear</td>\n",
       "      <td>1076256040994094004</td>\n",
       "      <td>1564849505</td>\n",
       "      <td>248</td>\n",
       "      <td>2019-08-03 16:25:05</td>\n",
       "      <td>2019-08-03</td>\n",
       "    </tr>\n",
       "    <tr>\n",
       "      <th>99863</th>\n",
       "      <td>MainScreenAppear</td>\n",
       "      <td>1076256040994094004</td>\n",
       "      <td>1564849485</td>\n",
       "      <td>248</td>\n",
       "      <td>2019-08-03 16:24:45</td>\n",
       "      <td>2019-08-03</td>\n",
       "    </tr>\n",
       "    <tr>\n",
       "      <th>81499</th>\n",
       "      <td>PaymentScreenSuccessful</td>\n",
       "      <td>1211886626193804462</td>\n",
       "      <td>1564821029</td>\n",
       "      <td>246</td>\n",
       "      <td>2019-08-03 08:30:29</td>\n",
       "      <td>2019-08-03</td>\n",
       "    </tr>\n",
       "  </tbody>\n",
       "</table>\n",
       "</div>"
      ],
      "text/plain": [
       "                     event_name              user_id  event_time  \\\n",
       "130558         MainScreenAppear    33176906322804559  1564933075   \n",
       "130995       OffersScreenAppear    33176906322804559  1564933763   \n",
       "104108         CartScreenAppear    34565258828294726  1564857221   \n",
       "159302  PaymentScreenSuccessful    54903596035630984  1565011672   \n",
       "176813  PaymentScreenSuccessful    77364241990273403  1565044732   \n",
       "189896         MainScreenAppear    91292479590032512  1565087723   \n",
       "155464         MainScreenAppear    95206628315371849  1565005724   \n",
       "110479         MainScreenAppear   170935625628929269  1564897487   \n",
       "34223          CartScreenAppear   197027893265565660  1564684544   \n",
       "17037          CartScreenAppear   197027893265565660  1564659614   \n",
       "112562         CartScreenAppear   197027893265565660  1564902904   \n",
       "144045         CartScreenAppear   197027893265565660  1564983860   \n",
       "23421          CartScreenAppear   197027893265565660  1564668928   \n",
       "220672         MainScreenAppear   252409739172511110  1565167797   \n",
       "235186         CartScreenAppear   299409047914517767  1565193055   \n",
       "32113   PaymentScreenSuccessful   366093607806007780  1564681254   \n",
       "3573           MainScreenAppear   434103746454591587  1564628377   \n",
       "42988          CartScreenAppear   438481114985016111  1564722577   \n",
       "84545   PaymentScreenSuccessful   510822730682036735  1564825850   \n",
       "84546   PaymentScreenSuccessful   510822730682036735  1564825850   \n",
       "86618          MainScreenAppear   538346255722523869  1564829504   \n",
       "163986         MainScreenAppear   578778055564101635  1565017831   \n",
       "44074   PaymentScreenSuccessful   636437379427729086  1564726205   \n",
       "44075   PaymentScreenSuccessful   636437379427729086  1564726205   \n",
       "44077   PaymentScreenSuccessful   636437379427729086  1564726206   \n",
       "44078   PaymentScreenSuccessful   636437379427729086  1564726206   \n",
       "44079   PaymentScreenSuccessful   636437379427729086  1564726206   \n",
       "44073   PaymentScreenSuccessful   636437379427729086  1564726205   \n",
       "44080   PaymentScreenSuccessful   636437379427729086  1564726206   \n",
       "70387          MainScreenAppear   643792675919090543  1564772305   \n",
       "74544          MainScreenAppear   656563515679158310  1564788283   \n",
       "17763          MainScreenAppear   677967665205174414  1564660750   \n",
       "143113         MainScreenAppear   736519707444721968  1564981132   \n",
       "153039  PaymentScreenSuccessful   747706080571680169  1565001523   \n",
       "153036  PaymentScreenSuccessful   747706080571680169  1565001522   \n",
       "153035  PaymentScreenSuccessful   747706080571680169  1565001522   \n",
       "128932  PaymentScreenSuccessful   789235048114585398  1564930618   \n",
       "136430         CartScreenAppear   789235048114585398  1564942828   \n",
       "238473         CartScreenAppear   789235048114585398  1565197952   \n",
       "128931  PaymentScreenSuccessful   789235048114585398  1564930618   \n",
       "125426       OffersScreenAppear   867736847519709439  1564924453   \n",
       "235825  PaymentScreenSuccessful   877451560995731305  1565193887   \n",
       "225626         MainScreenAppear   901910488586804919  1565177488   \n",
       "225625         MainScreenAppear   901910488586804919  1565177488   \n",
       "225454       OffersScreenAppear   941985263376238712  1565177175   \n",
       "103070         CartScreenAppear   987620840339193594  1564855026   \n",
       "67252   PaymentScreenSuccessful  1035766790164458922  1564766012   \n",
       "99871          MainScreenAppear  1076256040994094004  1564849505   \n",
       "99863          MainScreenAppear  1076256040994094004  1564849485   \n",
       "81499   PaymentScreenSuccessful  1211886626193804462  1564821029   \n",
       "\n",
       "        experiment_id            datetime       date  \n",
       "130558            248 2019-08-04 15:37:55 2019-08-04  \n",
       "130995            248 2019-08-04 15:49:23 2019-08-04  \n",
       "104108            248 2019-08-03 18:33:41 2019-08-03  \n",
       "159302            248 2019-08-05 13:27:52 2019-08-05  \n",
       "176813            246 2019-08-05 22:38:52 2019-08-05  \n",
       "189896            246 2019-08-06 10:35:23 2019-08-06  \n",
       "155464            247 2019-08-05 11:48:44 2019-08-05  \n",
       "110479            246 2019-08-04 05:44:47 2019-08-04  \n",
       "34223             246 2019-08-01 18:35:44 2019-08-01  \n",
       "17037             246 2019-08-01 11:40:14 2019-08-01  \n",
       "112562            246 2019-08-04 07:15:04 2019-08-04  \n",
       "144045            246 2019-08-05 05:44:20 2019-08-05  \n",
       "23421             246 2019-08-01 14:15:28 2019-08-01  \n",
       "220672            246 2019-08-07 08:49:57 2019-08-07  \n",
       "235186            248 2019-08-07 15:50:55 2019-08-07  \n",
       "32113             246 2019-08-01 17:40:54 2019-08-01  \n",
       "3573              248 2019-08-01 02:59:37 2019-08-01  \n",
       "42988             247 2019-08-02 05:09:37 2019-08-02  \n",
       "84545             248 2019-08-03 09:50:50 2019-08-03  \n",
       "84546             248 2019-08-03 09:50:50 2019-08-03  \n",
       "86618             246 2019-08-03 10:51:44 2019-08-03  \n",
       "163986            247 2019-08-05 15:10:31 2019-08-05  \n",
       "44074             247 2019-08-02 06:10:05 2019-08-02  \n",
       "44075             247 2019-08-02 06:10:05 2019-08-02  \n",
       "44077             247 2019-08-02 06:10:06 2019-08-02  \n",
       "44078             247 2019-08-02 06:10:06 2019-08-02  \n",
       "44079             247 2019-08-02 06:10:06 2019-08-02  \n",
       "44073             247 2019-08-02 06:10:05 2019-08-02  \n",
       "44080             247 2019-08-02 06:10:06 2019-08-02  \n",
       "70387             246 2019-08-02 18:58:25 2019-08-02  \n",
       "74544             248 2019-08-02 23:24:43 2019-08-02  \n",
       "17763             246 2019-08-01 11:59:10 2019-08-01  \n",
       "143113            246 2019-08-05 04:58:52 2019-08-05  \n",
       "153039            247 2019-08-05 10:38:43 2019-08-05  \n",
       "153036            247 2019-08-05 10:38:42 2019-08-05  \n",
       "153035            247 2019-08-05 10:38:42 2019-08-05  \n",
       "128932            246 2019-08-04 14:56:58 2019-08-04  \n",
       "136430            246 2019-08-04 18:20:28 2019-08-04  \n",
       "238473            246 2019-08-07 17:12:32 2019-08-07  \n",
       "128931            246 2019-08-04 14:56:58 2019-08-04  \n",
       "125426            246 2019-08-04 13:14:13 2019-08-04  \n",
       "235825            247 2019-08-07 16:04:47 2019-08-07  \n",
       "225626            248 2019-08-07 11:31:28 2019-08-07  \n",
       "225625            248 2019-08-07 11:31:28 2019-08-07  \n",
       "225454            248 2019-08-07 11:26:15 2019-08-07  \n",
       "103070            247 2019-08-03 17:57:06 2019-08-03  \n",
       "67252             246 2019-08-02 17:13:32 2019-08-02  \n",
       "99871             248 2019-08-03 16:25:05 2019-08-03  \n",
       "99863             248 2019-08-03 16:24:45 2019-08-03  \n",
       "81499             246 2019-08-03 08:30:29 2019-08-03  "
      ]
     },
     "execution_count": 11,
     "metadata": {},
     "output_type": "execute_result"
    }
   ],
   "source": [
    "# посмотрим дубликаты \n",
    "logs[logs.duplicated() == True].sort_values(by='user_id').head(50)"
   ]
  },
  {
   "cell_type": "code",
   "execution_count": null,
   "metadata": {
    "id": "HJm3rJQZE6xU"
   },
   "outputs": [],
   "source": [
    "# судя по таблице здесь встречаются явные дубликаты , причем повторяются даже по 6 раз. Я предлагаю удалить дубликаты\n",
    "logs = logs.drop_duplicates().reset_index()"
   ]
  },
  {
   "cell_type": "markdown",
   "metadata": {
    "id": "ezsPUQgjE6xU"
   },
   "source": [
    "**Вывод**  \n",
    "Мы провели основную предобработку данных и подготовили таблицу к дальнейшим исследованиям.  \n",
    "В рамках предобработки датафрейм был приведен в визуально пригодный вид. Были замененые наименования столбцов, добавлены столбцы с датами и временем, также приведены типы в соответствие. Дополнительно проверили на пропуски и избавились от дубликатов."
   ]
  },
  {
   "cell_type": "markdown",
   "metadata": {
    "id": "Sg-l2fIME6xU"
   },
   "source": [
    "## Проведем анализ А/А/В теста"
   ]
  },
  {
   "cell_type": "code",
   "execution_count": null,
   "metadata": {
    "id": "1fcrPPQzE6xV",
    "outputId": "2656662a-4661-4c07-e758-1beb5abd191a"
   },
   "outputs": [
    {
     "data": {
      "text/plain": [
       "243713"
      ]
     },
     "execution_count": 13,
     "metadata": {},
     "output_type": "execute_result"
    }
   ],
   "source": [
    "# посчитаем количество событий в логе\n",
    "logs['event_name'].count()"
   ]
  },
  {
   "cell_type": "code",
   "execution_count": null,
   "metadata": {
    "id": "ATw2UM-jE6xV",
    "outputId": "33239b67-e155-40bb-c8dd-2e5ac03ecff4"
   },
   "outputs": [
    {
     "data": {
      "text/plain": [
       "7551"
      ]
     },
     "execution_count": 14,
     "metadata": {},
     "output_type": "execute_result"
    }
   ],
   "source": [
    "# посчитаем сколько всего пользователей в логе: \n",
    "logs['user_id'].nunique()"
   ]
  },
  {
   "cell_type": "code",
   "execution_count": null,
   "metadata": {
    "id": "NYOPy9k5E6xV",
    "outputId": "6afdfe98-f734-471e-8357-0ab2f0d358ee"
   },
   "outputs": [
    {
     "data": {
      "text/plain": [
       "32.0"
      ]
     },
     "execution_count": 15,
     "metadata": {},
     "output_type": "execute_result"
    }
   ],
   "source": [
    "# количество событий в среднем на пользователя\n",
    "event_mean = logs['event_name'].count()/logs['user_id'].nunique()\n",
    "round(event_mean, 0)"
   ]
  },
  {
   "cell_type": "code",
   "execution_count": null,
   "metadata": {
    "id": "YNX6bUCHE6xV",
    "outputId": "8fe2fe11-4914-4806-ce92-0c191987d2c1"
   },
   "outputs": [
    {
     "name": "stdout",
     "output_type": "stream",
     "text": [
      "Максимальная дата: 2019-08-07 00:00:00\n",
      "Минимальная дата: 2019-07-25 00:00:00\n"
     ]
    }
   ],
   "source": [
    "# находим максимальную и минимальную дату\n",
    "print('Максимальная дата:', logs['date'].max())\n",
    "print('Минимальная дата:', logs['date'].min())"
   ]
  },
  {
   "cell_type": "code",
   "execution_count": null,
   "metadata": {
    "id": "DTfM7zCtE6xW",
    "outputId": "751ffd81-cc4d-4fa3-b70f-af9202aa46fe"
   },
   "outputs": [
    {
     "data": {
      "image/png": "[encoded data removed]",
      "text/plain": [
       "<Figure size 432x288 with 1 Axes>"
      ]
     },
     "metadata": {
      "needs_background": "light"
     },
     "output_type": "display_data"
    }
   ],
   "source": [
    "# построим гистограмму по дате и времени для анализа полноты данных\n",
    "logs['date'].hist(bins=15).set_title('Гистограмма по дате и времени')\n",
    "plt.xlabel('Дата')\n",
    "plt.ylabel('События')\n",
    "plt.xticks(rotation=90) \n",
    "plt.show()"
   ]
  },
  {
   "cell_type": "code",
   "execution_count": null,
   "metadata": {
    "id": "tqSouWy6E6xW",
    "outputId": "922b1f91-fc77-4d09-a66c-22341cd71fbe"
   },
   "outputs": [
    {
     "data": {
      "text/html": [
       "<div>\n",
       "<style scoped>\n",
       "    .dataframe tbody tr th:only-of-type {\n",
       "        vertical-align: middle;\n",
       "    }\n",
       "\n",
       "    .dataframe tbody tr th {\n",
       "        vertical-align: top;\n",
       "    }\n",
       "\n",
       "    .dataframe thead th {\n",
       "        text-align: right;\n",
       "    }\n",
       "</style>\n",
       "<table border=\"1\" class=\"dataframe\">\n",
       "  <thead>\n",
       "    <tr style=\"text-align: right;\">\n",
       "      <th></th>\n",
       "      <th>index</th>\n",
       "      <th>event_name</th>\n",
       "      <th>user_id</th>\n",
       "      <th>event_time</th>\n",
       "      <th>experiment_id</th>\n",
       "      <th>datetime</th>\n",
       "      <th>date</th>\n",
       "    </tr>\n",
       "  </thead>\n",
       "  <tbody>\n",
       "    <tr>\n",
       "      <th>0</th>\n",
       "      <td>0</td>\n",
       "      <td>MainScreenAppear</td>\n",
       "      <td>4575588528974610257</td>\n",
       "      <td>1564029816</td>\n",
       "      <td>246</td>\n",
       "      <td>2019-07-25 04:43:36</td>\n",
       "      <td>2019-07-25</td>\n",
       "    </tr>\n",
       "    <tr>\n",
       "      <th>1</th>\n",
       "      <td>1</td>\n",
       "      <td>MainScreenAppear</td>\n",
       "      <td>7416695313311560658</td>\n",
       "      <td>1564053102</td>\n",
       "      <td>246</td>\n",
       "      <td>2019-07-25 11:11:42</td>\n",
       "      <td>2019-07-25</td>\n",
       "    </tr>\n",
       "    <tr>\n",
       "      <th>2</th>\n",
       "      <td>2</td>\n",
       "      <td>PaymentScreenSuccessful</td>\n",
       "      <td>3518123091307005509</td>\n",
       "      <td>1564054127</td>\n",
       "      <td>248</td>\n",
       "      <td>2019-07-25 11:28:47</td>\n",
       "      <td>2019-07-25</td>\n",
       "    </tr>\n",
       "    <tr>\n",
       "      <th>3</th>\n",
       "      <td>3</td>\n",
       "      <td>CartScreenAppear</td>\n",
       "      <td>3518123091307005509</td>\n",
       "      <td>1564054127</td>\n",
       "      <td>248</td>\n",
       "      <td>2019-07-25 11:28:47</td>\n",
       "      <td>2019-07-25</td>\n",
       "    </tr>\n",
       "    <tr>\n",
       "      <th>4</th>\n",
       "      <td>4</td>\n",
       "      <td>PaymentScreenSuccessful</td>\n",
       "      <td>6217807653094995999</td>\n",
       "      <td>1564055322</td>\n",
       "      <td>248</td>\n",
       "      <td>2019-07-25 11:48:42</td>\n",
       "      <td>2019-07-25</td>\n",
       "    </tr>\n",
       "  </tbody>\n",
       "</table>\n",
       "</div>"
      ],
      "text/plain": [
       "   index               event_name              user_id  event_time  \\\n",
       "0      0         MainScreenAppear  4575588528974610257  1564029816   \n",
       "1      1         MainScreenAppear  7416695313311560658  1564053102   \n",
       "2      2  PaymentScreenSuccessful  3518123091307005509  1564054127   \n",
       "3      3         CartScreenAppear  3518123091307005509  1564054127   \n",
       "4      4  PaymentScreenSuccessful  6217807653094995999  1564055322   \n",
       "\n",
       "   experiment_id            datetime       date  \n",
       "0            246 2019-07-25 04:43:36 2019-07-25  \n",
       "1            246 2019-07-25 11:11:42 2019-07-25  \n",
       "2            248 2019-07-25 11:28:47 2019-07-25  \n",
       "3            248 2019-07-25 11:28:47 2019-07-25  \n",
       "4            248 2019-07-25 11:48:42 2019-07-25  "
      ]
     },
     "execution_count": 18,
     "metadata": {},
     "output_type": "execute_result"
    }
   ],
   "source": [
    "logs.head()"
   ]
  },
  {
   "cell_type": "markdown",
   "metadata": {
    "id": "XYqq3IC2E6xW"
   },
   "source": [
    "**Краткий вывод**  \n",
    "Исходя из графика можно сделать вывод, что видимо \"доезжают\" данные к 1.08.2019 и с этой даты данные полные. Я хочу отбросить данные с минимальной даты (25.07.2019) и до 1.08.2019. Здесь уже видно, что на самом деле я располагаю данными за период с 1.08.2019 по 7.08.2019. "
   ]
  },
  {
   "cell_type": "code",
   "execution_count": null,
   "metadata": {
    "id": "3n7bcWlkE6xW",
    "outputId": "abc365d2-6009-4467-9c37-3af874f04c9c"
   },
   "outputs": [
    {
     "data": {
      "image/png": "[encoded data removed]",
      "text/plain": [
       "<Figure size 432x288 with 1 Axes>"
      ]
     },
     "metadata": {
      "needs_background": "light"
     },
     "output_type": "display_data"
    }
   ],
   "source": [
    "# отсекаю период до 1.08.2019 и строю новую гистограмму\n",
    "logs_query_date = logs.query('date > \"2019-07-31\"')\n",
    "logs_query_date['date'].hist(bins=7).set_title('Гистограмма по дате и времени после среза')\n",
    "plt.xlabel('Дата')\n",
    "plt.ylabel('События')\n",
    "plt.xticks(rotation=90) \n",
    "plt.show()"
   ]
  },
  {
   "cell_type": "markdown",
   "metadata": {
    "id": "4uKhIiTcE6xW"
   },
   "source": [
    "**Краткий вывод**  \n",
    "Здесь уже одноуровневое распределение получилось, и гистограмма подтвердила мою мысль, что я на самом деле располагаю данными за период с 1.08.2019 по 7.08.2019. "
   ]
  },
  {
   "cell_type": "code",
   "execution_count": null,
   "metadata": {
    "id": "oHuCqZzwE6xX",
    "outputId": "1a725bf1-2daf-4042-fd40-b02dfb6c12d0"
   },
   "outputs": [
    {
     "name": "stdout",
     "output_type": "stream",
     "text": [
      "Количество событий: 2826\n"
     ]
    }
   ],
   "source": [
    "# посчитаем сколько событий и пользователей потеряли после среза\n",
    "print('Количество событий:', logs['date'].count() - logs_query_date['date'].count())"
   ]
  },
  {
   "cell_type": "code",
   "execution_count": null,
   "metadata": {
    "id": "wT8UIj13E6xX",
    "outputId": "44070eda-48e3-46a5-8d99-5017fd06ddda"
   },
   "outputs": [
    {
     "name": "stdout",
     "output_type": "stream",
     "text": [
      "Количество пользователей: 17\n"
     ]
    }
   ],
   "source": [
    "print('Количество пользователей:', logs['user_id'].nunique() - logs_query_date['user_id'].nunique())"
   ]
  },
  {
   "cell_type": "code",
   "execution_count": null,
   "metadata": {
    "id": "CSq1jMJPE6xX",
    "outputId": "1adeafeb-4498-4447-8f61-eb3f9da37682"
   },
   "outputs": [
    {
     "name": "stdout",
     "output_type": "stream",
     "text": [
      "Процент событий, которые мы удалили, от наших данных: 1.16 %\n"
     ]
    }
   ],
   "source": [
    "# посчитаем это в % соотношении от наших данных в части событий: \n",
    "share_events = round(100 - (logs_query_date['date'].count() / logs['date'].count() * 100),2)\n",
    "print('Процент событий, которые мы удалили, от наших данных:', share_events, '%')"
   ]
  },
  {
   "cell_type": "code",
   "execution_count": null,
   "metadata": {
    "id": "qA9DBn27E6xX",
    "outputId": "9bd1f13e-0791-4b60-db31-0d25e515f70a"
   },
   "outputs": [
    {
     "name": "stdout",
     "output_type": "stream",
     "text": [
      "Процент пользователей, которых мы удалили, от наших данных: 0.23 %\n"
     ]
    }
   ],
   "source": [
    "# посчитаем это в % соотношении от наших данных в части пользователей: \n",
    "share_users = round(100 - (len(logs_query_date['user_id'].unique()) / len(logs['user_id'].unique()) * 100),2)\n",
    "print('Процент пользователей, которых мы удалили, от наших данных:', share_users, '%')"
   ]
  },
  {
   "cell_type": "code",
   "execution_count": null,
   "metadata": {
    "id": "zDFNe9_2E6xY",
    "outputId": "edd7da0e-9442-47ba-9545-fd013e853dda",
    "scrolled": true
   },
   "outputs": [
    {
     "data": {
      "text/plain": [
       "248    84563\n",
       "246    79302\n",
       "247    77022\n",
       "Name: experiment_id, dtype: int64"
      ]
     },
     "execution_count": 24,
     "metadata": {},
     "output_type": "execute_result"
    }
   ],
   "source": [
    "# проверим наличие пользователей в группах\n",
    "logs_query_date['experiment_id'].value_counts()"
   ]
  },
  {
   "cell_type": "code",
   "execution_count": null,
   "metadata": {
    "id": "z4-KHVoqE6xY",
    "outputId": "69d7cd00-082b-4f90-cde6-f999e5d6f5ba"
   },
   "outputs": [
    {
     "data": {
      "text/plain": [
       "experiment_id\n",
       "246    2484\n",
       "247    2513\n",
       "248    2537\n",
       "Name: user_id, dtype: int64"
      ]
     },
     "execution_count": 25,
     "metadata": {},
     "output_type": "execute_result"
    }
   ],
   "source": [
    "logs_query_date.groupby('experiment_id')['user_id'].nunique()"
   ]
  },
  {
   "cell_type": "markdown",
   "metadata": {
    "id": "9uesjRPOE6xY"
   },
   "source": [
    "Пользователей в каждой группе по 2.5 тысячи (разница между ними не значительна) "
   ]
  },
  {
   "cell_type": "markdown",
   "metadata": {
    "id": "4sBUdevVE6xZ"
   },
   "source": [
    "**Краткий вывод**  \n",
    "Мы провели не большой анализ по датам, определили временной период, в котором располагаются \"полные\" данные (с 1.08.2019 по 7.08.2019)отбросили период с не полными данными (с 25.07.2019 до 1.08.2019) Определили, что отбросив период с 25.07.2019 до 1.08.2019 мы потеряли 2826 событий и 17 пользователей. После проверки наличия пользователяй в наблюдаемых группах, мы можем далее продолжать исследование."
   ]
  },
  {
   "cell_type": "markdown",
   "metadata": {
    "id": "ppfPdqWqE6xZ"
   },
   "source": [
    "### Изучим воронку событий"
   ]
  },
  {
   "cell_type": "code",
   "execution_count": null,
   "metadata": {
    "id": "JXei_GT_E6xZ"
   },
   "outputs": [],
   "source": [
    "logs = logs_query_date"
   ]
  },
  {
   "cell_type": "code",
   "execution_count": null,
   "metadata": {
    "id": "q-bJwAGLE6xZ",
    "outputId": "77e07ee0-1c03-4944-f8fc-27584c3c5a57"
   },
   "outputs": [
    {
     "data": {
      "text/html": [
       "<div>\n",
       "<style scoped>\n",
       "    .dataframe tbody tr th:only-of-type {\n",
       "        vertical-align: middle;\n",
       "    }\n",
       "\n",
       "    .dataframe tbody tr th {\n",
       "        vertical-align: top;\n",
       "    }\n",
       "\n",
       "    .dataframe thead th {\n",
       "        text-align: right;\n",
       "    }\n",
       "</style>\n",
       "<table border=\"1\" class=\"dataframe\">\n",
       "  <thead>\n",
       "    <tr style=\"text-align: right;\">\n",
       "      <th></th>\n",
       "      <th>index</th>\n",
       "      <th>event_name</th>\n",
       "      <th>user_id</th>\n",
       "      <th>event_time</th>\n",
       "      <th>experiment_id</th>\n",
       "      <th>datetime</th>\n",
       "      <th>date</th>\n",
       "    </tr>\n",
       "  </thead>\n",
       "  <tbody>\n",
       "    <tr>\n",
       "      <th>2826</th>\n",
       "      <td>2828</td>\n",
       "      <td>Tutorial</td>\n",
       "      <td>3737462046622621720</td>\n",
       "      <td>1564618048</td>\n",
       "      <td>246</td>\n",
       "      <td>2019-08-01 00:07:28</td>\n",
       "      <td>2019-08-01</td>\n",
       "    </tr>\n",
       "    <tr>\n",
       "      <th>2827</th>\n",
       "      <td>2829</td>\n",
       "      <td>MainScreenAppear</td>\n",
       "      <td>3737462046622621720</td>\n",
       "      <td>1564618080</td>\n",
       "      <td>246</td>\n",
       "      <td>2019-08-01 00:08:00</td>\n",
       "      <td>2019-08-01</td>\n",
       "    </tr>\n",
       "    <tr>\n",
       "      <th>2828</th>\n",
       "      <td>2830</td>\n",
       "      <td>MainScreenAppear</td>\n",
       "      <td>3737462046622621720</td>\n",
       "      <td>1564618135</td>\n",
       "      <td>246</td>\n",
       "      <td>2019-08-01 00:08:55</td>\n",
       "      <td>2019-08-01</td>\n",
       "    </tr>\n",
       "    <tr>\n",
       "      <th>2829</th>\n",
       "      <td>2831</td>\n",
       "      <td>OffersScreenAppear</td>\n",
       "      <td>3737462046622621720</td>\n",
       "      <td>1564618138</td>\n",
       "      <td>246</td>\n",
       "      <td>2019-08-01 00:08:58</td>\n",
       "      <td>2019-08-01</td>\n",
       "    </tr>\n",
       "    <tr>\n",
       "      <th>2830</th>\n",
       "      <td>2832</td>\n",
       "      <td>MainScreenAppear</td>\n",
       "      <td>1433840883824088890</td>\n",
       "      <td>1564618139</td>\n",
       "      <td>247</td>\n",
       "      <td>2019-08-01 00:08:59</td>\n",
       "      <td>2019-08-01</td>\n",
       "    </tr>\n",
       "  </tbody>\n",
       "</table>\n",
       "</div>"
      ],
      "text/plain": [
       "      index          event_name              user_id  event_time  \\\n",
       "2826   2828            Tutorial  3737462046622621720  1564618048   \n",
       "2827   2829    MainScreenAppear  3737462046622621720  1564618080   \n",
       "2828   2830    MainScreenAppear  3737462046622621720  1564618135   \n",
       "2829   2831  OffersScreenAppear  3737462046622621720  1564618138   \n",
       "2830   2832    MainScreenAppear  1433840883824088890  1564618139   \n",
       "\n",
       "      experiment_id            datetime       date  \n",
       "2826            246 2019-08-01 00:07:28 2019-08-01  \n",
       "2827            246 2019-08-01 00:08:00 2019-08-01  \n",
       "2828            246 2019-08-01 00:08:55 2019-08-01  \n",
       "2829            246 2019-08-01 00:08:58 2019-08-01  \n",
       "2830            247 2019-08-01 00:08:59 2019-08-01  "
      ]
     },
     "execution_count": 27,
     "metadata": {},
     "output_type": "execute_result"
    }
   ],
   "source": [
    "logs.head(5)"
   ]
  },
  {
   "cell_type": "code",
   "execution_count": null,
   "metadata": {
    "id": "HwKfCxqcE6xZ",
    "outputId": "2ffeba0c-9255-4c5e-b019-18c97fb9a2d7"
   },
   "outputs": [
    {
     "data": {
      "text/plain": [
       "MainScreenAppear           117328\n",
       "OffersScreenAppear          46333\n",
       "CartScreenAppear            42303\n",
       "PaymentScreenSuccessful     33918\n",
       "Tutorial                     1005\n",
       "Name: event_name, dtype: int64"
      ]
     },
     "execution_count": 28,
     "metadata": {},
     "output_type": "execute_result"
    }
   ],
   "source": [
    "# посчитаем события по наименованию и отсортируем\n",
    "logs['event_name'].value_counts()"
   ]
  },
  {
   "cell_type": "code",
   "execution_count": null,
   "metadata": {
    "id": "7Gl2ZqmDE6xZ",
    "outputId": "44c8b5b4-e491-440b-92d4-06b6be5aac48"
   },
   "outputs": [
    {
     "data": {
      "text/html": [
       "<div>\n",
       "<style scoped>\n",
       "    .dataframe tbody tr th:only-of-type {\n",
       "        vertical-align: middle;\n",
       "    }\n",
       "\n",
       "    .dataframe tbody tr th {\n",
       "        vertical-align: top;\n",
       "    }\n",
       "\n",
       "    .dataframe thead th {\n",
       "        text-align: right;\n",
       "    }\n",
       "</style>\n",
       "<table border=\"1\" class=\"dataframe\">\n",
       "  <thead>\n",
       "    <tr style=\"text-align: right;\">\n",
       "      <th></th>\n",
       "      <th>event_name</th>\n",
       "      <th>event_count</th>\n",
       "      <th>user_id</th>\n",
       "      <th>share_%</th>\n",
       "    </tr>\n",
       "  </thead>\n",
       "  <tbody>\n",
       "    <tr>\n",
       "      <th>0</th>\n",
       "      <td>MainScreenAppear</td>\n",
       "      <td>117328</td>\n",
       "      <td>7419</td>\n",
       "      <td>98.47</td>\n",
       "    </tr>\n",
       "    <tr>\n",
       "      <th>1</th>\n",
       "      <td>OffersScreenAppear</td>\n",
       "      <td>46333</td>\n",
       "      <td>4593</td>\n",
       "      <td>60.96</td>\n",
       "    </tr>\n",
       "    <tr>\n",
       "      <th>2</th>\n",
       "      <td>CartScreenAppear</td>\n",
       "      <td>42303</td>\n",
       "      <td>3734</td>\n",
       "      <td>49.56</td>\n",
       "    </tr>\n",
       "    <tr>\n",
       "      <th>3</th>\n",
       "      <td>PaymentScreenSuccessful</td>\n",
       "      <td>33918</td>\n",
       "      <td>3539</td>\n",
       "      <td>46.97</td>\n",
       "    </tr>\n",
       "    <tr>\n",
       "      <th>4</th>\n",
       "      <td>Tutorial</td>\n",
       "      <td>1005</td>\n",
       "      <td>840</td>\n",
       "      <td>11.15</td>\n",
       "    </tr>\n",
       "  </tbody>\n",
       "</table>\n",
       "</div>"
      ],
      "text/plain": [
       "                event_name  event_count  user_id  share_%\n",
       "0         MainScreenAppear       117328     7419    98.47\n",
       "1       OffersScreenAppear        46333     4593    60.96\n",
       "2         CartScreenAppear        42303     3734    49.56\n",
       "3  PaymentScreenSuccessful        33918     3539    46.97\n",
       "4                 Tutorial         1005      840    11.15"
      ]
     },
     "execution_count": 29,
     "metadata": {},
     "output_type": "execute_result"
    }
   ],
   "source": [
    "# считаем количество пользователей совершивших хотя бы одно событие и их долю\n",
    "user_events = (logs.groupby('event_name').agg({'event_name' : 'count', 'user_id' : 'nunique'})\n",
    "                                         .sort_values(by = 'user_id', ascending=False))\n",
    "user_events['share_%'] = round((user_events['user_id'] / logs['user_id'].nunique() * 100), 2)\n",
    "user_events.columns = ['event_count', 'user_id', 'share_%']\n",
    "user_events = user_events.reset_index()\n",
    "user_events"
   ]
  },
  {
   "cell_type": "markdown",
   "metadata": {
    "id": "k3Q6RHBdE6xZ"
   },
   "source": [
    "Первоначально я переведу события:  \n",
    "MainScreenAppear - На главный экран  \n",
    "OffersScreenAppear - Предложение  \n",
    "CartScreenAppear - Корзина  \n",
    "PaymentScreenSuccessful\t- Оплата  \n",
    "Tutorial - Обучение  \n",
    "Воронка в целом так и выстраивается: сначала пользователь идет на главный экран (MainScreenAppear), далее выбирает товар (OffersScreenAppear) и после идет в корзину (CartScreenAppear). Там он совершает оплату (PaymentScreenSuccessful). Выше в нашей табличке отсортированной по пользователям как раз и выстраивается классическая воронка продаж. Выбивается только шаг \"обучение\", обычно он является первым шагом и тогда по идее должно быть там самое большое количество пользователей, но думаю обучение не является обязательным шагом и его многие пропускают. "
   ]
  },
  {
   "cell_type": "code",
   "execution_count": null,
   "metadata": {
    "id": "ooyJd2roE6xa",
    "outputId": "f752ead4-7fc5-4bcf-ba7f-b10cf54b644d"
   },
   "outputs": [
    {
     "data": {
      "image/png": "[encoded data removed]",
      "text/plain": [
       "<Figure size 1080x720 with 1 Axes>"
      ]
     },
     "metadata": {
      "needs_background": "light"
     },
     "output_type": "display_data"
    }
   ],
   "source": [
    "# визуализируем мой вывод и подтвердим ненужность данных в событии \"Tutorial\"\n",
    "event_grafic = user_events.pivot_table(index='event_name', values='share_%', aggfunc='sum').sort_values(\n",
    "    by='share_%', ascending=False)\n",
    "plt.figure(figsize=(15,10))\n",
    "sns.barplot(x=event_grafic.index,y=event_grafic['share_%'])\n",
    "plt.title('Количество пользователей по событиям')\n",
    "plt.xlabel('Название события')\n",
    "plt.ylabel('Количество пользователей %')\n",
    "plt.show()"
   ]
  },
  {
   "cell_type": "markdown",
   "metadata": {
    "id": "ciJvfMJcE6xa"
   },
   "source": [
    "Предыдущий мой вывод подтвердился, я думаю что можно убрать событие \"Tutorial\" для построения воронки событий с долями пользователя перешедших из каждого этапа."
   ]
  },
  {
   "cell_type": "code",
   "execution_count": null,
   "metadata": {
    "id": "GUHj1tJnE6xa",
    "outputId": "0bc0c06f-179f-4516-e73a-481ee9656f97"
   },
   "outputs": [
    {
     "name": "stderr",
     "output_type": "stream",
     "text": [
      "/tmp/ipykernel_63/38324791.py:3: SettingWithCopyWarning: \n",
      "A value is trying to be set on a copy of a slice from a DataFrame.\n",
      "Try using .loc[row_indexer,col_indexer] = value instead\n",
      "\n",
      "See the caveats in the documentation: https://pandas.pydata.org/pandas-docs/stable/user_guide/indexing.html#returning-a-view-versus-a-copy\n",
      "  user_events['conversion'] = 0\n",
      "/opt/conda/lib/python3.9/site-packages/pandas/core/indexing.py:1637: SettingWithCopyWarning: \n",
      "A value is trying to be set on a copy of a slice from a DataFrame\n",
      "\n",
      "See the caveats in the documentation: https://pandas.pydata.org/pandas-docs/stable/user_guide/indexing.html#returning-a-view-versus-a-copy\n",
      "  self._setitem_single_block(indexer, value, name)\n",
      "/opt/conda/lib/python3.9/site-packages/pandas/core/indexing.py:692: SettingWithCopyWarning: \n",
      "A value is trying to be set on a copy of a slice from a DataFrame\n",
      "\n",
      "See the caveats in the documentation: https://pandas.pydata.org/pandas-docs/stable/user_guide/indexing.html#returning-a-view-versus-a-copy\n",
      "  iloc._setitem_with_indexer(indexer, value, self.name)\n"
     ]
    },
    {
     "data": {
      "text/html": [
       "<div>\n",
       "<style scoped>\n",
       "    .dataframe tbody tr th:only-of-type {\n",
       "        vertical-align: middle;\n",
       "    }\n",
       "\n",
       "    .dataframe tbody tr th {\n",
       "        vertical-align: top;\n",
       "    }\n",
       "\n",
       "    .dataframe thead th {\n",
       "        text-align: right;\n",
       "    }\n",
       "</style>\n",
       "<table border=\"1\" class=\"dataframe\">\n",
       "  <thead>\n",
       "    <tr style=\"text-align: right;\">\n",
       "      <th></th>\n",
       "      <th>event_name</th>\n",
       "      <th>event_count</th>\n",
       "      <th>user_id</th>\n",
       "      <th>share_%</th>\n",
       "      <th>conversion</th>\n",
       "    </tr>\n",
       "  </thead>\n",
       "  <tbody>\n",
       "    <tr>\n",
       "      <th>0</th>\n",
       "      <td>MainScreenAppear</td>\n",
       "      <td>117328</td>\n",
       "      <td>7419</td>\n",
       "      <td>98.47</td>\n",
       "      <td>100</td>\n",
       "    </tr>\n",
       "    <tr>\n",
       "      <th>1</th>\n",
       "      <td>OffersScreenAppear</td>\n",
       "      <td>46333</td>\n",
       "      <td>4593</td>\n",
       "      <td>60.96</td>\n",
       "      <td>62</td>\n",
       "    </tr>\n",
       "    <tr>\n",
       "      <th>2</th>\n",
       "      <td>CartScreenAppear</td>\n",
       "      <td>42303</td>\n",
       "      <td>3734</td>\n",
       "      <td>49.56</td>\n",
       "      <td>81</td>\n",
       "    </tr>\n",
       "    <tr>\n",
       "      <th>3</th>\n",
       "      <td>PaymentScreenSuccessful</td>\n",
       "      <td>33918</td>\n",
       "      <td>3539</td>\n",
       "      <td>46.97</td>\n",
       "      <td>95</td>\n",
       "    </tr>\n",
       "  </tbody>\n",
       "</table>\n",
       "</div>"
      ],
      "text/plain": [
       "                event_name  event_count  user_id  share_%  conversion\n",
       "0         MainScreenAppear       117328     7419    98.47         100\n",
       "1       OffersScreenAppear        46333     4593    60.96          62\n",
       "2         CartScreenAppear        42303     3734    49.56          81\n",
       "3  PaymentScreenSuccessful        33918     3539    46.97          95"
      ]
     },
     "execution_count": 31,
     "metadata": {},
     "output_type": "execute_result"
    }
   ],
   "source": [
    "# посчитаем конверсию каждого шага в воронке, но перед этим избавимся от события \"Tutorial\"\n",
    "user_events = user_events.iloc[:-1, :]\n",
    "user_events['conversion'] = 0\n",
    "for i in range(0, len(user_events['share_%'])):\n",
    "    if i == 0:\n",
    "        user_events['conversion'].iloc[i] = 100\n",
    "    else:\n",
    "        user_events['conversion'].iloc[i] = round(int(user_events['user_id'].iloc[i])\n",
    "                                                  / int(user_events['user_id'].iloc[i-1]), 2)*100\n",
    "user_events\n"
   ]
  },
  {
   "cell_type": "code",
   "execution_count": null,
   "metadata": {},
   "outputs": [],
   "source": [
    "# еще на основе таблицы построим визуализацию: \n",
    "fig = go.Figure(go.Funnel(x = user_events['conversion'],\n",
    "                          y = user_events['event_name'],\n",
    "                          textinfo = 'percent initial',\n",
    "                          hoverinfo = 'percent initial'))\n",
    "fig.update_layout(title='Воронка событий с конверсией каждого шага')\n",
    "fig.show();"
   ]
  },
  {
   "attachments": {
    "newplot.png": {
     "image/png": "[encoded data removed]"
    }
   },
   "cell_type": "markdown",
   "metadata": {},
   "source": [
    "![newplot.png](attachment:newplot.png)"
   ]
  },
  {
   "cell_type": "code",
   "execution_count": null,
   "metadata": {},
   "outputs": [],
   "source": [
    "# и построим такую же воронку для наглядности по конверсии с первого шага до оплаты\n",
    "fig = go.Figure(go.Funnel(x = user_events['share_%'], \n",
    "                          y = user_events['event_name'],\n",
    "                          hoverinfo = 'x'))\n",
    "                          \n",
    "fig.update_layout(title='Воронка событий с показателем конверсии от начального шага')\n",
    "fig.show();"
   ]
  },
  {
   "attachments": {
    "newplot%20%281%29.png": {
     "image/png": "[encoded data removed]"
    }
   },
   "cell_type": "markdown",
   "metadata": {},
   "source": [
    "![newplot%20%281%29.png](attachment:newplot%20%281%29.png)"
   ]
  },
  {
   "cell_type": "markdown",
   "metadata": {
    "id": "Fvu-kDE6E6xb"
   },
   "source": [
    "**Вывод**\n",
    "Мы расчитали конверсию с этапа когда пользователи открывают главную страницу и до оплаты, а также отношения последующего этапа к предыдущему. Построили визуализацию по воронкам событий. Что мы увидели :  \n",
    "1. можно избавится от события \"Tutorial\" по причине того, что вероятнее всего это не обязательный шаг, очень мало пользователей на него заходит. И соответствеено их действия не взаимосвязаны с дальнейшей покупкой.  \n",
    "2. На этапе выбора товара \"OffersScreenAppear\" заметна достаточно большая просадка по пользователям - 38%. Получается только 62% от всех тех кто зашел в приложение доходят до выбора товара. Остальные просто возможно пролистывают и уходят.  \n",
    "3. Если рассмотреть событийную воронку от этапа захода на главную страницу приложения и до покупки, то мы видим, что 46,97% пользователей которые пришли в приложение дошли до оплаты. Это почти половина, с учетом того что 38% теряются на этапе перехода выбора товара, выглядит достаточно не плохо.\n",
    "-- Рекомендация отделу маркетинга -- стоит на этапе захода пользователя поработать над каким-либо предложением или всплывающим окном для увеличения заинтересованности пользователя и перехода его в следующий этап. Также возможно нужно поработать над товарной номенклатурой (послкольку возможно пользователь просто не находит то, что ему нужно). Дополнительно можно обратится к разработчикам и попросить проанализировать с технической стороны этот этап. Возможно есть технические сложности или ошибки, которые мешают пользователям перейти на следующий этап.\n",
    "Далее конверсия от этапа к этапу увеличивается и дает нам 95% всех тех пользователей кто добавил в корзину товар перейти к оплате.  "
   ]
  },
  {
   "cell_type": "markdown",
   "metadata": {
    "id": "TAHmA-8KE6xc"
   },
   "source": [
    "### Изучим результаты эксперимента"
   ]
  },
  {
   "cell_type": "code",
   "execution_count": null,
   "metadata": {
    "id": "hw8iw6d4E6xc",
    "outputId": "899ddf6c-06d5-463e-883c-47ff1e725752"
   },
   "outputs": [
    {
     "data": {
      "text/html": [
       "<div>\n",
       "<style scoped>\n",
       "    .dataframe tbody tr th:only-of-type {\n",
       "        vertical-align: middle;\n",
       "    }\n",
       "\n",
       "    .dataframe tbody tr th {\n",
       "        vertical-align: top;\n",
       "    }\n",
       "\n",
       "    .dataframe thead th {\n",
       "        text-align: right;\n",
       "    }\n",
       "</style>\n",
       "<table border=\"1\" class=\"dataframe\">\n",
       "  <thead>\n",
       "    <tr style=\"text-align: right;\">\n",
       "      <th></th>\n",
       "      <th>index</th>\n",
       "      <th>event_name</th>\n",
       "      <th>user_id</th>\n",
       "      <th>event_time</th>\n",
       "      <th>experiment_id</th>\n",
       "      <th>datetime</th>\n",
       "      <th>date</th>\n",
       "    </tr>\n",
       "  </thead>\n",
       "  <tbody>\n",
       "    <tr>\n",
       "      <th>2826</th>\n",
       "      <td>2828</td>\n",
       "      <td>Tutorial</td>\n",
       "      <td>3737462046622621720</td>\n",
       "      <td>1564618048</td>\n",
       "      <td>246</td>\n",
       "      <td>2019-08-01 00:07:28</td>\n",
       "      <td>2019-08-01</td>\n",
       "    </tr>\n",
       "    <tr>\n",
       "      <th>2827</th>\n",
       "      <td>2829</td>\n",
       "      <td>MainScreenAppear</td>\n",
       "      <td>3737462046622621720</td>\n",
       "      <td>1564618080</td>\n",
       "      <td>246</td>\n",
       "      <td>2019-08-01 00:08:00</td>\n",
       "      <td>2019-08-01</td>\n",
       "    </tr>\n",
       "    <tr>\n",
       "      <th>2828</th>\n",
       "      <td>2830</td>\n",
       "      <td>MainScreenAppear</td>\n",
       "      <td>3737462046622621720</td>\n",
       "      <td>1564618135</td>\n",
       "      <td>246</td>\n",
       "      <td>2019-08-01 00:08:55</td>\n",
       "      <td>2019-08-01</td>\n",
       "    </tr>\n",
       "    <tr>\n",
       "      <th>2829</th>\n",
       "      <td>2831</td>\n",
       "      <td>OffersScreenAppear</td>\n",
       "      <td>3737462046622621720</td>\n",
       "      <td>1564618138</td>\n",
       "      <td>246</td>\n",
       "      <td>2019-08-01 00:08:58</td>\n",
       "      <td>2019-08-01</td>\n",
       "    </tr>\n",
       "    <tr>\n",
       "      <th>2830</th>\n",
       "      <td>2832</td>\n",
       "      <td>MainScreenAppear</td>\n",
       "      <td>1433840883824088890</td>\n",
       "      <td>1564618139</td>\n",
       "      <td>247</td>\n",
       "      <td>2019-08-01 00:08:59</td>\n",
       "      <td>2019-08-01</td>\n",
       "    </tr>\n",
       "  </tbody>\n",
       "</table>\n",
       "</div>"
      ],
      "text/plain": [
       "      index          event_name              user_id  event_time  \\\n",
       "2826   2828            Tutorial  3737462046622621720  1564618048   \n",
       "2827   2829    MainScreenAppear  3737462046622621720  1564618080   \n",
       "2828   2830    MainScreenAppear  3737462046622621720  1564618135   \n",
       "2829   2831  OffersScreenAppear  3737462046622621720  1564618138   \n",
       "2830   2832    MainScreenAppear  1433840883824088890  1564618139   \n",
       "\n",
       "      experiment_id            datetime       date  \n",
       "2826            246 2019-08-01 00:07:28 2019-08-01  \n",
       "2827            246 2019-08-01 00:08:00 2019-08-01  \n",
       "2828            246 2019-08-01 00:08:55 2019-08-01  \n",
       "2829            246 2019-08-01 00:08:58 2019-08-01  \n",
       "2830            247 2019-08-01 00:08:59 2019-08-01  "
      ]
     },
     "execution_count": 34,
     "metadata": {},
     "output_type": "execute_result"
    }
   ],
   "source": [
    "logs.head()"
   ]
  },
  {
   "cell_type": "code",
   "execution_count": null,
   "metadata": {
    "id": "QwNv2-m-E6xc",
    "outputId": "4062b602-2b6b-4306-86c4-2d929dd2494c"
   },
   "outputs": [
    {
     "data": {
      "text/plain": [
       "experiment_id\n",
       "246    2484\n",
       "247    2513\n",
       "248    2537\n",
       "249    4997\n",
       "Name: user_id, dtype: int64"
      ]
     },
     "execution_count": 35,
     "metadata": {},
     "output_type": "execute_result"
    }
   ],
   "source": [
    "# посмотрим сколько пользователей в группах: \n",
    "users_group = logs.groupby('experiment_id')['user_id'].nunique()\n",
    "users_group[249] = users_group[246] + users_group[247]\n",
    "users_group"
   ]
  },
  {
   "cell_type": "markdown",
   "metadata": {
    "id": "6IQFst5iE6xc"
   },
   "source": [
    "Разбивка можно сказать равная, пользователи между группами распределены почти одинаково. "
   ]
  },
  {
   "cell_type": "code",
   "execution_count": null,
   "metadata": {
    "id": "jtdV74y4E6xc",
    "outputId": "c8092798-e45a-43bd-fb68-c69e3238852a"
   },
   "outputs": [
    {
     "data": {
      "text/html": [
       "<div>\n",
       "<style scoped>\n",
       "    .dataframe tbody tr th:only-of-type {\n",
       "        vertical-align: middle;\n",
       "    }\n",
       "\n",
       "    .dataframe tbody tr th {\n",
       "        vertical-align: top;\n",
       "    }\n",
       "\n",
       "    .dataframe thead th {\n",
       "        text-align: right;\n",
       "    }\n",
       "</style>\n",
       "<table border=\"1\" class=\"dataframe\">\n",
       "  <thead>\n",
       "    <tr style=\"text-align: right;\">\n",
       "      <th>experiment_id</th>\n",
       "      <th>event_name</th>\n",
       "      <th>246</th>\n",
       "      <th>247</th>\n",
       "      <th>248</th>\n",
       "      <th>249</th>\n",
       "      <th>Total</th>\n",
       "      <th>portion_246</th>\n",
       "      <th>portion_247</th>\n",
       "      <th>portion_248</th>\n",
       "      <th>portion_249</th>\n",
       "    </tr>\n",
       "  </thead>\n",
       "  <tbody>\n",
       "    <tr>\n",
       "      <th>1</th>\n",
       "      <td>MainScreenAppear</td>\n",
       "      <td>2450</td>\n",
       "      <td>2476</td>\n",
       "      <td>2493</td>\n",
       "      <td>4926</td>\n",
       "      <td>7419</td>\n",
       "      <td>98.6</td>\n",
       "      <td>98.5</td>\n",
       "      <td>98.3</td>\n",
       "      <td>98.6</td>\n",
       "    </tr>\n",
       "    <tr>\n",
       "      <th>2</th>\n",
       "      <td>OffersScreenAppear</td>\n",
       "      <td>1542</td>\n",
       "      <td>1520</td>\n",
       "      <td>1531</td>\n",
       "      <td>3062</td>\n",
       "      <td>4593</td>\n",
       "      <td>62.1</td>\n",
       "      <td>60.5</td>\n",
       "      <td>60.3</td>\n",
       "      <td>61.3</td>\n",
       "    </tr>\n",
       "    <tr>\n",
       "      <th>0</th>\n",
       "      <td>CartScreenAppear</td>\n",
       "      <td>1266</td>\n",
       "      <td>1238</td>\n",
       "      <td>1230</td>\n",
       "      <td>2504</td>\n",
       "      <td>3734</td>\n",
       "      <td>51.0</td>\n",
       "      <td>49.3</td>\n",
       "      <td>48.5</td>\n",
       "      <td>50.1</td>\n",
       "    </tr>\n",
       "    <tr>\n",
       "      <th>3</th>\n",
       "      <td>PaymentScreenSuccessful</td>\n",
       "      <td>1200</td>\n",
       "      <td>1158</td>\n",
       "      <td>1181</td>\n",
       "      <td>2358</td>\n",
       "      <td>3539</td>\n",
       "      <td>48.3</td>\n",
       "      <td>46.1</td>\n",
       "      <td>46.6</td>\n",
       "      <td>47.2</td>\n",
       "    </tr>\n",
       "  </tbody>\n",
       "</table>\n",
       "</div>"
      ],
      "text/plain": [
       "experiment_id               event_name   246   247   248   249  Total  \\\n",
       "1                     MainScreenAppear  2450  2476  2493  4926   7419   \n",
       "2                   OffersScreenAppear  1542  1520  1531  3062   4593   \n",
       "0                     CartScreenAppear  1266  1238  1230  2504   3734   \n",
       "3              PaymentScreenSuccessful  1200  1158  1181  2358   3539   \n",
       "\n",
       "experiment_id  portion_246  portion_247  portion_248  portion_249  \n",
       "1                     98.6         98.5         98.3         98.6  \n",
       "2                     62.1         60.5         60.3         61.3  \n",
       "0                     51.0         49.3         48.5         50.1  \n",
       "3                     48.3         46.1         46.6         47.2  "
      ]
     },
     "execution_count": 36,
     "metadata": {},
     "output_type": "execute_result"
    }
   ],
   "source": [
    "# перед тем как провести тест , создам сводную таблицу расчитаю самое популярное событие и доли пользователей\n",
    "test_group = logs[logs['event_name']!='Tutorial'].pivot_table(index='event_name', \n",
    "                                                         columns='experiment_id', \n",
    "                                                         values='user_id',\n",
    "                                                         aggfunc='nunique').reset_index().sort_values(by=246, ascending=False)\n",
    "test_group[249] = test_group[246] + test_group[247]\n",
    "test_group['Total'] = test_group[248] + test_group[249]\n",
    "\n",
    "test_group['portion_246'] = round((test_group[246] / users_group[246] * 100),1)\n",
    "test_group['portion_247'] = round((test_group[247] / users_group[247] * 100),1)\n",
    "test_group['portion_248'] = round((test_group[248] / users_group[248] * 100),1)\n",
    "test_group['portion_249'] = round((test_group[249] / users_group[249]  * 100),1)\n",
    "test_group"
   ]
  },
  {
   "cell_type": "markdown",
   "metadata": {
    "id": "LcH35TokE6xd"
   },
   "source": [
    "**Краткий вывод**  \n",
    "Самое популярное событие - это MainScreenAppear\t(нахождение на главном экране). Что собственно и логично, потому что любое действие начинается почти всегда с захода на главную страницу или экран. \n",
    "Всего среди групп это событие собрало - 7419 пользователей , если разделить по группам :  \n",
    "1. 246 - 2450  \n",
    "2. 247 - 2476  \n",
    "3. 248 - 2493  \n",
    "Доля у события MainScreenAppear составила по группам:  \n",
    "1. 246 - 98,6  \n",
    "2. 247 - 98,5  \n",
    "3. 248 - 98,3  "
   ]
  },
  {
   "cell_type": "code",
   "execution_count": null,
   "metadata": {
    "id": "GjuY3cG_E6xd"
   },
   "outputs": [],
   "source": [
    "# теперь напишем функцию для проведения z-test : \n",
    "def z_test(experiment_id1, experiment_id2, alpha):\n",
    "    for i in test_group.index:\n",
    "        p1 = test_group[experiment_id1][i] / users_group[experiment_id1]\n",
    "        p2 = test_group[experiment_id2][i] / users_group[experiment_id2]\n",
    "        p_combined = ((test_group[experiment_id1][i] + test_group[experiment_id2][i]) / \n",
    "                 (users_group[experiment_id1] + users_group[experiment_id2]))\n",
    "        \n",
    "        difference = p1 - p2\n",
    "        \n",
    "        z_value = difference / mth.sqrt(p_combined * (1 - p_combined) * \n",
    "                                        (1/users_group[experiment_id1] + 1/users_group[experiment_id2]))\n",
    "        \n",
    "        distr = st.norm(0, 1) \n",
    "        p_value = (1 - distr.cdf(abs(z_value))) * 2\n",
    "        \n",
    "        print('{} p-значение: {}'.format(test_group['event_name'][i], p_value))\n",
    "        if (p_value < alpha):\n",
    "            print(\"Нулевую гипотезу нужно отвергнуть: между долями есть статистически значимая разница\")\n",
    "        else:\n",
    "            print(\"Нулевую гипотезу не получилось отвергнуть, статистически значимой разнициы между долями нет\")\n",
    "        print('')"
   ]
  },
  {
   "cell_type": "markdown",
   "metadata": {
    "id": "k8MkVMPxE6xd"
   },
   "source": [
    "###### Прежде чем провести первые тесты, сформулируем гипотезы:  \n",
    "###### Н0: Статистической значимой разницы между группами нет\n",
    "###### Н1: Различия между группами статистически значимы "
   ]
  },
  {
   "cell_type": "code",
   "execution_count": null,
   "metadata": {
    "id": "-PVDSLv2E6xd",
    "outputId": "8c33382e-ad09-421c-dd64-3d81fa67c84d"
   },
   "outputs": [
    {
     "name": "stdout",
     "output_type": "stream",
     "text": [
      "MainScreenAppear p-значение: 0.7570597232046099\n",
      "Нулевую гипотезу не получилось отвергнуть, статистически значимой разнициы между долями нет\n",
      "\n",
      "OffersScreenAppear p-значение: 0.2480954578522181\n",
      "Нулевую гипотезу не получилось отвергнуть, статистически значимой разнициы между долями нет\n",
      "\n",
      "CartScreenAppear p-значение: 0.22883372237997213\n",
      "Нулевую гипотезу не получилось отвергнуть, статистически значимой разнициы между долями нет\n",
      "\n",
      "PaymentScreenSuccessful p-значение: 0.11456679313141849\n",
      "Нулевую гипотезу не получилось отвергнуть, статистически значимой разнициы между долями нет\n",
      "\n"
     ]
    }
   ],
   "source": [
    "# проведем для проверки А/А тест (246/247 группы)\n",
    "z_test(246,247,0.01)"
   ]
  },
  {
   "cell_type": "markdown",
   "metadata": {
    "id": "JgEKDpcaE6xd"
   },
   "source": [
    "Здесь нулевую гипотезу не получилось отвергнуть, по всем событиям статистически значимых различий нет. Также далее я буду везде применять уровень alpha = 0.05, т.к. он наиболее распространенный и применяется при проведении А/В теста (при проведении А/А теста допускается уровень значимости = 0.01). Перейдем к следующему тесту"
   ]
  },
  {
   "cell_type": "code",
   "execution_count": null,
   "metadata": {
    "id": "cimvERUyE6xd",
    "outputId": "32b07c6f-7b7e-44b4-9655-9b6280d39dc8"
   },
   "outputs": [
    {
     "name": "stdout",
     "output_type": "stream",
     "text": [
      "MainScreenAppear p-значение: 0.2949721933554552\n",
      "Нулевую гипотезу не получилось отвергнуть, статистически значимой разнициы между долями нет\n",
      "\n",
      "OffersScreenAppear p-значение: 0.20836205402738917\n",
      "Нулевую гипотезу не получилось отвергнуть, статистически значимой разнициы между долями нет\n",
      "\n",
      "CartScreenAppear p-значение: 0.07842923237520116\n",
      "Нулевую гипотезу не получилось отвергнуть, статистически значимой разнициы между долями нет\n",
      "\n",
      "PaymentScreenSuccessful p-значение: 0.2122553275697796\n",
      "Нулевую гипотезу не получилось отвергнуть, статистически значимой разнициы между долями нет\n",
      "\n"
     ]
    }
   ],
   "source": [
    "# Теперь проводим А/В тест (246/248 группы)\n",
    "z_test(246,248,0.05)"
   ]
  },
  {
   "cell_type": "code",
   "execution_count": null,
   "metadata": {
    "id": "dqRSYjNSE6xe",
    "outputId": "0abd1a68-06ce-4611-a44b-a6050385b041"
   },
   "outputs": [
    {
     "name": "stdout",
     "output_type": "stream",
     "text": [
      "MainScreenAppear p-значение: 0.4587053616621515\n",
      "Нулевую гипотезу не получилось отвергнуть, статистически значимой разнициы между долями нет\n",
      "\n",
      "OffersScreenAppear p-значение: 0.9197817830592261\n",
      "Нулевую гипотезу не получилось отвергнуть, статистически значимой разнициы между долями нет\n",
      "\n",
      "CartScreenAppear p-значение: 0.5786197879539783\n",
      "Нулевую гипотезу не получилось отвергнуть, статистически значимой разнициы между долями нет\n",
      "\n",
      "PaymentScreenSuccessful p-значение: 0.7373415053803964\n",
      "Нулевую гипотезу не получилось отвергнуть, статистически значимой разнициы между долями нет\n",
      "\n"
     ]
    }
   ],
   "source": [
    "# 247/248\n",
    "z_test(247,248,0.05)"
   ]
  },
  {
   "cell_type": "code",
   "execution_count": null,
   "metadata": {
    "id": "nJ-XTkT_E6xe",
    "outputId": "d83855c2-15ed-4e43-a932-ab7456ae096b",
    "scrolled": true
   },
   "outputs": [
    {
     "name": "stdout",
     "output_type": "stream",
     "text": [
      "MainScreenAppear p-значение: 0.29424526837179577\n",
      "Нулевую гипотезу не получилось отвергнуть, статистически значимой разнициы между долями нет\n",
      "\n",
      "OffersScreenAppear p-значение: 0.43425549655188256\n",
      "Нулевую гипотезу не получилось отвергнуть, статистически значимой разнициы между долями нет\n",
      "\n",
      "CartScreenAppear p-значение: 0.18175875284404386\n",
      "Нулевую гипотезу не получилось отвергнуть, статистически значимой разнициы между долями нет\n",
      "\n",
      "PaymentScreenSuccessful p-значение: 0.6004294282308704\n",
      "Нулевую гипотезу не получилось отвергнуть, статистически значимой разнициы между долями нет\n",
      "\n"
     ]
    }
   ],
   "source": [
    "# 249/248\n",
    "z_test(249,248,0.05)"
   ]
  },
  {
   "cell_type": "markdown",
   "metadata": {
    "id": "9wjNbF_uE6xe"
   },
   "source": [
    "## Вывод: \n",
    "Итак, было проведено исследование по выявлению поведения пользователей мобильного приложения по продаже продуктов питания.  \n",
    "Первоначально была осуществлена подготовка данных, были заменены названия столбцов, данные проверены на пропуски и дубликаты, в ходе которой былы выявлены явные дубликаты и удалены, привели типы данных в соответствие и создали дополнительные два столбца с датами.  \n",
    "В ходе изучения данных было определено 243713 событий в логе и 7551 пользователь в логе. В среднем приходится по 32 события на пользователя.  \n",
    "Также для определения периода выявлена минимальная дата - 25.07.2019 и максимальная дата - 7.08.2019. По причине того, что в промежуток с 25.07.2019 до 1.08.2019 данные были не полные был определен временной период, в котором располагаются \"полные\" данные (с 1.08.2019 по 7.08.2019) и был отброшен период с не полными данными (с 25.07.2019 до 1.08.2019). После совершения действия мы потеряли 2826 событий и 17 пользователей.  \n",
    "После всех вышеуказанных действий уже можно перейти к воронке событий. Воронка выстраивается следующим образом:  \n",
    "1. сначала пользователь идет на главный экран (MainScreenAppear). Это самое популярное событие (нахождение на главном экране). Что собственно и логично, потому что любое действие начинается почти всегда с захода на главную страницу или экран. Всего среди групп это событие собрало - 7419 пользователей \n",
    "2. далее выбирает товар (OffersScreenAppear)  \n",
    "3. после идет в корзину (CartScreenAppear)  \n",
    "4. Там он совершает оплату (PaymentScreenSuccessful).  \n",
    "\n",
    "Выбивается в воронке событий только шаг \"обучение\", обычно он является первым шагом и тогда по идее должно быть там самое большое количество пользователей, но думаю обучение не является обязательным шагом и его многие пропускают.  \n",
    "По итогу была рассчитана конверсия с этапа когда пользователи открывают главную страницу и до оплаты, а также отношения последующего этапа к предыдущему. Построили визуализацию по воронкам событий. К каким мини-выводам это привело :  - Можно избавится от события \"Tutorial\" по причине того, что вероятнее всего это не обязательный шаг, очень мало пользователей на него заходит. И соответствеено их действия не взаимосвязаны с дальнейшей покупкой.  \n",
    "- На этапе выбора товара \"OffersScreenAppear\" заметна достаточно большая просадка по пользователям - 38%. Получается только 62% от всех тех кто зашел в приложение доходят до выбора товара. Остальные просто возможно пролистывают и уходят.  \n",
    "- Если рассмотреть событийную воронку от этапа захода на главную страницу приложения и до покупки, то мы видим, что 46,97% пользователей которые пришли в приложение дошли до оплаты. Это почти половина, с учетом того что 38% теряются на этапе перехода выбора товара, выглядит достаточно не плохо.\n",
    "По итогу были составлены следующие рекомендации отделу маркетинга - стоит на этапе захода пользователя поработать над каким-либо предложением или всплывающим окном для увеличения заинтересованности пользователя и перехода его в следующий этап. Также возможно нужно поработать над товарной номенклатурой (послкольку возможно пользователь просто не находит то, что ему нужно). Дополнительно можно обратится к разработчикам и попросить проанализировать с технической стороны этот этап. Возможно есть технические сложности или ошибки, которые мешают пользователям перейти на следующий этап. Далее конверсия от этапа к этапу увеличивается и дает 95% всех тех пользователей кто добавил в корзину товар перейти к оплате.  \n",
    "\n",
    "Наконец перешли к А/В тесту и проведению анализа его результата.  \n",
    "Во первых была проведена проверка выборок, которая показала что количество пользователей почти равно между выборками.  \n",
    "Далее проведен z-тест для выявления статистически значимого различия между двумя контрольными группами (А/А тест 246/247 группа) с уровнем статистической значимости в 0.01. Он такой маленький , потому что априори группы по идее одинаковы и чтобы уменьшить вероятность ошибки был снижен и уровень статистической значимости. Тест показал, что статистически значимой разницы нет.  \n",
    "Далее сформулировав гипотезы :  \n",
    "**Н0:** Статистической значимой разницы между группами нет  \n",
    "**Н1:** Различия между группами статистически значимы  \n",
    "Был проведен А/В тест с 16 проверками статистических гипотез:  \n",
    "**А/A (246/247)** - 4 проверки (по каждому событию)  \n",
    "**A1/B (246/248)** - 4 проверки (по каждому событию)  \n",
    "**A2/B (247/248)** - 4 проверки (по каждому событию)  \n",
    "**A1+A2/B (249/248)** - 4 проверки (по каждому событию)  \n",
    "Который показал абсолютно во всех тестах один результат:  **Нулевую гипотезу не получилось отвергнуть, статистически значимой разнициы между долями нет**  \n",
    "На основании результатов можно сделать вывод, что тест можно завершить, и что разница в поведении групп не обнаружена. Изменения шрифта не повлияет никак на поведеление пользователей. \n"
   ]
  }
 ],
 "metadata": {
  "ExecuteTimeLog": [
   {
    "duration": 1210,
    "start_time": "2022-10-19T07:32:49.312Z"
   },
   {
    "duration": 779,
    "start_time": "2022-10-19T07:59:51.890Z"
   },
   {
    "duration": 13,
    "start_time": "2022-10-19T08:00:08.616Z"
   },
   {
    "duration": 8,
    "start_time": "2022-10-19T08:00:26.779Z"
   },
   {
    "duration": 8,
    "start_time": "2022-10-19T08:00:36.539Z"
   },
   {
    "duration": 144,
    "start_time": "2022-10-19T08:04:41.855Z"
   },
   {
    "duration": 10,
    "start_time": "2022-10-19T08:04:42.541Z"
   },
   {
    "duration": 8,
    "start_time": "2022-10-19T08:05:41.241Z"
   },
   {
    "duration": 2,
    "start_time": "2022-10-19T08:10:40.374Z"
   },
   {
    "duration": 7,
    "start_time": "2022-10-19T08:10:50.284Z"
   },
   {
    "duration": 19,
    "start_time": "2022-10-19T08:12:24.436Z"
   },
   {
    "duration": 34,
    "start_time": "2022-10-19T08:29:47.389Z"
   },
   {
    "duration": 17,
    "start_time": "2022-10-19T08:29:58.534Z"
   },
   {
    "duration": 7,
    "start_time": "2022-10-19T08:30:21.120Z"
   },
   {
    "duration": 11,
    "start_time": "2022-10-19T09:24:47.878Z"
   },
   {
    "duration": 7,
    "start_time": "2022-10-19T09:24:48.348Z"
   },
   {
    "duration": 4,
    "start_time": "2022-10-19T10:27:57.657Z"
   },
   {
    "duration": 8,
    "start_time": "2022-10-19T10:27:58.178Z"
   },
   {
    "duration": 63,
    "start_time": "2022-10-19T10:29:04.705Z"
   },
   {
    "duration": 8,
    "start_time": "2022-10-19T10:29:12.515Z"
   },
   {
    "duration": 707,
    "start_time": "2022-10-19T12:47:22.829Z"
   },
   {
    "duration": 593,
    "start_time": "2022-10-19T12:47:30.986Z"
   },
   {
    "duration": 7,
    "start_time": "2022-10-19T12:47:37.924Z"
   },
   {
    "duration": 7,
    "start_time": "2022-10-19T12:47:40.582Z"
   },
   {
    "duration": 11,
    "start_time": "2022-10-19T12:48:49.619Z"
   },
   {
    "duration": 8,
    "start_time": "2022-10-19T12:48:51.182Z"
   },
   {
    "duration": 11,
    "start_time": "2022-10-19T12:49:57.390Z"
   },
   {
    "duration": 9,
    "start_time": "2022-10-19T12:49:57.960Z"
   },
   {
    "duration": 141,
    "start_time": "2022-10-19T12:50:10.128Z"
   },
   {
    "duration": 7,
    "start_time": "2022-10-19T12:50:10.569Z"
   },
   {
    "duration": 3,
    "start_time": "2022-10-19T12:50:11.016Z"
   },
   {
    "duration": 17,
    "start_time": "2022-10-19T12:50:11.442Z"
   },
   {
    "duration": 6,
    "start_time": "2022-10-19T12:50:11.906Z"
   },
   {
    "duration": 8,
    "start_time": "2022-10-19T12:50:12.482Z"
   },
   {
    "duration": 29,
    "start_time": "2022-10-19T12:50:25.384Z"
   },
   {
    "duration": 8,
    "start_time": "2022-10-19T12:50:25.866Z"
   },
   {
    "duration": 7,
    "start_time": "2022-10-19T12:50:33.726Z"
   },
   {
    "duration": 8,
    "start_time": "2022-10-19T12:50:34.135Z"
   },
   {
    "duration": 12,
    "start_time": "2022-10-19T12:51:16.602Z"
   },
   {
    "duration": 10,
    "start_time": "2022-10-19T12:51:17.253Z"
   },
   {
    "duration": 70,
    "start_time": "2022-10-19T12:51:39.143Z"
   },
   {
    "duration": 9,
    "start_time": "2022-10-19T12:51:39.935Z"
   },
   {
    "duration": 25,
    "start_time": "2022-10-19T12:52:35.183Z"
   },
   {
    "duration": 124,
    "start_time": "2022-10-19T12:53:35.597Z"
   },
   {
    "duration": 8,
    "start_time": "2022-10-19T12:53:36.078Z"
   },
   {
    "duration": 19,
    "start_time": "2022-10-19T12:53:36.565Z"
   },
   {
    "duration": 103,
    "start_time": "2022-10-19T12:58:37.216Z"
   },
   {
    "duration": 8,
    "start_time": "2022-10-19T12:58:37.859Z"
   },
   {
    "duration": 72,
    "start_time": "2022-10-19T12:59:45.103Z"
   },
   {
    "duration": 84,
    "start_time": "2022-10-19T13:02:16.990Z"
   },
   {
    "duration": 76,
    "start_time": "2022-10-19T13:05:51.431Z"
   },
   {
    "duration": 73,
    "start_time": "2022-10-19T13:06:01.894Z"
   },
   {
    "duration": 89,
    "start_time": "2022-10-19T13:10:42.656Z"
   },
   {
    "duration": 87,
    "start_time": "2022-10-19T13:11:07.790Z"
   },
   {
    "duration": 214,
    "start_time": "2022-10-19T13:11:21.120Z"
   },
   {
    "duration": 126,
    "start_time": "2022-10-19T13:11:26.617Z"
   },
   {
    "duration": 127,
    "start_time": "2022-10-19T13:11:33.452Z"
   },
   {
    "duration": 138,
    "start_time": "2022-10-19T13:11:53.549Z"
   },
   {
    "duration": 3,
    "start_time": "2022-10-19T13:12:00.607Z"
   },
   {
    "duration": 152,
    "start_time": "2022-10-19T13:12:00.612Z"
   },
   {
    "duration": 8,
    "start_time": "2022-10-19T13:12:00.766Z"
   },
   {
    "duration": 27,
    "start_time": "2022-10-19T13:12:00.784Z"
   },
   {
    "duration": 38,
    "start_time": "2022-10-19T13:12:00.813Z"
   },
   {
    "duration": 19,
    "start_time": "2022-10-19T13:12:00.853Z"
   },
   {
    "duration": 26,
    "start_time": "2022-10-19T13:12:00.874Z"
   },
   {
    "duration": 105,
    "start_time": "2022-10-19T13:12:00.902Z"
   },
   {
    "duration": 9,
    "start_time": "2022-10-19T13:12:01.008Z"
   },
   {
    "duration": 91,
    "start_time": "2022-10-19T13:12:01.018Z"
   },
   {
    "duration": 75,
    "start_time": "2022-10-19T13:12:01.111Z"
   },
   {
    "duration": 63,
    "start_time": "2022-10-19T13:12:01.188Z"
   },
   {
    "duration": 21,
    "start_time": "2022-10-19T14:22:49.015Z"
   },
   {
    "duration": 10,
    "start_time": "2022-10-19T14:27:34.509Z"
   },
   {
    "duration": 47,
    "start_time": "2022-10-19T14:29:44.111Z"
   },
   {
    "duration": 50,
    "start_time": "2022-10-19T14:29:53.525Z"
   },
   {
    "duration": 7,
    "start_time": "2022-10-19T14:31:00.460Z"
   },
   {
    "duration": 42,
    "start_time": "2022-10-21T07:02:03.781Z"
   },
   {
    "duration": 13,
    "start_time": "2022-10-21T07:19:31.331Z"
   },
   {
    "duration": 22,
    "start_time": "2022-10-21T07:19:55.735Z"
   },
   {
    "duration": 26,
    "start_time": "2022-10-21T07:44:07.282Z"
   },
   {
    "duration": 14,
    "start_time": "2022-10-21T07:44:18.807Z"
   },
   {
    "duration": 5,
    "start_time": "2022-10-21T08:01:48.250Z"
   },
   {
    "duration": 6,
    "start_time": "2022-10-21T08:02:44.423Z"
   },
   {
    "duration": 284,
    "start_time": "2022-10-21T08:11:01.610Z"
   },
   {
    "duration": 190,
    "start_time": "2022-10-21T08:23:57.912Z"
   },
   {
    "duration": 214,
    "start_time": "2022-10-21T08:24:05.763Z"
   },
   {
    "duration": 205,
    "start_time": "2022-10-21T08:27:20.840Z"
   },
   {
    "duration": 208,
    "start_time": "2022-10-21T08:27:52.610Z"
   },
   {
    "duration": 276,
    "start_time": "2022-10-21T08:28:01.859Z"
   },
   {
    "duration": 230,
    "start_time": "2022-10-21T08:28:09.288Z"
   },
   {
    "duration": 206,
    "start_time": "2022-10-21T08:28:15.239Z"
   },
   {
    "duration": 227,
    "start_time": "2022-10-21T08:43:03.463Z"
   },
   {
    "duration": 215,
    "start_time": "2022-10-21T08:47:02.881Z"
   },
   {
    "duration": 199,
    "start_time": "2022-10-21T08:47:13.876Z"
   },
   {
    "duration": 197,
    "start_time": "2022-10-21T08:47:33.614Z"
   },
   {
    "duration": 192,
    "start_time": "2022-10-21T08:47:45.265Z"
   },
   {
    "duration": 201,
    "start_time": "2022-10-21T08:47:53.992Z"
   },
   {
    "duration": 198,
    "start_time": "2022-10-21T08:48:00.312Z"
   },
   {
    "duration": 238,
    "start_time": "2022-10-21T08:48:21.982Z"
   },
   {
    "duration": 293,
    "start_time": "2022-10-21T08:48:27.846Z"
   },
   {
    "duration": 204,
    "start_time": "2022-10-21T08:48:33.015Z"
   },
   {
    "duration": 188,
    "start_time": "2022-10-21T08:48:37.885Z"
   },
   {
    "duration": 202,
    "start_time": "2022-10-21T08:48:43.814Z"
   },
   {
    "duration": 223,
    "start_time": "2022-10-21T08:48:50.463Z"
   },
   {
    "duration": 176,
    "start_time": "2022-10-21T08:49:05.219Z"
   },
   {
    "duration": 220,
    "start_time": "2022-10-21T08:49:09.819Z"
   },
   {
    "duration": 207,
    "start_time": "2022-10-21T08:49:15.624Z"
   },
   {
    "duration": 14,
    "start_time": "2022-10-21T08:55:56.828Z"
   },
   {
    "duration": 216,
    "start_time": "2022-10-21T08:56:33.351Z"
   },
   {
    "duration": 10,
    "start_time": "2022-10-21T08:56:35.441Z"
   },
   {
    "duration": 213,
    "start_time": "2022-10-21T08:58:43.463Z"
   },
   {
    "duration": 12,
    "start_time": "2022-10-21T08:58:44.829Z"
   },
   {
    "duration": 4,
    "start_time": "2022-10-21T10:22:58.956Z"
   },
   {
    "duration": 261,
    "start_time": "2022-10-21T10:22:58.963Z"
   },
   {
    "duration": 14,
    "start_time": "2022-10-21T10:22:59.226Z"
   },
   {
    "duration": 39,
    "start_time": "2022-10-21T10:22:59.242Z"
   },
   {
    "duration": 90,
    "start_time": "2022-10-21T10:22:59.283Z"
   },
   {
    "duration": 88,
    "start_time": "2022-10-21T10:22:59.375Z"
   },
   {
    "duration": 82,
    "start_time": "2022-10-21T10:22:59.465Z"
   },
   {
    "duration": 184,
    "start_time": "2022-10-21T10:22:59.549Z"
   },
   {
    "duration": 14,
    "start_time": "2022-10-21T10:22:59.735Z"
   },
   {
    "duration": 109,
    "start_time": "2022-10-21T10:22:59.757Z"
   },
   {
    "duration": 136,
    "start_time": "2022-10-21T10:22:59.868Z"
   },
   {
    "duration": 93,
    "start_time": "2022-10-21T10:23:00.006Z"
   },
   {
    "duration": 16,
    "start_time": "2022-10-21T10:23:00.102Z"
   },
   {
    "duration": 63,
    "start_time": "2022-10-21T10:23:00.120Z"
   },
   {
    "duration": 89,
    "start_time": "2022-10-21T10:23:00.185Z"
   },
   {
    "duration": 78,
    "start_time": "2022-10-21T10:23:00.276Z"
   },
   {
    "duration": 364,
    "start_time": "2022-10-21T10:23:00.357Z"
   },
   {
    "duration": 378,
    "start_time": "2022-10-21T10:23:00.724Z"
   },
   {
    "duration": 19,
    "start_time": "2022-10-21T10:23:01.104Z"
   },
   {
    "duration": 24,
    "start_time": "2022-10-21T10:26:14.973Z"
   },
   {
    "duration": 29,
    "start_time": "2022-10-21T10:26:20.849Z"
   },
   {
    "duration": 10,
    "start_time": "2022-10-21T10:26:36.785Z"
   },
   {
    "duration": 7,
    "start_time": "2022-10-21T10:27:23.440Z"
   },
   {
    "duration": 16,
    "start_time": "2022-10-21T10:29:52.880Z"
   },
   {
    "duration": 6,
    "start_time": "2022-10-21T10:30:07.502Z"
   },
   {
    "duration": 10,
    "start_time": "2022-10-21T10:30:10.252Z"
   },
   {
    "duration": 34,
    "start_time": "2022-10-21T10:43:04.042Z"
   },
   {
    "duration": 13,
    "start_time": "2022-10-21T10:43:11.582Z"
   },
   {
    "duration": 217,
    "start_time": "2022-10-21T10:45:49.735Z"
   },
   {
    "duration": 5,
    "start_time": "2022-10-21T10:45:54.419Z"
   },
   {
    "duration": 4,
    "start_time": "2022-10-21T10:46:01.557Z"
   },
   {
    "duration": 273,
    "start_time": "2022-10-21T10:46:01.563Z"
   },
   {
    "duration": 15,
    "start_time": "2022-10-21T10:46:01.841Z"
   },
   {
    "duration": 90,
    "start_time": "2022-10-21T10:46:01.862Z"
   },
   {
    "duration": 94,
    "start_time": "2022-10-21T10:46:01.956Z"
   },
   {
    "duration": 25,
    "start_time": "2022-10-21T10:46:02.052Z"
   },
   {
    "duration": 89,
    "start_time": "2022-10-21T10:46:02.080Z"
   },
   {
    "duration": 215,
    "start_time": "2022-10-21T10:46:02.171Z"
   },
   {
    "duration": 12,
    "start_time": "2022-10-21T10:46:02.389Z"
   },
   {
    "duration": 117,
    "start_time": "2022-10-21T10:46:02.403Z"
   },
   {
    "duration": 116,
    "start_time": "2022-10-21T10:46:02.524Z"
   },
   {
    "duration": 103,
    "start_time": "2022-10-21T10:46:02.642Z"
   },
   {
    "duration": 17,
    "start_time": "2022-10-21T10:46:02.748Z"
   },
   {
    "duration": 32,
    "start_time": "2022-10-21T10:46:02.767Z"
   },
   {
    "duration": 71,
    "start_time": "2022-10-21T10:46:02.801Z"
   },
   {
    "duration": 7,
    "start_time": "2022-10-21T10:46:02.874Z"
   },
   {
    "duration": 313,
    "start_time": "2022-10-21T10:46:02.884Z"
   },
   {
    "duration": 278,
    "start_time": "2022-10-21T10:46:03.202Z"
   },
   {
    "duration": 13,
    "start_time": "2022-10-21T10:46:03.483Z"
   },
   {
    "duration": 60,
    "start_time": "2022-10-21T10:46:03.498Z"
   },
   {
    "duration": 16,
    "start_time": "2022-10-21T10:46:16.115Z"
   },
   {
    "duration": 19,
    "start_time": "2022-10-21T10:46:29.043Z"
   },
   {
    "duration": 11,
    "start_time": "2022-10-21T10:48:56.808Z"
   },
   {
    "duration": 6,
    "start_time": "2022-10-21T10:49:03.318Z"
   },
   {
    "duration": 12,
    "start_time": "2022-10-21T11:25:35.677Z"
   },
   {
    "duration": 11,
    "start_time": "2022-10-21T11:25:43.656Z"
   },
   {
    "duration": 27,
    "start_time": "2022-10-21T11:26:11.272Z"
   },
   {
    "duration": 7,
    "start_time": "2022-10-21T11:26:18.059Z"
   },
   {
    "duration": 5,
    "start_time": "2022-10-21T13:01:22.224Z"
   },
   {
    "duration": 10,
    "start_time": "2022-10-21T13:01:22.774Z"
   },
   {
    "duration": 6,
    "start_time": "2022-10-21T13:01:23.575Z"
   },
   {
    "duration": 2,
    "start_time": "2022-10-21T13:02:15.935Z"
   },
   {
    "duration": 8,
    "start_time": "2022-10-21T13:03:00.091Z"
   },
   {
    "duration": 34,
    "start_time": "2022-10-21T13:03:13.077Z"
   },
   {
    "duration": 34,
    "start_time": "2022-10-21T14:24:31.345Z"
   },
   {
    "duration": 13,
    "start_time": "2022-10-21T14:24:47.305Z"
   },
   {
    "duration": 10,
    "start_time": "2022-10-21T14:30:39.609Z"
   },
   {
    "duration": 111,
    "start_time": "2022-10-21T14:32:12.244Z"
   },
   {
    "duration": 85,
    "start_time": "2022-10-21T14:32:46.128Z"
   },
   {
    "duration": 66,
    "start_time": "2022-10-21T14:32:56.493Z"
   },
   {
    "duration": 79,
    "start_time": "2022-10-21T14:33:18.165Z"
   },
   {
    "duration": 81,
    "start_time": "2022-10-21T14:33:29.258Z"
   },
   {
    "duration": 75,
    "start_time": "2022-10-21T14:33:39.121Z"
   },
   {
    "duration": 75,
    "start_time": "2022-10-21T14:33:47.108Z"
   },
   {
    "duration": 68,
    "start_time": "2022-10-21T14:36:38.796Z"
   },
   {
    "duration": 66,
    "start_time": "2022-10-21T14:42:05.444Z"
   },
   {
    "duration": 62,
    "start_time": "2022-10-21T14:42:18.762Z"
   },
   {
    "duration": 78,
    "start_time": "2022-10-21T14:42:43.156Z"
   },
   {
    "duration": 65,
    "start_time": "2022-10-21T14:42:58.194Z"
   },
   {
    "duration": 59,
    "start_time": "2022-10-22T05:32:04.932Z"
   },
   {
    "duration": 15,
    "start_time": "2022-10-22T05:59:23.047Z"
   },
   {
    "duration": 338,
    "start_time": "2022-10-22T06:01:42.787Z"
   },
   {
    "duration": 60,
    "start_time": "2022-10-22T06:02:01.626Z"
   },
   {
    "duration": 16,
    "start_time": "2022-10-22T06:02:07.528Z"
   },
   {
    "duration": 49,
    "start_time": "2022-10-22T06:02:42.275Z"
   },
   {
    "duration": 124,
    "start_time": "2022-10-22T06:02:42.326Z"
   },
   {
    "duration": 7,
    "start_time": "2022-10-22T06:02:42.451Z"
   },
   {
    "duration": 6,
    "start_time": "2022-10-22T06:02:42.460Z"
   },
   {
    "duration": 28,
    "start_time": "2022-10-22T06:02:42.468Z"
   },
   {
    "duration": 6,
    "start_time": "2022-10-22T06:02:42.498Z"
   },
   {
    "duration": 9,
    "start_time": "2022-10-22T06:02:42.505Z"
   },
   {
    "duration": 121,
    "start_time": "2022-10-22T06:02:42.516Z"
   },
   {
    "duration": 9,
    "start_time": "2022-10-22T06:02:42.639Z"
   },
   {
    "duration": 69,
    "start_time": "2022-10-22T06:02:42.649Z"
   },
   {
    "duration": 75,
    "start_time": "2022-10-22T06:02:42.720Z"
   },
   {
    "duration": 61,
    "start_time": "2022-10-22T06:02:42.796Z"
   },
   {
    "duration": 26,
    "start_time": "2022-10-22T06:02:42.859Z"
   },
   {
    "duration": 8,
    "start_time": "2022-10-22T06:02:42.888Z"
   },
   {
    "duration": 17,
    "start_time": "2022-10-22T06:02:42.897Z"
   },
   {
    "duration": 6,
    "start_time": "2022-10-22T06:02:42.915Z"
   },
   {
    "duration": 212,
    "start_time": "2022-10-22T06:02:42.923Z"
   },
   {
    "duration": 186,
    "start_time": "2022-10-22T06:02:43.137Z"
   },
   {
    "duration": 4,
    "start_time": "2022-10-22T06:02:43.325Z"
   },
   {
    "duration": 12,
    "start_time": "2022-10-22T06:02:43.330Z"
   },
   {
    "duration": 6,
    "start_time": "2022-10-22T06:02:43.343Z"
   },
   {
    "duration": 3,
    "start_time": "2022-10-22T06:02:43.350Z"
   },
   {
    "duration": 38,
    "start_time": "2022-10-22T06:02:43.354Z"
   },
   {
    "duration": 21,
    "start_time": "2022-10-22T06:02:43.394Z"
   },
   {
    "duration": 76,
    "start_time": "2022-10-22T06:02:43.416Z"
   },
   {
    "duration": 156,
    "start_time": "2022-10-22T06:02:43.494Z"
   },
   {
    "duration": 2,
    "start_time": "2022-10-22T06:02:43.652Z"
   },
   {
    "duration": 142,
    "start_time": "2022-10-22T06:03:00.691Z"
   },
   {
    "duration": 19,
    "start_time": "2022-10-22T06:04:04.114Z"
   },
   {
    "duration": 149,
    "start_time": "2022-10-22T06:04:28.956Z"
   },
   {
    "duration": 230,
    "start_time": "2022-10-22T06:05:08.280Z"
   },
   {
    "duration": 153,
    "start_time": "2022-10-22T06:05:19.473Z"
   },
   {
    "duration": 1099,
    "start_time": "2022-10-22T06:14:56.281Z"
   },
   {
    "duration": 168,
    "start_time": "2022-10-22T06:16:10.829Z"
   },
   {
    "duration": 1089,
    "start_time": "2022-10-22T06:16:13.619Z"
   },
   {
    "duration": 1162,
    "start_time": "2022-10-22T06:16:56.067Z"
   },
   {
    "duration": 14,
    "start_time": "2022-10-22T06:18:19.265Z"
   },
   {
    "duration": 13,
    "start_time": "2022-10-22T06:19:36.822Z"
   },
   {
    "duration": 11,
    "start_time": "2022-10-22T06:20:15.405Z"
   },
   {
    "duration": 11,
    "start_time": "2022-10-22T06:22:51.961Z"
   },
   {
    "duration": 10,
    "start_time": "2022-10-22T06:24:08.679Z"
   },
   {
    "duration": 11,
    "start_time": "2022-10-22T06:24:21.314Z"
   },
   {
    "duration": 8,
    "start_time": "2022-10-22T06:25:24.155Z"
   },
   {
    "duration": 14,
    "start_time": "2022-10-22T06:25:29.561Z"
   },
   {
    "duration": 3,
    "start_time": "2022-10-22T06:25:41.905Z"
   },
   {
    "duration": 146,
    "start_time": "2022-10-22T06:25:41.910Z"
   },
   {
    "duration": 8,
    "start_time": "2022-10-22T06:25:42.058Z"
   },
   {
    "duration": 25,
    "start_time": "2022-10-22T06:25:42.067Z"
   },
   {
    "duration": 31,
    "start_time": "2022-10-22T06:25:42.094Z"
   },
   {
    "duration": 21,
    "start_time": "2022-10-22T06:25:42.127Z"
   },
   {
    "duration": 13,
    "start_time": "2022-10-22T06:25:42.150Z"
   },
   {
    "duration": 119,
    "start_time": "2022-10-22T06:25:42.165Z"
   },
   {
    "duration": 10,
    "start_time": "2022-10-22T06:25:42.285Z"
   },
   {
    "duration": 65,
    "start_time": "2022-10-22T06:25:42.297Z"
   },
   {
    "duration": 76,
    "start_time": "2022-10-22T06:25:42.366Z"
   },
   {
    "duration": 80,
    "start_time": "2022-10-22T06:25:42.444Z"
   },
   {
    "duration": 11,
    "start_time": "2022-10-22T06:25:42.525Z"
   },
   {
    "duration": 31,
    "start_time": "2022-10-22T06:25:42.538Z"
   },
   {
    "duration": 20,
    "start_time": "2022-10-22T06:25:42.571Z"
   },
   {
    "duration": 23,
    "start_time": "2022-10-22T06:25:42.592Z"
   },
   {
    "duration": 191,
    "start_time": "2022-10-22T06:25:42.617Z"
   },
   {
    "duration": 179,
    "start_time": "2022-10-22T06:25:42.809Z"
   },
   {
    "duration": 4,
    "start_time": "2022-10-22T06:25:42.990Z"
   },
   {
    "duration": 32,
    "start_time": "2022-10-22T06:25:42.996Z"
   },
   {
    "duration": 6,
    "start_time": "2022-10-22T06:25:43.030Z"
   },
   {
    "duration": 6,
    "start_time": "2022-10-22T06:25:43.037Z"
   },
   {
    "duration": 30,
    "start_time": "2022-10-22T06:25:43.044Z"
   },
   {
    "duration": 19,
    "start_time": "2022-10-22T06:25:43.076Z"
   },
   {
    "duration": 84,
    "start_time": "2022-10-22T06:25:43.096Z"
   },
   {
    "duration": 164,
    "start_time": "2022-10-22T06:25:43.181Z"
   },
   {
    "duration": 13,
    "start_time": "2022-10-22T06:25:43.346Z"
   },
   {
    "duration": 12,
    "start_time": "2022-10-22T06:33:15.900Z"
   },
   {
    "duration": 3,
    "start_time": "2022-10-22T06:34:18.533Z"
   },
   {
    "duration": 133,
    "start_time": "2022-10-22T06:34:18.537Z"
   },
   {
    "duration": 8,
    "start_time": "2022-10-22T06:34:18.671Z"
   },
   {
    "duration": 5,
    "start_time": "2022-10-22T06:34:18.680Z"
   },
   {
    "duration": 21,
    "start_time": "2022-10-22T06:34:18.687Z"
   },
   {
    "duration": 6,
    "start_time": "2022-10-22T06:34:18.709Z"
   },
   {
    "duration": 8,
    "start_time": "2022-10-22T06:34:18.716Z"
   },
   {
    "duration": 122,
    "start_time": "2022-10-22T06:34:18.725Z"
   },
   {
    "duration": 8,
    "start_time": "2022-10-22T06:34:18.849Z"
   },
   {
    "duration": 70,
    "start_time": "2022-10-22T06:34:18.859Z"
   },
   {
    "duration": 74,
    "start_time": "2022-10-22T06:34:18.930Z"
   },
   {
    "duration": 86,
    "start_time": "2022-10-22T06:34:19.005Z"
   },
   {
    "duration": 12,
    "start_time": "2022-10-22T06:34:19.094Z"
   },
   {
    "duration": 10,
    "start_time": "2022-10-22T06:34:19.107Z"
   },
   {
    "duration": 15,
    "start_time": "2022-10-22T06:34:19.118Z"
   },
   {
    "duration": 22,
    "start_time": "2022-10-22T06:34:19.134Z"
   },
   {
    "duration": 187,
    "start_time": "2022-10-22T06:34:19.157Z"
   },
   {
    "duration": 189,
    "start_time": "2022-10-22T06:34:19.346Z"
   },
   {
    "duration": 5,
    "start_time": "2022-10-22T06:34:19.536Z"
   },
   {
    "duration": 13,
    "start_time": "2022-10-22T06:34:19.542Z"
   },
   {
    "duration": 5,
    "start_time": "2022-10-22T06:34:19.557Z"
   },
   {
    "duration": 3,
    "start_time": "2022-10-22T06:34:19.585Z"
   },
   {
    "duration": 11,
    "start_time": "2022-10-22T06:34:19.590Z"
   },
   {
    "duration": 21,
    "start_time": "2022-10-22T06:34:19.603Z"
   },
   {
    "duration": 77,
    "start_time": "2022-10-22T06:34:19.625Z"
   },
   {
    "duration": 176,
    "start_time": "2022-10-22T06:34:19.704Z"
   },
   {
    "duration": 14,
    "start_time": "2022-10-22T06:34:19.884Z"
   },
   {
    "duration": 11,
    "start_time": "2022-10-22T06:34:19.900Z"
   },
   {
    "duration": 73,
    "start_time": "2022-10-22T06:38:41.601Z"
   },
   {
    "duration": 146,
    "start_time": "2022-10-22T06:38:41.676Z"
   },
   {
    "duration": 6,
    "start_time": "2022-10-22T06:38:41.824Z"
   },
   {
    "duration": 5,
    "start_time": "2022-10-22T06:38:41.832Z"
   },
   {
    "duration": 17,
    "start_time": "2022-10-22T06:38:41.838Z"
   },
   {
    "duration": 5,
    "start_time": "2022-10-22T06:38:41.857Z"
   },
   {
    "duration": 7,
    "start_time": "2022-10-22T06:38:41.863Z"
   },
   {
    "duration": 101,
    "start_time": "2022-10-22T06:38:41.871Z"
   },
   {
    "duration": 12,
    "start_time": "2022-10-22T06:38:41.974Z"
   },
   {
    "duration": 59,
    "start_time": "2022-10-22T06:38:41.988Z"
   },
   {
    "duration": 68,
    "start_time": "2022-10-22T06:38:42.049Z"
   },
   {
    "duration": 87,
    "start_time": "2022-10-22T06:38:42.118Z"
   },
   {
    "duration": 9,
    "start_time": "2022-10-22T06:38:42.207Z"
   },
   {
    "duration": 9,
    "start_time": "2022-10-22T06:38:42.218Z"
   },
   {
    "duration": 14,
    "start_time": "2022-10-22T06:38:42.229Z"
   },
   {
    "duration": 6,
    "start_time": "2022-10-22T06:38:42.244Z"
   },
   {
    "duration": 229,
    "start_time": "2022-10-22T06:38:42.286Z"
   },
   {
    "duration": 269,
    "start_time": "2022-10-22T06:38:42.517Z"
   },
   {
    "duration": 4,
    "start_time": "2022-10-22T06:38:42.788Z"
   },
   {
    "duration": 11,
    "start_time": "2022-10-22T06:38:42.794Z"
   },
   {
    "duration": 5,
    "start_time": "2022-10-22T06:38:42.807Z"
   },
   {
    "duration": 7,
    "start_time": "2022-10-22T06:38:42.813Z"
   },
   {
    "duration": 13,
    "start_time": "2022-10-22T06:38:42.822Z"
   },
   {
    "duration": 19,
    "start_time": "2022-10-22T06:38:42.836Z"
   },
   {
    "duration": 88,
    "start_time": "2022-10-22T06:38:42.857Z"
   },
   {
    "duration": 173,
    "start_time": "2022-10-22T06:38:42.946Z"
   },
   {
    "duration": 12,
    "start_time": "2022-10-22T06:38:43.120Z"
   },
   {
    "duration": 1210,
    "start_time": "2022-10-22T06:38:43.135Z"
   },
   {
    "duration": 155,
    "start_time": "2022-10-22T06:40:28.216Z"
   },
   {
    "duration": 1206,
    "start_time": "2022-10-22T06:40:47.287Z"
   },
   {
    "duration": 14,
    "start_time": "2022-10-22T06:41:14.937Z"
   },
   {
    "duration": 4,
    "start_time": "2022-10-22T06:41:41.456Z"
   },
   {
    "duration": 134,
    "start_time": "2022-10-22T06:41:41.461Z"
   },
   {
    "duration": 7,
    "start_time": "2022-10-22T06:41:41.597Z"
   },
   {
    "duration": 6,
    "start_time": "2022-10-22T06:41:41.606Z"
   },
   {
    "duration": 17,
    "start_time": "2022-10-22T06:41:41.614Z"
   },
   {
    "duration": 6,
    "start_time": "2022-10-22T06:41:41.632Z"
   },
   {
    "duration": 8,
    "start_time": "2022-10-22T06:41:41.639Z"
   },
   {
    "duration": 128,
    "start_time": "2022-10-22T06:41:41.648Z"
   },
   {
    "duration": 11,
    "start_time": "2022-10-22T06:41:41.777Z"
   },
   {
    "duration": 60,
    "start_time": "2022-10-22T06:41:41.789Z"
   },
   {
    "duration": 82,
    "start_time": "2022-10-22T06:41:41.852Z"
   },
   {
    "duration": 76,
    "start_time": "2022-10-22T06:41:41.936Z"
   },
   {
    "duration": 11,
    "start_time": "2022-10-22T06:41:42.014Z"
   },
   {
    "duration": 8,
    "start_time": "2022-10-22T06:41:42.026Z"
   },
   {
    "duration": 13,
    "start_time": "2022-10-22T06:41:42.036Z"
   },
   {
    "duration": 4,
    "start_time": "2022-10-22T06:41:42.051Z"
   },
   {
    "duration": 182,
    "start_time": "2022-10-22T06:41:42.084Z"
   },
   {
    "duration": 177,
    "start_time": "2022-10-22T06:41:42.267Z"
   },
   {
    "duration": 4,
    "start_time": "2022-10-22T06:41:42.445Z"
   },
   {
    "duration": 13,
    "start_time": "2022-10-22T06:41:42.451Z"
   },
   {
    "duration": 5,
    "start_time": "2022-10-22T06:41:42.485Z"
   },
   {
    "duration": 2,
    "start_time": "2022-10-22T06:41:42.492Z"
   },
   {
    "duration": 11,
    "start_time": "2022-10-22T06:41:42.496Z"
   },
   {
    "duration": 21,
    "start_time": "2022-10-22T06:41:42.508Z"
   },
   {
    "duration": 83,
    "start_time": "2022-10-22T06:41:42.531Z"
   },
   {
    "duration": 179,
    "start_time": "2022-10-22T06:41:42.616Z"
   },
   {
    "duration": 14,
    "start_time": "2022-10-22T06:41:42.796Z"
   },
   {
    "duration": 1153,
    "start_time": "2022-10-22T06:41:42.811Z"
   },
   {
    "duration": 1250,
    "start_time": "2022-10-22T06:42:46.192Z"
   },
   {
    "duration": 13,
    "start_time": "2022-10-22T06:44:01.123Z"
   },
   {
    "duration": 1090,
    "start_time": "2022-10-22T06:44:02.393Z"
   },
   {
    "duration": 7,
    "start_time": "2022-10-22T06:44:59.548Z"
   },
   {
    "duration": 1181,
    "start_time": "2022-10-22T06:45:18.221Z"
   },
   {
    "duration": 1145,
    "start_time": "2022-10-22T06:45:47.877Z"
   },
   {
    "duration": 143,
    "start_time": "2022-10-22T06:45:49.024Z"
   },
   {
    "duration": 12,
    "start_time": "2022-10-22T06:45:49.169Z"
   },
   {
    "duration": 3,
    "start_time": "2022-10-22T06:45:49.185Z"
   },
   {
    "duration": 26,
    "start_time": "2022-10-22T06:45:49.190Z"
   },
   {
    "duration": 11,
    "start_time": "2022-10-22T06:45:49.218Z"
   },
   {
    "duration": 7,
    "start_time": "2022-10-22T06:45:49.231Z"
   },
   {
    "duration": 134,
    "start_time": "2022-10-22T06:45:49.240Z"
   },
   {
    "duration": 12,
    "start_time": "2022-10-22T06:45:49.376Z"
   },
   {
    "duration": 72,
    "start_time": "2022-10-22T06:45:49.391Z"
   },
   {
    "duration": 95,
    "start_time": "2022-10-22T06:45:49.465Z"
   },
   {
    "duration": 95,
    "start_time": "2022-10-22T06:45:49.562Z"
   },
   {
    "duration": 10,
    "start_time": "2022-10-22T06:45:49.659Z"
   },
   {
    "duration": 6,
    "start_time": "2022-10-22T06:45:49.685Z"
   },
   {
    "duration": 13,
    "start_time": "2022-10-22T06:45:49.692Z"
   },
   {
    "duration": 5,
    "start_time": "2022-10-22T06:45:49.706Z"
   },
   {
    "duration": 309,
    "start_time": "2022-10-22T06:45:49.712Z"
   },
   {
    "duration": 205,
    "start_time": "2022-10-22T06:45:50.023Z"
   },
   {
    "duration": 5,
    "start_time": "2022-10-22T06:45:50.229Z"
   },
   {
    "duration": 12,
    "start_time": "2022-10-22T06:45:50.235Z"
   },
   {
    "duration": 6,
    "start_time": "2022-10-22T06:45:50.249Z"
   },
   {
    "duration": 29,
    "start_time": "2022-10-22T06:45:50.256Z"
   },
   {
    "duration": 15,
    "start_time": "2022-10-22T06:45:50.287Z"
   },
   {
    "duration": 25,
    "start_time": "2022-10-22T06:45:50.304Z"
   },
   {
    "duration": 83,
    "start_time": "2022-10-22T06:45:50.330Z"
   },
   {
    "duration": 170,
    "start_time": "2022-10-22T06:45:50.415Z"
   },
   {
    "duration": 15,
    "start_time": "2022-10-22T06:45:50.586Z"
   },
   {
    "duration": 1272,
    "start_time": "2022-10-22T06:45:50.604Z"
   },
   {
    "duration": 61,
    "start_time": "2022-10-22T06:47:01.714Z"
   },
   {
    "duration": 60,
    "start_time": "2022-10-22T06:47:18.125Z"
   },
   {
    "duration": 4,
    "start_time": "2022-10-22T06:47:32.610Z"
   },
   {
    "duration": 150,
    "start_time": "2022-10-22T06:47:32.616Z"
   },
   {
    "duration": 7,
    "start_time": "2022-10-22T06:47:32.768Z"
   },
   {
    "duration": 11,
    "start_time": "2022-10-22T06:47:32.777Z"
   },
   {
    "duration": 26,
    "start_time": "2022-10-22T06:47:32.790Z"
   },
   {
    "duration": 6,
    "start_time": "2022-10-22T06:47:32.817Z"
   },
   {
    "duration": 12,
    "start_time": "2022-10-22T06:47:32.825Z"
   },
   {
    "duration": 111,
    "start_time": "2022-10-22T06:47:32.838Z"
   },
   {
    "duration": 9,
    "start_time": "2022-10-22T06:47:32.951Z"
   },
   {
    "duration": 77,
    "start_time": "2022-10-22T06:47:32.962Z"
   },
   {
    "duration": 77,
    "start_time": "2022-10-22T06:47:33.040Z"
   },
   {
    "duration": 90,
    "start_time": "2022-10-22T06:47:33.118Z"
   },
   {
    "duration": 10,
    "start_time": "2022-10-22T06:47:33.210Z"
   },
   {
    "duration": 14,
    "start_time": "2022-10-22T06:47:33.222Z"
   },
   {
    "duration": 28,
    "start_time": "2022-10-22T06:47:33.238Z"
   },
   {
    "duration": 16,
    "start_time": "2022-10-22T06:47:33.268Z"
   },
   {
    "duration": 177,
    "start_time": "2022-10-22T06:47:33.286Z"
   },
   {
    "duration": 172,
    "start_time": "2022-10-22T06:47:33.465Z"
   },
   {
    "duration": 4,
    "start_time": "2022-10-22T06:47:33.639Z"
   },
   {
    "duration": 12,
    "start_time": "2022-10-22T06:47:33.644Z"
   },
   {
    "duration": 12,
    "start_time": "2022-10-22T06:47:33.658Z"
   },
   {
    "duration": 14,
    "start_time": "2022-10-22T06:47:33.671Z"
   },
   {
    "duration": 9,
    "start_time": "2022-10-22T06:47:33.686Z"
   },
   {
    "duration": 20,
    "start_time": "2022-10-22T06:47:33.698Z"
   },
   {
    "duration": 81,
    "start_time": "2022-10-22T06:47:33.719Z"
   },
   {
    "duration": 166,
    "start_time": "2022-10-22T06:47:33.801Z"
   },
   {
    "duration": 20,
    "start_time": "2022-10-22T06:47:33.969Z"
   },
   {
    "duration": 1090,
    "start_time": "2022-10-22T06:47:33.990Z"
   },
   {
    "duration": 61,
    "start_time": "2022-10-22T06:48:06.720Z"
   },
   {
    "duration": 3,
    "start_time": "2022-10-22T06:48:14.340Z"
   },
   {
    "duration": 137,
    "start_time": "2022-10-22T06:48:14.344Z"
   },
   {
    "duration": 8,
    "start_time": "2022-10-22T06:48:14.482Z"
   },
   {
    "duration": 11,
    "start_time": "2022-10-22T06:48:14.491Z"
   },
   {
    "duration": 24,
    "start_time": "2022-10-22T06:48:14.504Z"
   },
   {
    "duration": 6,
    "start_time": "2022-10-22T06:48:14.529Z"
   },
   {
    "duration": 10,
    "start_time": "2022-10-22T06:48:14.536Z"
   },
   {
    "duration": 117,
    "start_time": "2022-10-22T06:48:14.548Z"
   },
   {
    "duration": 8,
    "start_time": "2022-10-22T06:48:14.667Z"
   },
   {
    "duration": 70,
    "start_time": "2022-10-22T06:48:14.676Z"
   },
   {
    "duration": 76,
    "start_time": "2022-10-22T06:48:14.831Z"
   },
   {
    "duration": 85,
    "start_time": "2022-10-22T06:48:14.909Z"
   },
   {
    "duration": 10,
    "start_time": "2022-10-22T06:48:14.996Z"
   },
   {
    "duration": 46,
    "start_time": "2022-10-22T06:48:15.008Z"
   },
   {
    "duration": 18,
    "start_time": "2022-10-22T06:48:15.055Z"
   },
   {
    "duration": 13,
    "start_time": "2022-10-22T06:48:15.074Z"
   },
   {
    "duration": 198,
    "start_time": "2022-10-22T06:48:15.088Z"
   },
   {
    "duration": 180,
    "start_time": "2022-10-22T06:48:15.288Z"
   },
   {
    "duration": 4,
    "start_time": "2022-10-22T06:48:15.470Z"
   },
   {
    "duration": 17,
    "start_time": "2022-10-22T06:48:15.475Z"
   },
   {
    "duration": 5,
    "start_time": "2022-10-22T06:48:15.494Z"
   },
   {
    "duration": 3,
    "start_time": "2022-10-22T06:48:15.501Z"
   },
   {
    "duration": 11,
    "start_time": "2022-10-22T06:48:15.505Z"
   },
   {
    "duration": 20,
    "start_time": "2022-10-22T06:48:15.517Z"
   },
   {
    "duration": 96,
    "start_time": "2022-10-22T06:48:15.539Z"
   },
   {
    "duration": 175,
    "start_time": "2022-10-22T06:48:15.637Z"
   },
   {
    "duration": 14,
    "start_time": "2022-10-22T06:48:15.814Z"
   },
   {
    "duration": 125,
    "start_time": "2022-10-22T06:48:15.830Z"
   },
   {
    "duration": 8,
    "start_time": "2022-10-22T06:50:40.531Z"
   },
   {
    "duration": 13,
    "start_time": "2022-10-22T07:18:19.271Z"
   },
   {
    "duration": 3,
    "start_time": "2022-10-22T07:18:28.868Z"
   },
   {
    "duration": 138,
    "start_time": "2022-10-22T07:18:28.872Z"
   },
   {
    "duration": 8,
    "start_time": "2022-10-22T07:18:29.012Z"
   },
   {
    "duration": 8,
    "start_time": "2022-10-22T07:18:29.022Z"
   },
   {
    "duration": 20,
    "start_time": "2022-10-22T07:18:29.032Z"
   },
   {
    "duration": 31,
    "start_time": "2022-10-22T07:18:29.054Z"
   },
   {
    "duration": 9,
    "start_time": "2022-10-22T07:18:29.087Z"
   },
   {
    "duration": 119,
    "start_time": "2022-10-22T07:18:29.098Z"
   },
   {
    "duration": 9,
    "start_time": "2022-10-22T07:18:29.219Z"
   },
   {
    "duration": 81,
    "start_time": "2022-10-22T07:18:29.230Z"
   },
   {
    "duration": 92,
    "start_time": "2022-10-22T07:18:29.315Z"
   },
   {
    "duration": 94,
    "start_time": "2022-10-22T07:18:29.409Z"
   },
   {
    "duration": 10,
    "start_time": "2022-10-22T07:18:29.505Z"
   },
   {
    "duration": 8,
    "start_time": "2022-10-22T07:18:29.517Z"
   },
   {
    "duration": 13,
    "start_time": "2022-10-22T07:18:29.526Z"
   },
   {
    "duration": 6,
    "start_time": "2022-10-22T07:18:29.540Z"
   },
   {
    "duration": 215,
    "start_time": "2022-10-22T07:18:29.547Z"
   },
   {
    "duration": 192,
    "start_time": "2022-10-22T07:18:29.764Z"
   },
   {
    "duration": 4,
    "start_time": "2022-10-22T07:18:29.958Z"
   },
   {
    "duration": 23,
    "start_time": "2022-10-22T07:18:29.963Z"
   },
   {
    "duration": 6,
    "start_time": "2022-10-22T07:18:29.987Z"
   },
   {
    "duration": 13,
    "start_time": "2022-10-22T07:18:29.994Z"
   },
   {
    "duration": 18,
    "start_time": "2022-10-22T07:18:30.010Z"
   },
   {
    "duration": 45,
    "start_time": "2022-10-22T07:18:30.030Z"
   },
   {
    "duration": 69,
    "start_time": "2022-10-22T07:18:30.077Z"
   },
   {
    "duration": 176,
    "start_time": "2022-10-22T07:18:30.147Z"
   },
   {
    "duration": 15,
    "start_time": "2022-10-22T07:18:30.325Z"
   },
   {
    "duration": 20,
    "start_time": "2022-10-22T07:18:30.341Z"
   },
   {
    "duration": 30,
    "start_time": "2022-10-22T07:18:30.365Z"
   },
   {
    "duration": 12,
    "start_time": "2022-10-22T07:18:45.212Z"
   },
   {
    "duration": 3,
    "start_time": "2022-10-22T07:18:50.514Z"
   },
   {
    "duration": 136,
    "start_time": "2022-10-22T07:18:50.519Z"
   },
   {
    "duration": 7,
    "start_time": "2022-10-22T07:18:50.657Z"
   },
   {
    "duration": 4,
    "start_time": "2022-10-22T07:18:50.666Z"
   },
   {
    "duration": 25,
    "start_time": "2022-10-22T07:18:50.671Z"
   },
   {
    "duration": 5,
    "start_time": "2022-10-22T07:18:50.698Z"
   },
   {
    "duration": 7,
    "start_time": "2022-10-22T07:18:50.705Z"
   },
   {
    "duration": 127,
    "start_time": "2022-10-22T07:18:50.713Z"
   },
   {
    "duration": 8,
    "start_time": "2022-10-22T07:18:50.842Z"
   },
   {
    "duration": 75,
    "start_time": "2022-10-22T07:18:50.852Z"
   },
   {
    "duration": 83,
    "start_time": "2022-10-22T07:18:50.928Z"
   },
   {
    "duration": 92,
    "start_time": "2022-10-22T07:18:51.012Z"
   },
   {
    "duration": 10,
    "start_time": "2022-10-22T07:18:51.106Z"
   },
   {
    "duration": 37,
    "start_time": "2022-10-22T07:18:51.117Z"
   },
   {
    "duration": 32,
    "start_time": "2022-10-22T07:18:51.155Z"
   },
   {
    "duration": 37,
    "start_time": "2022-10-22T07:18:51.188Z"
   },
   {
    "duration": 203,
    "start_time": "2022-10-22T07:18:51.227Z"
   },
   {
    "duration": 187,
    "start_time": "2022-10-22T07:18:51.432Z"
   },
   {
    "duration": 4,
    "start_time": "2022-10-22T07:18:51.621Z"
   },
   {
    "duration": 29,
    "start_time": "2022-10-22T07:18:51.626Z"
   },
   {
    "duration": 37,
    "start_time": "2022-10-22T07:18:51.656Z"
   },
   {
    "duration": 26,
    "start_time": "2022-10-22T07:18:51.694Z"
   },
   {
    "duration": 32,
    "start_time": "2022-10-22T07:18:51.721Z"
   },
   {
    "duration": 55,
    "start_time": "2022-10-22T07:18:51.755Z"
   },
   {
    "duration": 73,
    "start_time": "2022-10-22T07:18:51.812Z"
   },
   {
    "duration": 162,
    "start_time": "2022-10-22T07:18:51.887Z"
   },
   {
    "duration": 14,
    "start_time": "2022-10-22T07:18:52.050Z"
   },
   {
    "duration": 86,
    "start_time": "2022-10-22T07:18:52.084Z"
   },
   {
    "duration": 16,
    "start_time": "2022-10-22T07:18:52.172Z"
   },
   {
    "duration": 8,
    "start_time": "2022-10-22T09:32:27.607Z"
   },
   {
    "duration": 63,
    "start_time": "2022-10-22T09:33:22.002Z"
   },
   {
    "duration": 91,
    "start_time": "2022-10-22T09:34:43.579Z"
   },
   {
    "duration": 100,
    "start_time": "2022-10-22T09:37:08.078Z"
   },
   {
    "duration": 101,
    "start_time": "2022-10-22T09:37:38.488Z"
   },
   {
    "duration": 30,
    "start_time": "2022-10-22T09:37:50.322Z"
   },
   {
    "duration": 27,
    "start_time": "2022-10-22T09:38:06.223Z"
   },
   {
    "duration": 70,
    "start_time": "2022-10-22T09:38:29.375Z"
   },
   {
    "duration": 83,
    "start_time": "2022-10-22T09:44:14.109Z"
   },
   {
    "duration": 0,
    "start_time": "2022-10-22T09:44:14.194Z"
   },
   {
    "duration": 0,
    "start_time": "2022-10-22T09:44:14.195Z"
   },
   {
    "duration": 0,
    "start_time": "2022-10-22T09:44:14.196Z"
   },
   {
    "duration": 0,
    "start_time": "2022-10-22T09:44:14.197Z"
   },
   {
    "duration": 0,
    "start_time": "2022-10-22T09:44:14.198Z"
   },
   {
    "duration": 0,
    "start_time": "2022-10-22T09:44:14.199Z"
   },
   {
    "duration": 0,
    "start_time": "2022-10-22T09:44:14.200Z"
   },
   {
    "duration": 0,
    "start_time": "2022-10-22T09:44:14.201Z"
   },
   {
    "duration": 0,
    "start_time": "2022-10-22T09:44:14.201Z"
   },
   {
    "duration": 0,
    "start_time": "2022-10-22T09:44:14.202Z"
   },
   {
    "duration": 0,
    "start_time": "2022-10-22T09:44:14.203Z"
   },
   {
    "duration": 0,
    "start_time": "2022-10-22T09:44:14.204Z"
   },
   {
    "duration": 0,
    "start_time": "2022-10-22T09:44:14.205Z"
   },
   {
    "duration": 0,
    "start_time": "2022-10-22T09:44:14.206Z"
   },
   {
    "duration": 0,
    "start_time": "2022-10-22T09:44:14.207Z"
   },
   {
    "duration": 0,
    "start_time": "2022-10-22T09:44:14.208Z"
   },
   {
    "duration": 0,
    "start_time": "2022-10-22T09:44:14.208Z"
   },
   {
    "duration": 0,
    "start_time": "2022-10-22T09:44:14.209Z"
   },
   {
    "duration": 0,
    "start_time": "2022-10-22T09:44:14.211Z"
   },
   {
    "duration": 0,
    "start_time": "2022-10-22T09:44:14.212Z"
   },
   {
    "duration": 0,
    "start_time": "2022-10-22T09:44:14.212Z"
   },
   {
    "duration": 0,
    "start_time": "2022-10-22T09:44:14.213Z"
   },
   {
    "duration": 0,
    "start_time": "2022-10-22T09:44:14.214Z"
   },
   {
    "duration": 0,
    "start_time": "2022-10-22T09:44:14.215Z"
   },
   {
    "duration": 0,
    "start_time": "2022-10-22T09:44:14.216Z"
   },
   {
    "duration": 0,
    "start_time": "2022-10-22T09:44:14.217Z"
   },
   {
    "duration": 0,
    "start_time": "2022-10-22T09:44:14.218Z"
   },
   {
    "duration": 0,
    "start_time": "2022-10-22T09:44:14.219Z"
   },
   {
    "duration": 0,
    "start_time": "2022-10-22T09:44:14.220Z"
   },
   {
    "duration": 0,
    "start_time": "2022-10-22T09:44:14.222Z"
   },
   {
    "duration": 0,
    "start_time": "2022-10-22T09:44:14.222Z"
   },
   {
    "duration": 3,
    "start_time": "2022-10-22T09:45:01.294Z"
   },
   {
    "duration": 152,
    "start_time": "2022-10-22T09:45:01.299Z"
   },
   {
    "duration": 7,
    "start_time": "2022-10-22T09:45:01.453Z"
   },
   {
    "duration": 8,
    "start_time": "2022-10-22T09:45:01.462Z"
   },
   {
    "duration": 22,
    "start_time": "2022-10-22T09:45:01.471Z"
   },
   {
    "duration": 6,
    "start_time": "2022-10-22T09:45:01.495Z"
   },
   {
    "duration": 11,
    "start_time": "2022-10-22T09:45:01.502Z"
   },
   {
    "duration": 118,
    "start_time": "2022-10-22T09:45:01.515Z"
   },
   {
    "duration": 10,
    "start_time": "2022-10-22T09:45:01.635Z"
   },
   {
    "duration": 127,
    "start_time": "2022-10-22T09:45:01.646Z"
   },
   {
    "duration": 85,
    "start_time": "2022-10-22T09:45:01.775Z"
   },
   {
    "duration": 93,
    "start_time": "2022-10-22T09:45:01.862Z"
   },
   {
    "duration": 12,
    "start_time": "2022-10-22T09:45:01.956Z"
   },
   {
    "duration": 33,
    "start_time": "2022-10-22T09:45:01.985Z"
   },
   {
    "duration": 103,
    "start_time": "2022-10-22T09:45:02.020Z"
   },
   {
    "duration": 52,
    "start_time": "2022-10-22T09:45:02.124Z"
   },
   {
    "duration": 198,
    "start_time": "2022-10-22T09:45:02.178Z"
   },
   {
    "duration": 174,
    "start_time": "2022-10-22T09:45:02.377Z"
   },
   {
    "duration": 5,
    "start_time": "2022-10-22T09:45:02.552Z"
   },
   {
    "duration": 17,
    "start_time": "2022-10-22T09:45:02.558Z"
   },
   {
    "duration": 6,
    "start_time": "2022-10-22T09:45:02.585Z"
   },
   {
    "duration": 34,
    "start_time": "2022-10-22T09:45:02.593Z"
   },
   {
    "duration": 39,
    "start_time": "2022-10-22T09:45:02.628Z"
   },
   {
    "duration": 19,
    "start_time": "2022-10-22T09:45:02.670Z"
   },
   {
    "duration": 72,
    "start_time": "2022-10-22T09:45:02.691Z"
   },
   {
    "duration": 172,
    "start_time": "2022-10-22T09:45:02.765Z"
   },
   {
    "duration": 14,
    "start_time": "2022-10-22T09:45:02.938Z"
   },
   {
    "duration": 55,
    "start_time": "2022-10-22T09:45:02.954Z"
   },
   {
    "duration": 134,
    "start_time": "2022-10-22T09:45:03.010Z"
   },
   {
    "duration": 21,
    "start_time": "2022-10-22T09:45:03.146Z"
   },
   {
    "duration": 31,
    "start_time": "2022-10-22T09:45:03.169Z"
   },
   {
    "duration": 66,
    "start_time": "2022-10-22T09:45:03.202Z"
   },
   {
    "duration": 35,
    "start_time": "2022-10-22T09:45:58.218Z"
   },
   {
    "duration": 1180,
    "start_time": "2022-10-22T09:47:37.541Z"
   },
   {
    "duration": 1130,
    "start_time": "2022-10-22T09:54:42.615Z"
   },
   {
    "duration": 40,
    "start_time": "2022-10-22T09:55:06.917Z"
   },
   {
    "duration": 1005,
    "start_time": "2022-10-22T09:56:21.878Z"
   },
   {
    "duration": 30,
    "start_time": "2022-10-22T09:57:06.218Z"
   },
   {
    "duration": 86,
    "start_time": "2022-10-22T10:03:50.656Z"
   },
   {
    "duration": 1248,
    "start_time": "2022-10-22T10:04:04.498Z"
   },
   {
    "duration": 95,
    "start_time": "2022-10-22T10:04:18.039Z"
   },
   {
    "duration": 98,
    "start_time": "2022-10-22T10:04:33.203Z"
   },
   {
    "duration": 98,
    "start_time": "2022-10-22T10:04:48.325Z"
   },
   {
    "duration": 97,
    "start_time": "2022-10-22T10:05:05.011Z"
   },
   {
    "duration": 85,
    "start_time": "2022-10-22T10:05:37.801Z"
   },
   {
    "duration": 97,
    "start_time": "2022-10-22T10:05:43.845Z"
   },
   {
    "duration": 97,
    "start_time": "2022-10-22T10:06:07.618Z"
   },
   {
    "duration": 96,
    "start_time": "2022-10-22T10:06:44.609Z"
   },
   {
    "duration": 100,
    "start_time": "2022-10-22T10:07:25.645Z"
   },
   {
    "duration": 94,
    "start_time": "2022-10-22T10:07:42.764Z"
   },
   {
    "duration": 1307,
    "start_time": "2022-10-22T10:08:33.141Z"
   },
   {
    "duration": 102,
    "start_time": "2022-10-22T10:08:54.799Z"
   },
   {
    "duration": 1295,
    "start_time": "2022-10-22T10:09:48.561Z"
   },
   {
    "duration": 100,
    "start_time": "2022-10-22T10:09:58.061Z"
   },
   {
    "duration": 100,
    "start_time": "2022-10-22T10:17:06.729Z"
   },
   {
    "duration": 29,
    "start_time": "2022-10-22T10:19:18.312Z"
   },
   {
    "duration": 109,
    "start_time": "2022-10-22T10:23:13.221Z"
   },
   {
    "duration": 127,
    "start_time": "2022-10-22T10:23:46.840Z"
   },
   {
    "duration": 5,
    "start_time": "2022-10-22T10:42:33.638Z"
   },
   {
    "duration": 8,
    "start_time": "2022-10-22T10:42:59.272Z"
   },
   {
    "duration": 11,
    "start_time": "2022-10-22T10:43:08.626Z"
   },
   {
    "duration": 11,
    "start_time": "2022-10-22T10:43:26.511Z"
   },
   {
    "duration": 18,
    "start_time": "2022-10-22T10:43:27.210Z"
   },
   {
    "duration": 7,
    "start_time": "2022-10-22T10:45:53.391Z"
   },
   {
    "duration": 13,
    "start_time": "2022-10-22T10:45:54.448Z"
   },
   {
    "duration": 5,
    "start_time": "2022-10-22T10:46:09.946Z"
   },
   {
    "duration": 11,
    "start_time": "2022-10-22T10:46:11.109Z"
   },
   {
    "duration": 4,
    "start_time": "2022-10-22T10:54:19.896Z"
   },
   {
    "duration": 9,
    "start_time": "2022-10-22T10:54:21.299Z"
   },
   {
    "duration": 7,
    "start_time": "2022-10-22T10:57:53.746Z"
   },
   {
    "duration": 10,
    "start_time": "2022-10-22T10:59:41.627Z"
   },
   {
    "duration": 12,
    "start_time": "2022-10-22T11:02:36.959Z"
   },
   {
    "duration": 8,
    "start_time": "2022-10-22T11:03:12.167Z"
   },
   {
    "duration": 8,
    "start_time": "2022-10-22T11:31:00.951Z"
   },
   {
    "duration": 3,
    "start_time": "2022-10-22T11:31:09.898Z"
   },
   {
    "duration": 155,
    "start_time": "2022-10-22T11:31:09.902Z"
   },
   {
    "duration": 7,
    "start_time": "2022-10-22T11:31:10.059Z"
   },
   {
    "duration": 30,
    "start_time": "2022-10-22T11:31:10.068Z"
   },
   {
    "duration": 36,
    "start_time": "2022-10-22T11:31:10.100Z"
   },
   {
    "duration": 5,
    "start_time": "2022-10-22T11:31:10.137Z"
   },
   {
    "duration": 15,
    "start_time": "2022-10-22T11:31:10.144Z"
   },
   {
    "duration": 113,
    "start_time": "2022-10-22T11:31:10.161Z"
   },
   {
    "duration": 25,
    "start_time": "2022-10-22T11:31:10.276Z"
   },
   {
    "duration": 76,
    "start_time": "2022-10-22T11:31:10.303Z"
   },
   {
    "duration": 81,
    "start_time": "2022-10-22T11:31:10.380Z"
   },
   {
    "duration": 92,
    "start_time": "2022-10-22T11:31:10.462Z"
   },
   {
    "duration": 10,
    "start_time": "2022-10-22T11:31:10.556Z"
   },
   {
    "duration": 27,
    "start_time": "2022-10-22T11:31:10.568Z"
   },
   {
    "duration": 17,
    "start_time": "2022-10-22T11:31:10.597Z"
   },
   {
    "duration": 7,
    "start_time": "2022-10-22T11:31:10.615Z"
   },
   {
    "duration": 204,
    "start_time": "2022-10-22T11:31:10.623Z"
   },
   {
    "duration": 184,
    "start_time": "2022-10-22T11:31:10.828Z"
   },
   {
    "duration": 4,
    "start_time": "2022-10-22T11:31:11.014Z"
   },
   {
    "duration": 13,
    "start_time": "2022-10-22T11:31:11.020Z"
   },
   {
    "duration": 7,
    "start_time": "2022-10-22T11:31:11.034Z"
   },
   {
    "duration": 4,
    "start_time": "2022-10-22T11:31:11.042Z"
   },
   {
    "duration": 11,
    "start_time": "2022-10-22T11:31:11.047Z"
   },
   {
    "duration": 24,
    "start_time": "2022-10-22T11:31:11.089Z"
   },
   {
    "duration": 68,
    "start_time": "2022-10-22T11:31:11.114Z"
   },
   {
    "duration": 184,
    "start_time": "2022-10-22T11:31:11.190Z"
   },
   {
    "duration": 25,
    "start_time": "2022-10-22T11:31:11.375Z"
   },
   {
    "duration": 9,
    "start_time": "2022-10-22T11:31:11.401Z"
   },
   {
    "duration": 16,
    "start_time": "2022-10-22T11:31:11.411Z"
   },
   {
    "duration": 11,
    "start_time": "2022-10-22T11:31:11.429Z"
   },
   {
    "duration": 55,
    "start_time": "2022-10-22T11:31:11.441Z"
   },
   {
    "duration": 110,
    "start_time": "2022-10-22T11:31:11.498Z"
   },
   {
    "duration": 4,
    "start_time": "2022-10-22T11:31:11.610Z"
   },
   {
    "duration": 15,
    "start_time": "2022-10-22T11:31:11.616Z"
   },
   {
    "duration": 9,
    "start_time": "2022-10-22T11:31:11.632Z"
   },
   {
    "duration": 20,
    "start_time": "2022-10-22T11:31:11.642Z"
   },
   {
    "duration": 27,
    "start_time": "2022-10-22T11:31:11.664Z"
   },
   {
    "duration": 4,
    "start_time": "2022-10-22T12:02:22.699Z"
   },
   {
    "duration": 151,
    "start_time": "2022-10-22T12:02:22.705Z"
   },
   {
    "duration": 9,
    "start_time": "2022-10-22T12:02:22.858Z"
   },
   {
    "duration": 18,
    "start_time": "2022-10-22T12:02:22.869Z"
   },
   {
    "duration": 43,
    "start_time": "2022-10-22T12:02:22.890Z"
   },
   {
    "duration": 13,
    "start_time": "2022-10-22T12:02:22.935Z"
   },
   {
    "duration": 11,
    "start_time": "2022-10-22T12:02:22.950Z"
   },
   {
    "duration": 135,
    "start_time": "2022-10-22T12:02:22.963Z"
   },
   {
    "duration": 10,
    "start_time": "2022-10-22T12:02:23.099Z"
   },
   {
    "duration": 89,
    "start_time": "2022-10-22T12:02:23.111Z"
   },
   {
    "duration": 67,
    "start_time": "2022-10-22T12:02:23.202Z"
   },
   {
    "duration": 85,
    "start_time": "2022-10-22T12:02:23.270Z"
   },
   {
    "duration": 11,
    "start_time": "2022-10-22T12:02:23.356Z"
   },
   {
    "duration": 30,
    "start_time": "2022-10-22T12:02:23.369Z"
   },
   {
    "duration": 15,
    "start_time": "2022-10-22T12:02:23.402Z"
   },
   {
    "duration": 21,
    "start_time": "2022-10-22T12:02:23.419Z"
   },
   {
    "duration": 203,
    "start_time": "2022-10-22T12:02:23.441Z"
   },
   {
    "duration": 209,
    "start_time": "2022-10-22T12:02:23.645Z"
   },
   {
    "duration": 6,
    "start_time": "2022-10-22T12:02:23.856Z"
   },
   {
    "duration": 47,
    "start_time": "2022-10-22T12:02:23.864Z"
   },
   {
    "duration": 10,
    "start_time": "2022-10-22T12:02:23.913Z"
   },
   {
    "duration": 15,
    "start_time": "2022-10-22T12:02:23.925Z"
   },
   {
    "duration": 16,
    "start_time": "2022-10-22T12:02:23.942Z"
   },
   {
    "duration": 44,
    "start_time": "2022-10-22T12:02:23.960Z"
   },
   {
    "duration": 91,
    "start_time": "2022-10-22T12:02:24.006Z"
   },
   {
    "duration": 196,
    "start_time": "2022-10-22T12:02:24.102Z"
   },
   {
    "duration": 17,
    "start_time": "2022-10-22T12:02:24.301Z"
   },
   {
    "duration": 122,
    "start_time": "2022-10-22T12:02:24.320Z"
   },
   {
    "duration": 29,
    "start_time": "2022-10-22T12:02:24.444Z"
   },
   {
    "duration": 22,
    "start_time": "2022-10-22T12:02:24.476Z"
   },
   {
    "duration": 40,
    "start_time": "2022-10-22T12:02:24.499Z"
   },
   {
    "duration": 105,
    "start_time": "2022-10-22T12:02:24.541Z"
   },
   {
    "duration": 5,
    "start_time": "2022-10-22T12:02:24.648Z"
   },
   {
    "duration": 51,
    "start_time": "2022-10-22T12:02:24.655Z"
   },
   {
    "duration": 27,
    "start_time": "2022-10-22T12:02:24.708Z"
   },
   {
    "duration": 19,
    "start_time": "2022-10-22T12:02:24.737Z"
   },
   {
    "duration": 14,
    "start_time": "2022-10-22T12:02:24.757Z"
   },
   {
    "duration": 1309,
    "start_time": "2022-10-22T14:42:59.898Z"
   },
   {
    "duration": 722,
    "start_time": "2022-10-22T14:43:01.209Z"
   },
   {
    "duration": 10,
    "start_time": "2022-10-22T14:43:01.933Z"
   },
   {
    "duration": 9,
    "start_time": "2022-10-22T14:43:01.945Z"
   },
   {
    "duration": 38,
    "start_time": "2022-10-22T14:43:01.955Z"
   },
   {
    "duration": 16,
    "start_time": "2022-10-22T14:43:01.994Z"
   },
   {
    "duration": 20,
    "start_time": "2022-10-22T14:43:02.011Z"
   },
   {
    "duration": 118,
    "start_time": "2022-10-22T14:43:02.032Z"
   },
   {
    "duration": 8,
    "start_time": "2022-10-22T14:43:02.151Z"
   },
   {
    "duration": 83,
    "start_time": "2022-10-22T14:43:02.161Z"
   },
   {
    "duration": 90,
    "start_time": "2022-10-22T14:43:02.245Z"
   },
   {
    "duration": 85,
    "start_time": "2022-10-22T14:43:02.336Z"
   },
   {
    "duration": 11,
    "start_time": "2022-10-22T14:43:02.423Z"
   },
   {
    "duration": 23,
    "start_time": "2022-10-22T14:43:02.435Z"
   },
   {
    "duration": 20,
    "start_time": "2022-10-22T14:43:02.460Z"
   },
   {
    "duration": 15,
    "start_time": "2022-10-22T14:43:02.482Z"
   },
   {
    "duration": 271,
    "start_time": "2022-10-22T14:43:02.499Z"
   },
   {
    "duration": 188,
    "start_time": "2022-10-22T14:43:02.772Z"
   },
   {
    "duration": 4,
    "start_time": "2022-10-22T14:43:02.962Z"
   },
   {
    "duration": 18,
    "start_time": "2022-10-22T14:43:02.968Z"
   },
   {
    "duration": 26,
    "start_time": "2022-10-22T14:43:02.988Z"
   },
   {
    "duration": 25,
    "start_time": "2022-10-22T14:43:03.015Z"
   },
   {
    "duration": 22,
    "start_time": "2022-10-22T14:43:03.042Z"
   },
   {
    "duration": 40,
    "start_time": "2022-10-22T14:43:03.065Z"
   },
   {
    "duration": 73,
    "start_time": "2022-10-22T14:43:03.107Z"
   },
   {
    "duration": 153,
    "start_time": "2022-10-22T14:43:03.182Z"
   },
   {
    "duration": 13,
    "start_time": "2022-10-22T14:43:03.336Z"
   },
   {
    "duration": 248,
    "start_time": "2022-10-22T14:43:03.351Z"
   },
   {
    "duration": 8,
    "start_time": "2022-10-22T14:43:03.600Z"
   },
   {
    "duration": 31,
    "start_time": "2022-10-22T14:43:03.609Z"
   },
   {
    "duration": 68,
    "start_time": "2022-10-22T14:43:03.642Z"
   },
   {
    "duration": 122,
    "start_time": "2022-10-22T14:43:03.711Z"
   },
   {
    "duration": 5,
    "start_time": "2022-10-22T14:43:03.835Z"
   },
   {
    "duration": 29,
    "start_time": "2022-10-22T14:43:03.841Z"
   },
   {
    "duration": 15,
    "start_time": "2022-10-22T14:43:03.872Z"
   },
   {
    "duration": 15,
    "start_time": "2022-10-22T14:43:03.888Z"
   },
   {
    "duration": 16,
    "start_time": "2022-10-22T14:43:03.904Z"
   },
   {
    "duration": 7,
    "start_time": "2022-10-23T06:09:15.305Z"
   },
   {
    "duration": 29,
    "start_time": "2022-10-23T06:10:31.349Z"
   },
   {
    "duration": 26,
    "start_time": "2022-10-23T06:11:50.714Z"
   },
   {
    "duration": 3,
    "start_time": "2022-10-23T06:15:32.925Z"
   },
   {
    "duration": 137,
    "start_time": "2022-10-23T06:15:32.929Z"
   },
   {
    "duration": 18,
    "start_time": "2022-10-23T06:15:33.067Z"
   },
   {
    "duration": 3,
    "start_time": "2022-10-23T06:15:33.088Z"
   },
   {
    "duration": 20,
    "start_time": "2022-10-23T06:15:33.092Z"
   },
   {
    "duration": 5,
    "start_time": "2022-10-23T06:15:33.113Z"
   },
   {
    "duration": 7,
    "start_time": "2022-10-23T06:15:33.120Z"
   },
   {
    "duration": 124,
    "start_time": "2022-10-23T06:15:33.128Z"
   },
   {
    "duration": 8,
    "start_time": "2022-10-23T06:15:33.255Z"
   },
   {
    "duration": 76,
    "start_time": "2022-10-23T06:15:33.265Z"
   },
   {
    "duration": 76,
    "start_time": "2022-10-23T06:15:33.343Z"
   },
   {
    "duration": 82,
    "start_time": "2022-10-23T06:15:33.421Z"
   },
   {
    "duration": 11,
    "start_time": "2022-10-23T06:15:33.505Z"
   },
   {
    "duration": 9,
    "start_time": "2022-10-23T06:15:33.518Z"
   },
   {
    "duration": 13,
    "start_time": "2022-10-23T06:15:33.528Z"
   },
   {
    "duration": 5,
    "start_time": "2022-10-23T06:15:33.543Z"
   },
   {
    "duration": 217,
    "start_time": "2022-10-23T06:15:33.549Z"
   },
   {
    "duration": 178,
    "start_time": "2022-10-23T06:15:33.768Z"
   },
   {
    "duration": 5,
    "start_time": "2022-10-23T06:15:33.948Z"
   },
   {
    "duration": 16,
    "start_time": "2022-10-23T06:15:33.954Z"
   },
   {
    "duration": 6,
    "start_time": "2022-10-23T06:15:33.984Z"
   },
   {
    "duration": 32,
    "start_time": "2022-10-23T06:15:33.991Z"
   },
   {
    "duration": 3,
    "start_time": "2022-10-23T06:15:34.024Z"
   },
   {
    "duration": 12,
    "start_time": "2022-10-23T06:15:34.030Z"
   },
   {
    "duration": 45,
    "start_time": "2022-10-23T06:15:34.043Z"
   },
   {
    "duration": 62,
    "start_time": "2022-10-23T06:15:34.089Z"
   },
   {
    "duration": 177,
    "start_time": "2022-10-23T06:15:34.153Z"
   },
   {
    "duration": 14,
    "start_time": "2022-10-23T06:15:34.331Z"
   },
   {
    "duration": 9,
    "start_time": "2022-10-23T06:15:34.346Z"
   },
   {
    "duration": 31,
    "start_time": "2022-10-23T06:15:34.357Z"
   },
   {
    "duration": 17,
    "start_time": "2022-10-23T06:15:34.389Z"
   },
   {
    "duration": 33,
    "start_time": "2022-10-23T06:15:34.407Z"
   },
   {
    "duration": 121,
    "start_time": "2022-10-23T06:15:34.442Z"
   },
   {
    "duration": 5,
    "start_time": "2022-10-23T06:15:34.564Z"
   },
   {
    "duration": 8,
    "start_time": "2022-10-23T06:15:34.584Z"
   },
   {
    "duration": 10,
    "start_time": "2022-10-23T06:15:34.594Z"
   },
   {
    "duration": 8,
    "start_time": "2022-10-23T06:15:34.606Z"
   },
   {
    "duration": 13,
    "start_time": "2022-10-23T06:15:34.616Z"
   },
   {
    "duration": 3,
    "start_time": "2022-10-23T06:16:25.649Z"
   },
   {
    "duration": 146,
    "start_time": "2022-10-23T06:16:25.656Z"
   },
   {
    "duration": 11,
    "start_time": "2022-10-23T06:16:25.804Z"
   },
   {
    "duration": 21,
    "start_time": "2022-10-23T06:16:25.817Z"
   },
   {
    "duration": 34,
    "start_time": "2022-10-23T06:16:25.840Z"
   },
   {
    "duration": 23,
    "start_time": "2022-10-23T06:16:25.875Z"
   },
   {
    "duration": 14,
    "start_time": "2022-10-23T06:16:25.899Z"
   },
   {
    "duration": 114,
    "start_time": "2022-10-23T06:16:25.914Z"
   },
   {
    "duration": 8,
    "start_time": "2022-10-23T06:16:26.030Z"
   },
   {
    "duration": 76,
    "start_time": "2022-10-23T06:16:26.039Z"
   },
   {
    "duration": 78,
    "start_time": "2022-10-23T06:16:26.118Z"
   },
   {
    "duration": 88,
    "start_time": "2022-10-23T06:16:26.197Z"
   },
   {
    "duration": 10,
    "start_time": "2022-10-23T06:16:26.287Z"
   },
   {
    "duration": 29,
    "start_time": "2022-10-23T06:16:26.298Z"
   },
   {
    "duration": 50,
    "start_time": "2022-10-23T06:16:26.328Z"
   },
   {
    "duration": 39,
    "start_time": "2022-10-23T06:16:26.380Z"
   },
   {
    "duration": 184,
    "start_time": "2022-10-23T06:16:26.421Z"
   },
   {
    "duration": 182,
    "start_time": "2022-10-23T06:16:26.606Z"
   },
   {
    "duration": 4,
    "start_time": "2022-10-23T06:16:26.789Z"
   },
   {
    "duration": 12,
    "start_time": "2022-10-23T06:16:26.795Z"
   },
   {
    "duration": 6,
    "start_time": "2022-10-23T06:16:26.808Z"
   },
   {
    "duration": 27,
    "start_time": "2022-10-23T06:16:26.815Z"
   },
   {
    "duration": 3,
    "start_time": "2022-10-23T06:16:26.844Z"
   },
   {
    "duration": 43,
    "start_time": "2022-10-23T06:16:26.849Z"
   },
   {
    "duration": 24,
    "start_time": "2022-10-23T06:16:26.897Z"
   },
   {
    "duration": 72,
    "start_time": "2022-10-23T06:16:26.923Z"
   },
   {
    "duration": 163,
    "start_time": "2022-10-23T06:16:26.997Z"
   },
   {
    "duration": 13,
    "start_time": "2022-10-23T06:16:27.162Z"
   },
   {
    "duration": 9,
    "start_time": "2022-10-23T06:16:27.187Z"
   },
   {
    "duration": 7,
    "start_time": "2022-10-23T06:16:27.197Z"
   },
   {
    "duration": 10,
    "start_time": "2022-10-23T06:16:27.205Z"
   },
   {
    "duration": 33,
    "start_time": "2022-10-23T06:16:27.216Z"
   },
   {
    "duration": 136,
    "start_time": "2022-10-23T06:16:27.251Z"
   },
   {
    "duration": 5,
    "start_time": "2022-10-23T06:16:27.389Z"
   },
   {
    "duration": 14,
    "start_time": "2022-10-23T06:16:27.396Z"
   },
   {
    "duration": 9,
    "start_time": "2022-10-23T06:16:27.411Z"
   },
   {
    "duration": 10,
    "start_time": "2022-10-23T06:16:27.421Z"
   },
   {
    "duration": 8,
    "start_time": "2022-10-23T06:16:27.432Z"
   },
   {
    "duration": 11,
    "start_time": "2022-10-23T06:17:10.375Z"
   },
   {
    "duration": 1149,
    "start_time": "2022-10-23T06:17:31.384Z"
   },
   {
    "duration": 138,
    "start_time": "2022-10-23T06:17:32.535Z"
   },
   {
    "duration": 20,
    "start_time": "2022-10-23T06:17:32.675Z"
   },
   {
    "duration": 3,
    "start_time": "2022-10-23T06:17:32.698Z"
   },
   {
    "duration": 21,
    "start_time": "2022-10-23T06:17:32.703Z"
   },
   {
    "duration": 11,
    "start_time": "2022-10-23T06:17:32.725Z"
   },
   {
    "duration": 47,
    "start_time": "2022-10-23T06:17:32.738Z"
   },
   {
    "duration": 107,
    "start_time": "2022-10-23T06:17:32.787Z"
   },
   {
    "duration": 8,
    "start_time": "2022-10-23T06:17:32.896Z"
   },
   {
    "duration": 95,
    "start_time": "2022-10-23T06:17:32.908Z"
   },
   {
    "duration": 92,
    "start_time": "2022-10-23T06:17:33.004Z"
   },
   {
    "duration": 98,
    "start_time": "2022-10-23T06:17:33.098Z"
   },
   {
    "duration": 11,
    "start_time": "2022-10-23T06:17:33.197Z"
   },
   {
    "duration": 10,
    "start_time": "2022-10-23T06:17:33.210Z"
   },
   {
    "duration": 14,
    "start_time": "2022-10-23T06:17:33.222Z"
   },
   {
    "duration": 4,
    "start_time": "2022-10-23T06:17:33.238Z"
   },
   {
    "duration": 274,
    "start_time": "2022-10-23T06:17:33.244Z"
   },
   {
    "duration": 182,
    "start_time": "2022-10-23T06:17:33.520Z"
   },
   {
    "duration": 3,
    "start_time": "2022-10-23T06:17:33.704Z"
   },
   {
    "duration": 11,
    "start_time": "2022-10-23T06:17:33.709Z"
   },
   {
    "duration": 6,
    "start_time": "2022-10-23T06:17:33.721Z"
   },
   {
    "duration": 30,
    "start_time": "2022-10-23T06:17:33.728Z"
   },
   {
    "duration": 4,
    "start_time": "2022-10-23T06:17:33.785Z"
   },
   {
    "duration": 17,
    "start_time": "2022-10-23T06:17:33.790Z"
   },
   {
    "duration": 21,
    "start_time": "2022-10-23T06:17:33.809Z"
   },
   {
    "duration": 81,
    "start_time": "2022-10-23T06:17:33.832Z"
   },
   {
    "duration": 177,
    "start_time": "2022-10-23T06:17:33.915Z"
   },
   {
    "duration": 16,
    "start_time": "2022-10-23T06:17:34.096Z"
   },
   {
    "duration": 131,
    "start_time": "2022-10-23T06:17:34.114Z"
   },
   {
    "duration": 8,
    "start_time": "2022-10-23T06:17:34.246Z"
   },
   {
    "duration": 32,
    "start_time": "2022-10-23T06:17:34.256Z"
   },
   {
    "duration": 31,
    "start_time": "2022-10-23T06:17:34.290Z"
   },
   {
    "duration": 187,
    "start_time": "2022-10-23T06:17:34.323Z"
   },
   {
    "duration": 4,
    "start_time": "2022-10-23T06:17:34.512Z"
   },
   {
    "duration": 29,
    "start_time": "2022-10-23T06:17:34.517Z"
   },
   {
    "duration": 8,
    "start_time": "2022-10-23T06:17:34.547Z"
   },
   {
    "duration": 13,
    "start_time": "2022-10-23T06:17:34.557Z"
   },
   {
    "duration": 18,
    "start_time": "2022-10-23T06:17:34.571Z"
   },
   {
    "duration": 10,
    "start_time": "2022-10-23T07:34:38.709Z"
   },
   {
    "duration": 9,
    "start_time": "2022-10-23T07:35:17.491Z"
   },
   {
    "duration": 120,
    "start_time": "2022-10-23T07:36:07.890Z"
   },
   {
    "duration": 9,
    "start_time": "2022-10-23T07:36:14.972Z"
   },
   {
    "duration": 7,
    "start_time": "2022-10-23T07:36:32.054Z"
   },
   {
    "duration": 104,
    "start_time": "2022-10-23T07:37:04.734Z"
   },
   {
    "duration": 8,
    "start_time": "2022-10-23T07:37:25.574Z"
   },
   {
    "duration": 72,
    "start_time": "2022-10-23T07:41:16.312Z"
   },
   {
    "duration": 17,
    "start_time": "2022-10-23T07:41:26.949Z"
   },
   {
    "duration": 16,
    "start_time": "2022-10-23T07:42:30.449Z"
   },
   {
    "duration": 10,
    "start_time": "2022-10-23T07:54:44.247Z"
   },
   {
    "duration": 9,
    "start_time": "2022-10-23T07:56:20.098Z"
   },
   {
    "duration": 14,
    "start_time": "2022-10-23T07:58:53.671Z"
   },
   {
    "duration": 14,
    "start_time": "2022-10-23T08:01:04.519Z"
   },
   {
    "duration": 14,
    "start_time": "2022-10-23T08:01:28.496Z"
   },
   {
    "duration": 13,
    "start_time": "2022-10-23T08:01:47.938Z"
   },
   {
    "duration": 14,
    "start_time": "2022-10-23T08:01:53.946Z"
   },
   {
    "duration": 69,
    "start_time": "2022-10-23T08:03:48.556Z"
   },
   {
    "duration": 8,
    "start_time": "2022-10-23T08:04:05.304Z"
   },
   {
    "duration": 74,
    "start_time": "2022-10-23T08:04:54.653Z"
   },
   {
    "duration": 72,
    "start_time": "2022-10-23T08:05:04.368Z"
   },
   {
    "duration": 8,
    "start_time": "2022-10-23T08:05:09.648Z"
   },
   {
    "duration": 8,
    "start_time": "2022-10-23T08:05:23.623Z"
   },
   {
    "duration": 8,
    "start_time": "2022-10-23T08:08:08.775Z"
   },
   {
    "duration": 13,
    "start_time": "2022-10-23T08:08:21.670Z"
   },
   {
    "duration": 9,
    "start_time": "2022-10-23T08:20:10.576Z"
   },
   {
    "duration": 10,
    "start_time": "2022-10-23T08:20:56.027Z"
   },
   {
    "duration": 13,
    "start_time": "2022-10-23T08:21:17.622Z"
   },
   {
    "duration": 77,
    "start_time": "2022-10-23T08:21:25.419Z"
   },
   {
    "duration": 13,
    "start_time": "2022-10-23T08:21:38.919Z"
   },
   {
    "duration": 9,
    "start_time": "2022-10-23T08:21:46.246Z"
   },
   {
    "duration": 8,
    "start_time": "2022-10-23T08:21:58.690Z"
   },
   {
    "duration": 73,
    "start_time": "2022-10-23T08:22:33.154Z"
   },
   {
    "duration": 9,
    "start_time": "2022-10-23T08:22:40.651Z"
   },
   {
    "duration": 13,
    "start_time": "2022-10-23T08:22:52.445Z"
   },
   {
    "duration": 9,
    "start_time": "2022-10-23T08:23:01.184Z"
   },
   {
    "duration": 9,
    "start_time": "2022-10-23T08:23:32.002Z"
   },
   {
    "duration": 10,
    "start_time": "2022-10-23T08:53:46.463Z"
   },
   {
    "duration": 6,
    "start_time": "2022-10-23T08:53:52.669Z"
   },
   {
    "duration": 11,
    "start_time": "2022-10-23T08:55:50.246Z"
   },
   {
    "duration": 9,
    "start_time": "2022-10-23T08:56:01.510Z"
   },
   {
    "duration": 3,
    "start_time": "2022-10-23T08:56:08.184Z"
   },
   {
    "duration": 141,
    "start_time": "2022-10-23T08:56:08.189Z"
   },
   {
    "duration": 8,
    "start_time": "2022-10-23T08:56:08.331Z"
   },
   {
    "duration": 4,
    "start_time": "2022-10-23T08:56:08.341Z"
   },
   {
    "duration": 40,
    "start_time": "2022-10-23T08:56:08.347Z"
   },
   {
    "duration": 8,
    "start_time": "2022-10-23T08:56:08.388Z"
   },
   {
    "duration": 10,
    "start_time": "2022-10-23T08:56:08.397Z"
   },
   {
    "duration": 128,
    "start_time": "2022-10-23T08:56:08.409Z"
   },
   {
    "duration": 9,
    "start_time": "2022-10-23T08:56:08.539Z"
   },
   {
    "duration": 85,
    "start_time": "2022-10-23T08:56:08.550Z"
   },
   {
    "duration": 88,
    "start_time": "2022-10-23T08:56:08.638Z"
   },
   {
    "duration": 96,
    "start_time": "2022-10-23T08:56:08.728Z"
   },
   {
    "duration": 12,
    "start_time": "2022-10-23T08:56:08.826Z"
   },
   {
    "duration": 9,
    "start_time": "2022-10-23T08:56:08.840Z"
   },
   {
    "duration": 38,
    "start_time": "2022-10-23T08:56:08.851Z"
   },
   {
    "duration": 5,
    "start_time": "2022-10-23T08:56:08.890Z"
   },
   {
    "duration": 204,
    "start_time": "2022-10-23T08:56:08.896Z"
   },
   {
    "duration": 186,
    "start_time": "2022-10-23T08:56:09.102Z"
   },
   {
    "duration": 4,
    "start_time": "2022-10-23T08:56:09.290Z"
   },
   {
    "duration": 17,
    "start_time": "2022-10-23T08:56:09.295Z"
   },
   {
    "duration": 5,
    "start_time": "2022-10-23T08:56:09.313Z"
   },
   {
    "duration": 7,
    "start_time": "2022-10-23T08:56:09.319Z"
   },
   {
    "duration": 6,
    "start_time": "2022-10-23T08:56:09.328Z"
   },
   {
    "duration": 64,
    "start_time": "2022-10-23T08:56:09.335Z"
   },
   {
    "duration": 3,
    "start_time": "2022-10-23T08:56:09.401Z"
   },
   {
    "duration": 12,
    "start_time": "2022-10-23T08:56:09.406Z"
   },
   {
    "duration": 20,
    "start_time": "2022-10-23T08:56:09.420Z"
   },
   {
    "duration": 80,
    "start_time": "2022-10-23T08:56:09.441Z"
   },
   {
    "duration": 164,
    "start_time": "2022-10-23T08:56:09.524Z"
   },
   {
    "duration": 13,
    "start_time": "2022-10-23T08:56:09.690Z"
   },
   {
    "duration": 17,
    "start_time": "2022-10-23T08:56:09.704Z"
   },
   {
    "duration": 13,
    "start_time": "2022-10-23T08:56:09.723Z"
   },
   {
    "duration": 19,
    "start_time": "2022-10-23T08:56:09.737Z"
   },
   {
    "duration": 41,
    "start_time": "2022-10-23T08:56:09.758Z"
   },
   {
    "duration": 109,
    "start_time": "2022-10-23T08:56:09.801Z"
   },
   {
    "duration": 4,
    "start_time": "2022-10-23T08:56:09.912Z"
   },
   {
    "duration": 16,
    "start_time": "2022-10-23T08:56:09.918Z"
   },
   {
    "duration": 7,
    "start_time": "2022-10-23T08:56:09.935Z"
   },
   {
    "duration": 13,
    "start_time": "2022-10-23T08:56:09.943Z"
   },
   {
    "duration": 29,
    "start_time": "2022-10-23T08:56:09.957Z"
   },
   {
    "duration": 4,
    "start_time": "2022-10-23T08:57:03.548Z"
   },
   {
    "duration": 8,
    "start_time": "2022-10-23T08:57:17.883Z"
   },
   {
    "duration": 3,
    "start_time": "2022-10-23T08:57:23.874Z"
   },
   {
    "duration": 140,
    "start_time": "2022-10-23T08:57:23.879Z"
   },
   {
    "duration": 7,
    "start_time": "2022-10-23T08:57:24.021Z"
   },
   {
    "duration": 10,
    "start_time": "2022-10-23T08:57:24.029Z"
   },
   {
    "duration": 24,
    "start_time": "2022-10-23T08:57:24.041Z"
   },
   {
    "duration": 5,
    "start_time": "2022-10-23T08:57:24.067Z"
   },
   {
    "duration": 17,
    "start_time": "2022-10-23T08:57:24.074Z"
   },
   {
    "duration": 121,
    "start_time": "2022-10-23T08:57:24.092Z"
   },
   {
    "duration": 9,
    "start_time": "2022-10-23T08:57:24.215Z"
   },
   {
    "duration": 86,
    "start_time": "2022-10-23T08:57:24.226Z"
   },
   {
    "duration": 80,
    "start_time": "2022-10-23T08:57:24.314Z"
   },
   {
    "duration": 93,
    "start_time": "2022-10-23T08:57:24.396Z"
   },
   {
    "duration": 10,
    "start_time": "2022-10-23T08:57:24.491Z"
   },
   {
    "duration": 17,
    "start_time": "2022-10-23T08:57:24.503Z"
   },
   {
    "duration": 18,
    "start_time": "2022-10-23T08:57:24.522Z"
   },
   {
    "duration": 39,
    "start_time": "2022-10-23T08:57:24.542Z"
   },
   {
    "duration": 184,
    "start_time": "2022-10-23T08:57:24.583Z"
   },
   {
    "duration": 185,
    "start_time": "2022-10-23T08:57:24.768Z"
   },
   {
    "duration": 5,
    "start_time": "2022-10-23T08:57:24.954Z"
   },
   {
    "duration": 29,
    "start_time": "2022-10-23T08:57:24.960Z"
   },
   {
    "duration": 6,
    "start_time": "2022-10-23T08:57:24.990Z"
   },
   {
    "duration": 13,
    "start_time": "2022-10-23T08:57:24.998Z"
   },
   {
    "duration": 11,
    "start_time": "2022-10-23T08:57:25.012Z"
   },
   {
    "duration": 35,
    "start_time": "2022-10-23T08:57:25.025Z"
   },
   {
    "duration": 3,
    "start_time": "2022-10-23T08:57:25.084Z"
   },
   {
    "duration": 16,
    "start_time": "2022-10-23T08:57:25.089Z"
   },
   {
    "duration": 28,
    "start_time": "2022-10-23T08:57:25.106Z"
   },
   {
    "duration": 75,
    "start_time": "2022-10-23T08:57:25.135Z"
   },
   {
    "duration": 174,
    "start_time": "2022-10-23T08:57:25.213Z"
   },
   {
    "duration": 14,
    "start_time": "2022-10-23T08:57:25.388Z"
   },
   {
    "duration": 23,
    "start_time": "2022-10-23T08:57:25.404Z"
   },
   {
    "duration": 13,
    "start_time": "2022-10-23T08:57:25.428Z"
   },
   {
    "duration": 10,
    "start_time": "2022-10-23T08:57:25.443Z"
   },
   {
    "duration": 53,
    "start_time": "2022-10-23T08:57:25.455Z"
   },
   {
    "duration": 103,
    "start_time": "2022-10-23T08:57:25.510Z"
   },
   {
    "duration": 4,
    "start_time": "2022-10-23T08:57:25.615Z"
   },
   {
    "duration": 15,
    "start_time": "2022-10-23T08:57:25.621Z"
   },
   {
    "duration": 7,
    "start_time": "2022-10-23T08:57:25.637Z"
   },
   {
    "duration": 19,
    "start_time": "2022-10-23T08:57:25.645Z"
   },
   {
    "duration": 23,
    "start_time": "2022-10-23T08:57:25.666Z"
   },
   {
    "duration": 5,
    "start_time": "2022-10-23T08:59:04.229Z"
   },
   {
    "duration": 3,
    "start_time": "2022-10-23T08:59:43.201Z"
   },
   {
    "duration": 147,
    "start_time": "2022-10-23T08:59:43.206Z"
   },
   {
    "duration": 7,
    "start_time": "2022-10-23T08:59:43.355Z"
   },
   {
    "duration": 10,
    "start_time": "2022-10-23T08:59:43.363Z"
   },
   {
    "duration": 17,
    "start_time": "2022-10-23T08:59:43.384Z"
   },
   {
    "duration": 8,
    "start_time": "2022-10-23T08:59:43.403Z"
   },
   {
    "duration": 9,
    "start_time": "2022-10-23T08:59:43.412Z"
   },
   {
    "duration": 141,
    "start_time": "2022-10-23T08:59:43.422Z"
   },
   {
    "duration": 9,
    "start_time": "2022-10-23T08:59:43.565Z"
   },
   {
    "duration": 69,
    "start_time": "2022-10-23T08:59:43.575Z"
   },
   {
    "duration": 88,
    "start_time": "2022-10-23T08:59:43.647Z"
   },
   {
    "duration": 84,
    "start_time": "2022-10-23T08:59:43.737Z"
   },
   {
    "duration": 11,
    "start_time": "2022-10-23T08:59:43.822Z"
   },
   {
    "duration": 10,
    "start_time": "2022-10-23T08:59:43.834Z"
   },
   {
    "duration": 13,
    "start_time": "2022-10-23T08:59:43.846Z"
   },
   {
    "duration": 29,
    "start_time": "2022-10-23T08:59:43.861Z"
   },
   {
    "duration": 190,
    "start_time": "2022-10-23T08:59:43.891Z"
   },
   {
    "duration": 195,
    "start_time": "2022-10-23T08:59:44.084Z"
   },
   {
    "duration": 6,
    "start_time": "2022-10-23T08:59:44.281Z"
   },
   {
    "duration": 20,
    "start_time": "2022-10-23T08:59:44.288Z"
   },
   {
    "duration": 5,
    "start_time": "2022-10-23T08:59:44.309Z"
   },
   {
    "duration": 7,
    "start_time": "2022-10-23T08:59:44.316Z"
   },
   {
    "duration": 6,
    "start_time": "2022-10-23T08:59:44.324Z"
   },
   {
    "duration": 66,
    "start_time": "2022-10-23T08:59:44.332Z"
   },
   {
    "duration": 2,
    "start_time": "2022-10-23T08:59:44.400Z"
   },
   {
    "duration": 11,
    "start_time": "2022-10-23T08:59:44.404Z"
   },
   {
    "duration": 22,
    "start_time": "2022-10-23T08:59:44.416Z"
   },
   {
    "duration": 87,
    "start_time": "2022-10-23T08:59:44.439Z"
   },
   {
    "duration": 180,
    "start_time": "2022-10-23T08:59:44.530Z"
   },
   {
    "duration": 16,
    "start_time": "2022-10-23T08:59:44.712Z"
   },
   {
    "duration": 114,
    "start_time": "2022-10-23T08:59:44.729Z"
   },
   {
    "duration": 9,
    "start_time": "2022-10-23T08:59:44.845Z"
   },
   {
    "duration": 32,
    "start_time": "2022-10-23T08:59:44.856Z"
   },
   {
    "duration": 36,
    "start_time": "2022-10-23T08:59:44.890Z"
   },
   {
    "duration": 104,
    "start_time": "2022-10-23T08:59:44.927Z"
   },
   {
    "duration": 5,
    "start_time": "2022-10-23T08:59:45.033Z"
   },
   {
    "duration": 22,
    "start_time": "2022-10-23T08:59:45.039Z"
   },
   {
    "duration": 10,
    "start_time": "2022-10-23T08:59:45.063Z"
   },
   {
    "duration": 19,
    "start_time": "2022-10-23T08:59:45.075Z"
   },
   {
    "duration": 22,
    "start_time": "2022-10-23T08:59:45.096Z"
   },
   {
    "duration": 4,
    "start_time": "2022-10-23T09:00:21.419Z"
   },
   {
    "duration": 144,
    "start_time": "2022-10-23T09:00:21.425Z"
   },
   {
    "duration": 15,
    "start_time": "2022-10-23T09:00:21.571Z"
   },
   {
    "duration": 7,
    "start_time": "2022-10-23T09:00:21.587Z"
   },
   {
    "duration": 20,
    "start_time": "2022-10-23T09:00:21.595Z"
   },
   {
    "duration": 5,
    "start_time": "2022-10-23T09:00:21.617Z"
   },
   {
    "duration": 9,
    "start_time": "2022-10-23T09:00:21.624Z"
   },
   {
    "duration": 125,
    "start_time": "2022-10-23T09:00:21.634Z"
   },
   {
    "duration": 9,
    "start_time": "2022-10-23T09:00:21.761Z"
   },
   {
    "duration": 72,
    "start_time": "2022-10-23T09:00:21.771Z"
   },
   {
    "duration": 83,
    "start_time": "2022-10-23T09:00:21.845Z"
   },
   {
    "duration": 81,
    "start_time": "2022-10-23T09:00:21.929Z"
   },
   {
    "duration": 11,
    "start_time": "2022-10-23T09:00:22.011Z"
   },
   {
    "duration": 8,
    "start_time": "2022-10-23T09:00:22.023Z"
   },
   {
    "duration": 13,
    "start_time": "2022-10-23T09:00:22.033Z"
   },
   {
    "duration": 5,
    "start_time": "2022-10-23T09:00:22.047Z"
   },
   {
    "duration": 181,
    "start_time": "2022-10-23T09:00:22.085Z"
   },
   {
    "duration": 182,
    "start_time": "2022-10-23T09:00:22.268Z"
   },
   {
    "duration": 5,
    "start_time": "2022-10-23T09:00:22.452Z"
   },
   {
    "duration": 13,
    "start_time": "2022-10-23T09:00:22.458Z"
   },
   {
    "duration": 4,
    "start_time": "2022-10-23T09:00:22.486Z"
   },
   {
    "duration": 9,
    "start_time": "2022-10-23T09:00:22.491Z"
   },
   {
    "duration": 6,
    "start_time": "2022-10-23T09:00:22.501Z"
   },
   {
    "duration": 28,
    "start_time": "2022-10-23T09:00:22.510Z"
   },
   {
    "duration": 2,
    "start_time": "2022-10-23T09:00:22.540Z"
   },
   {
    "duration": 45,
    "start_time": "2022-10-23T09:00:22.544Z"
   },
   {
    "duration": 21,
    "start_time": "2022-10-23T09:00:22.590Z"
   },
   {
    "duration": 75,
    "start_time": "2022-10-23T09:00:22.613Z"
   },
   {
    "duration": 170,
    "start_time": "2022-10-23T09:00:22.690Z"
   },
   {
    "duration": 25,
    "start_time": "2022-10-23T09:00:22.861Z"
   },
   {
    "duration": 8,
    "start_time": "2022-10-23T09:00:22.887Z"
   },
   {
    "duration": 14,
    "start_time": "2022-10-23T09:00:22.897Z"
   },
   {
    "duration": 10,
    "start_time": "2022-10-23T09:00:22.912Z"
   },
   {
    "duration": 35,
    "start_time": "2022-10-23T09:00:22.923Z"
   },
   {
    "duration": 127,
    "start_time": "2022-10-23T09:00:22.960Z"
   },
   {
    "duration": 6,
    "start_time": "2022-10-23T09:00:23.089Z"
   },
   {
    "duration": 14,
    "start_time": "2022-10-23T09:00:23.097Z"
   },
   {
    "duration": 15,
    "start_time": "2022-10-23T09:00:23.112Z"
   },
   {
    "duration": 10,
    "start_time": "2022-10-23T09:00:23.128Z"
   },
   {
    "duration": 8,
    "start_time": "2022-10-23T09:00:23.140Z"
   },
   {
    "duration": 1289,
    "start_time": "2022-10-23T17:41:54.853Z"
   },
   {
    "duration": 434,
    "start_time": "2022-10-23T17:41:56.144Z"
   },
   {
    "duration": 11,
    "start_time": "2022-10-23T17:41:56.580Z"
   },
   {
    "duration": 25,
    "start_time": "2022-10-23T17:41:56.593Z"
   },
   {
    "duration": 33,
    "start_time": "2022-10-23T17:41:56.620Z"
   },
   {
    "duration": 12,
    "start_time": "2022-10-23T17:41:56.655Z"
   },
   {
    "duration": 12,
    "start_time": "2022-10-23T17:41:56.669Z"
   },
   {
    "duration": 114,
    "start_time": "2022-10-23T17:41:56.682Z"
   },
   {
    "duration": 9,
    "start_time": "2022-10-23T17:41:56.798Z"
   },
   {
    "duration": 89,
    "start_time": "2022-10-23T17:41:56.810Z"
   },
   {
    "duration": 84,
    "start_time": "2022-10-23T17:41:56.900Z"
   },
   {
    "duration": 96,
    "start_time": "2022-10-23T17:41:56.986Z"
   },
   {
    "duration": 10,
    "start_time": "2022-10-23T17:41:57.083Z"
   },
   {
    "duration": 23,
    "start_time": "2022-10-23T17:41:57.095Z"
   },
   {
    "duration": 32,
    "start_time": "2022-10-23T17:41:57.119Z"
   },
   {
    "duration": 18,
    "start_time": "2022-10-23T17:41:57.152Z"
   },
   {
    "duration": 273,
    "start_time": "2022-10-23T17:41:57.172Z"
   },
   {
    "duration": 212,
    "start_time": "2022-10-23T17:41:57.447Z"
   },
   {
    "duration": 5,
    "start_time": "2022-10-23T17:41:57.660Z"
   },
   {
    "duration": 23,
    "start_time": "2022-10-23T17:41:57.666Z"
   },
   {
    "duration": 13,
    "start_time": "2022-10-23T17:41:57.691Z"
   },
   {
    "duration": 20,
    "start_time": "2022-10-23T17:41:57.706Z"
   },
   {
    "duration": 24,
    "start_time": "2022-10-23T17:41:57.727Z"
   },
   {
    "duration": 67,
    "start_time": "2022-10-23T17:41:57.752Z"
   },
   {
    "duration": 12,
    "start_time": "2022-10-23T17:41:57.821Z"
   },
   {
    "duration": 29,
    "start_time": "2022-10-23T17:41:57.835Z"
   },
   {
    "duration": 55,
    "start_time": "2022-10-23T17:41:57.865Z"
   },
   {
    "duration": 67,
    "start_time": "2022-10-23T17:41:57.923Z"
   },
   {
    "duration": 170,
    "start_time": "2022-10-23T17:41:57.992Z"
   },
   {
    "duration": 17,
    "start_time": "2022-10-23T17:41:58.164Z"
   },
   {
    "duration": 291,
    "start_time": "2022-10-23T17:41:58.183Z"
   },
   {
    "duration": 8,
    "start_time": "2022-10-23T17:41:58.476Z"
   },
   {
    "duration": 36,
    "start_time": "2022-10-23T17:41:58.485Z"
   },
   {
    "duration": 39,
    "start_time": "2022-10-23T17:41:58.523Z"
   },
   {
    "duration": 129,
    "start_time": "2022-10-23T17:41:58.563Z"
   },
   {
    "duration": 4,
    "start_time": "2022-10-23T17:41:58.694Z"
   },
   {
    "duration": 33,
    "start_time": "2022-10-23T17:41:58.700Z"
   },
   {
    "duration": 23,
    "start_time": "2022-10-23T17:41:58.734Z"
   },
   {
    "duration": 21,
    "start_time": "2022-10-23T17:41:58.758Z"
   },
   {
    "duration": 21,
    "start_time": "2022-10-23T17:41:58.781Z"
   },
   {
    "duration": 1099,
    "start_time": "2022-12-19T16:44:26.450Z"
   },
   {
    "duration": 606,
    "start_time": "2022-12-19T16:44:27.550Z"
   },
   {
    "duration": 11,
    "start_time": "2022-12-19T16:44:28.157Z"
   },
   {
    "duration": 4,
    "start_time": "2022-12-19T16:44:28.170Z"
   },
   {
    "duration": 21,
    "start_time": "2022-12-19T16:44:28.175Z"
   },
   {
    "duration": 9,
    "start_time": "2022-12-19T16:44:28.198Z"
   },
   {
    "duration": 8,
    "start_time": "2022-12-19T16:44:28.208Z"
   },
   {
    "duration": 118,
    "start_time": "2022-12-19T16:44:28.217Z"
   },
   {
    "duration": 9,
    "start_time": "2022-12-19T16:44:28.337Z"
   },
   {
    "duration": 84,
    "start_time": "2022-12-19T16:44:28.349Z"
   },
   {
    "duration": 81,
    "start_time": "2022-12-19T16:44:28.435Z"
   },
   {
    "duration": 88,
    "start_time": "2022-12-19T16:44:28.518Z"
   },
   {
    "duration": 11,
    "start_time": "2022-12-19T16:44:28.609Z"
   },
   {
    "duration": 10,
    "start_time": "2022-12-19T16:44:28.622Z"
   },
   {
    "duration": 15,
    "start_time": "2022-12-19T16:44:28.634Z"
   },
   {
    "duration": 5,
    "start_time": "2022-12-19T16:44:28.651Z"
   },
   {
    "duration": 296,
    "start_time": "2022-12-19T16:44:28.657Z"
   },
   {
    "duration": 192,
    "start_time": "2022-12-19T16:44:28.955Z"
   },
   {
    "duration": 4,
    "start_time": "2022-12-19T16:44:29.149Z"
   },
   {
    "duration": 12,
    "start_time": "2022-12-19T16:44:29.155Z"
   },
   {
    "duration": 4,
    "start_time": "2022-12-19T16:44:29.168Z"
   },
   {
    "duration": 8,
    "start_time": "2022-12-19T16:44:29.196Z"
   },
   {
    "duration": 8,
    "start_time": "2022-12-19T16:44:29.206Z"
   },
   {
    "duration": 30,
    "start_time": "2022-12-19T16:44:29.216Z"
   },
   {
    "duration": 3,
    "start_time": "2022-12-19T16:44:29.248Z"
   },
   {
    "duration": 29,
    "start_time": "2022-12-19T16:44:29.253Z"
   },
   {
    "duration": 32,
    "start_time": "2022-12-19T16:44:29.283Z"
   },
   {
    "duration": 67,
    "start_time": "2022-12-19T16:44:29.319Z"
   },
   {
    "duration": 176,
    "start_time": "2022-12-19T16:44:29.397Z"
   },
   {
    "duration": 28,
    "start_time": "2022-12-19T16:44:29.575Z"
   },
   {
    "duration": 107,
    "start_time": "2022-12-19T16:44:29.605Z"
   },
   {
    "duration": 12,
    "start_time": "2022-12-19T16:44:29.714Z"
   },
   {
    "duration": 20,
    "start_time": "2022-12-19T16:44:29.727Z"
   },
   {
    "duration": 88,
    "start_time": "2022-12-19T16:44:29.748Z"
   },
   {
    "duration": 183,
    "start_time": "2022-12-19T16:44:29.838Z"
   },
   {
    "duration": 5,
    "start_time": "2022-12-19T16:44:30.023Z"
   },
   {
    "duration": 64,
    "start_time": "2022-12-19T16:44:30.029Z"
   },
   {
    "duration": 26,
    "start_time": "2022-12-19T16:44:30.095Z"
   },
   {
    "duration": 40,
    "start_time": "2022-12-19T16:44:30.122Z"
   },
   {
    "duration": 37,
    "start_time": "2022-12-19T16:44:30.163Z"
   },
   {
    "duration": 10,
    "start_time": "2022-12-20T13:27:22.118Z"
   },
   {
    "duration": 1260,
    "start_time": "2022-12-21T10:28:50.509Z"
   },
   {
    "duration": 566,
    "start_time": "2022-12-21T10:28:51.771Z"
   },
   {
    "duration": 12,
    "start_time": "2022-12-21T10:28:52.339Z"
   },
   {
    "duration": 6,
    "start_time": "2022-12-21T10:28:52.352Z"
   },
   {
    "duration": 29,
    "start_time": "2022-12-21T10:28:52.360Z"
   },
   {
    "duration": 12,
    "start_time": "2022-12-21T10:28:52.391Z"
   },
   {
    "duration": 12,
    "start_time": "2022-12-21T10:28:52.404Z"
   },
   {
    "duration": 138,
    "start_time": "2022-12-21T10:28:52.417Z"
   },
   {
    "duration": 10,
    "start_time": "2022-12-21T10:28:52.556Z"
   },
   {
    "duration": 123,
    "start_time": "2022-12-21T10:28:52.568Z"
   },
   {
    "duration": 96,
    "start_time": "2022-12-21T10:28:52.693Z"
   },
   {
    "duration": 100,
    "start_time": "2022-12-21T10:28:52.791Z"
   },
   {
    "duration": 13,
    "start_time": "2022-12-21T10:28:52.893Z"
   },
   {
    "duration": 9,
    "start_time": "2022-12-21T10:28:52.911Z"
   },
   {
    "duration": 16,
    "start_time": "2022-12-21T10:28:52.921Z"
   },
   {
    "duration": 6,
    "start_time": "2022-12-21T10:28:52.938Z"
   },
   {
    "duration": 320,
    "start_time": "2022-12-21T10:28:52.977Z"
   },
   {
    "duration": 10,
    "start_time": "2022-12-21T10:28:53.298Z"
   },
   {
    "duration": 231,
    "start_time": "2022-12-21T10:28:53.310Z"
   },
   {
    "duration": 5,
    "start_time": "2022-12-21T10:28:53.543Z"
   },
   {
    "duration": 14,
    "start_time": "2022-12-21T10:28:53.549Z"
   },
   {
    "duration": 6,
    "start_time": "2022-12-21T10:28:53.588Z"
   },
   {
    "duration": 10,
    "start_time": "2022-12-21T10:28:53.596Z"
   },
   {
    "duration": 8,
    "start_time": "2022-12-21T10:28:53.608Z"
   },
   {
    "duration": 38,
    "start_time": "2022-12-21T10:28:53.618Z"
   },
   {
    "duration": 32,
    "start_time": "2022-12-21T10:28:53.657Z"
   },
   {
    "duration": 15,
    "start_time": "2022-12-21T10:28:53.691Z"
   },
   {
    "duration": 27,
    "start_time": "2022-12-21T10:28:53.708Z"
   },
   {
    "duration": 78,
    "start_time": "2022-12-21T10:28:53.737Z"
   },
   {
    "duration": 233,
    "start_time": "2022-12-21T10:28:53.817Z"
   },
   {
    "duration": 38,
    "start_time": "2022-12-21T10:28:54.053Z"
   },
   {
    "duration": 193,
    "start_time": "2022-12-21T10:28:54.093Z"
   },
   {
    "duration": 10,
    "start_time": "2022-12-21T10:28:54.294Z"
   },
   {
    "duration": 26,
    "start_time": "2022-12-21T10:28:54.305Z"
   },
   {
    "duration": 82,
    "start_time": "2022-12-21T10:28:54.332Z"
   },
   {
    "duration": 175,
    "start_time": "2022-12-21T10:28:54.416Z"
   },
   {
    "duration": 6,
    "start_time": "2022-12-21T10:28:54.593Z"
   },
   {
    "duration": 18,
    "start_time": "2022-12-21T10:28:54.601Z"
   },
   {
    "duration": 22,
    "start_time": "2022-12-21T10:28:54.621Z"
   },
   {
    "duration": 21,
    "start_time": "2022-12-21T10:28:54.645Z"
   },
   {
    "duration": 14,
    "start_time": "2022-12-21T10:28:54.670Z"
   },
   {
    "duration": 1463,
    "start_time": "2023-02-17T11:11:54.068Z"
   },
   {
    "duration": 739,
    "start_time": "2023-02-17T11:11:55.533Z"
   },
   {
    "duration": 13,
    "start_time": "2023-02-17T11:11:56.276Z"
   },
   {
    "duration": 16,
    "start_time": "2023-02-17T11:11:56.291Z"
   },
   {
    "duration": 26,
    "start_time": "2023-02-17T11:11:56.309Z"
   },
   {
    "duration": 10,
    "start_time": "2023-02-17T11:11:56.337Z"
   },
   {
    "duration": 11,
    "start_time": "2023-02-17T11:11:56.350Z"
   },
   {
    "duration": 136,
    "start_time": "2023-02-17T11:11:56.363Z"
   },
   {
    "duration": 9,
    "start_time": "2023-02-17T11:11:56.500Z"
   },
   {
    "duration": 98,
    "start_time": "2023-02-17T11:11:56.513Z"
   },
   {
    "duration": 100,
    "start_time": "2023-02-17T11:11:56.613Z"
   },
   {
    "duration": 102,
    "start_time": "2023-02-17T11:11:56.715Z"
   },
   {
    "duration": 11,
    "start_time": "2023-02-17T11:11:56.818Z"
   },
   {
    "duration": 11,
    "start_time": "2023-02-17T11:11:56.831Z"
   },
   {
    "duration": 19,
    "start_time": "2023-02-17T11:11:56.844Z"
   },
   {
    "duration": 7,
    "start_time": "2023-02-17T11:11:56.865Z"
   },
   {
    "duration": 329,
    "start_time": "2023-02-17T11:11:56.874Z"
   },
   {
    "duration": 11,
    "start_time": "2023-02-17T11:11:57.205Z"
   },
   {
    "duration": 229,
    "start_time": "2023-02-17T11:11:57.217Z"
   },
   {
    "duration": 4,
    "start_time": "2023-02-17T11:11:57.448Z"
   },
   {
    "duration": 13,
    "start_time": "2023-02-17T11:11:57.454Z"
   },
   {
    "duration": 6,
    "start_time": "2023-02-17T11:11:57.469Z"
   },
   {
    "duration": 32,
    "start_time": "2023-02-17T11:11:57.476Z"
   },
   {
    "duration": 7,
    "start_time": "2023-02-17T11:11:57.510Z"
   },
   {
    "duration": 34,
    "start_time": "2023-02-17T11:11:57.519Z"
   },
   {
    "duration": 3,
    "start_time": "2023-02-17T11:11:57.554Z"
   },
   {
    "duration": 12,
    "start_time": "2023-02-17T11:11:57.559Z"
   },
   {
    "duration": 41,
    "start_time": "2023-02-17T11:11:57.574Z"
   },
   {
    "duration": 70,
    "start_time": "2023-02-17T11:11:57.617Z"
   },
   {
    "duration": 194,
    "start_time": "2023-02-17T11:11:57.689Z"
   },
   {
    "duration": 22,
    "start_time": "2023-02-17T11:11:57.885Z"
   },
   {
    "duration": 153,
    "start_time": "2023-02-17T11:11:57.908Z"
   },
   {
    "duration": 9,
    "start_time": "2023-02-17T11:11:58.062Z"
   },
   {
    "duration": 13,
    "start_time": "2023-02-17T11:11:58.073Z"
   },
   {
    "duration": 39,
    "start_time": "2023-02-17T11:11:58.088Z"
   },
   {
    "duration": 148,
    "start_time": "2023-02-17T11:11:58.129Z"
   },
   {
    "duration": 4,
    "start_time": "2023-02-17T11:11:58.279Z"
   },
   {
    "duration": 18,
    "start_time": "2023-02-17T11:11:58.285Z"
   },
   {
    "duration": 12,
    "start_time": "2023-02-17T11:11:58.305Z"
   },
   {
    "duration": 8,
    "start_time": "2023-02-17T11:11:58.319Z"
   },
   {
    "duration": 9,
    "start_time": "2023-02-17T11:11:58.329Z"
   }
  ],
  "colab": {
   "provenance": []
  },
  "kernelspec": {
   "display_name": "Python 3 (ipykernel)",
   "language": "python",
   "name": "python3"
  },
  "language_info": {
   "codemirror_mode": {
    "name": "ipython",
    "version": 3
   },
   "file_extension": ".py",
   "mimetype": "text/x-python",
   "name": "python",
   "nbconvert_exporter": "python",
   "pygments_lexer": "ipython3",
   "version": "3.9.13"
  },
  "toc": {
   "base_numbering": 1,
   "nav_menu": {},
   "number_sections": true,
   "sideBar": true,
   "skip_h1_title": true,
   "title_cell": "Table of Contents",
   "title_sidebar": "Contents",
   "toc_cell": false,
   "toc_position": {},
   "toc_section_display": true,
   "toc_window_display": false
  }
 },
 "nbformat": 4,
 "nbformat_minor": 1
}
