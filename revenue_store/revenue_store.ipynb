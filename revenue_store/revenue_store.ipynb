{
  "cells": [
    {
      "cell_type": "markdown",
      "metadata": {
        "id": "nCdNvQcU_ohH"
      },
      "source": [
        "**Анализ гипотез в интернет магазине**\n",
        "Есть перечень гипотез для увеличения выручки. Необходимо приоритизировать гипотезы, запустить A/B-тест и проанализировать результаты. \n",
        "\n",
        "**Цель исследования** — принять решение по результатам А/В теста (остановить или продолжить).\n",
        "\n",
        "**Ход исследования**\n",
        "\n",
        "Данные для исследования находятся в трех файлах:  \n",
        "`/datasets/hypothesis.csv` - здесь находится информация о гипотезах  \n",
        "`/datasets/orders.csv` - в этом файле размешены результаты А/В теста с информацией о заказах  \n",
        "`/datasets/visitors.csv` - информация о результатах А/В теста в части пользователей.  \n",
        "\n",
        "Исследование будет разделено на 2 части. \n",
        "В первой части мы приоритизируем гипотезы используя фреймворки ICE и RICE. Также обьясним изменения приоритезации гипотез, произошедших при использовании фреймворка RICE.\n",
        "Во второй части проведем анализ А/В теста. В этой части мы построим несколько графиков (кумулятивности и точечные графики) с использованием различных параметров (средний чек, среднее количество заказов и т.д.). Посчитаем 95-й и 99-й перцентили и статистическую значимость. Сделаем выводы которые помогут нам принять решение по судьбе теста : \n",
        "1. Остановить тест, зафиксировать победу одной из групп.\n",
        "2. Остановить тест, зафиксировать отсутствие различий между группами.\n",
        "3. Продолжить тест.\n",
        "\n",
        "\n",
        "Таким образом, исследование пройдёт в 3 этапа:\n",
        " 1. Подготовка данных.\n",
        " 2. Приотизация гипотез.\n",
        " 3. Проведение анализа А/В теста.\n"
      ]
    },
    {
      "cell_type": "code",
      "execution_count": null,
      "metadata": {
        "id": "rNRc187__ohI"
      },
      "outputs": [],
      "source": [
        "# загрузим необходимые библиотеки\n",
        "\n",
        "import pandas as pd\n",
        "import matplotlib.pyplot as plt\n",
        "import scipy.stats as stats\n",
        "import datetime as dt\n",
        "import numpy as np"
      ]
    },
    {
      "cell_type": "markdown",
      "metadata": {
        "id": "DODLXWDp_ohJ"
      },
      "source": [
        "## Начнем подготовку данных"
      ]
    },
    {
      "cell_type": "code",
      "execution_count": null,
      "metadata": {
        "id": "O7ZOH3Y3_ohJ"
      },
      "outputs": [],
      "source": [
        "hypothesis = pd.read_csv('/datasets/hypothesis.csv', sep=',')\n",
        "orders = pd.read_csv('/datasets/orders.csv', sep=',')\n",
        "visitors = pd.read_csv('/datasets/visitors.csv', sep=',')"
      ]
    },
    {
      "cell_type": "code",
      "execution_count": null,
      "metadata": {
        "id": "bDhZqjaf_ohJ",
        "outputId": "1aa07e31-b51b-4792-b7b8-a8a057c98aea"
      },
      "outputs": [
        {
          "data": {
            "text/html": [
              "<div>\n",
              "<style scoped>\n",
              "    .dataframe tbody tr th:only-of-type {\n",
              "        vertical-align: middle;\n",
              "    }\n",
              "\n",
              "    .dataframe tbody tr th {\n",
              "        vertical-align: top;\n",
              "    }\n",
              "\n",
              "    .dataframe thead th {\n",
              "        text-align: right;\n",
              "    }\n",
              "</style>\n",
              "<table border=\"1\" class=\"dataframe\">\n",
              "  <thead>\n",
              "    <tr style=\"text-align: right;\">\n",
              "      <th></th>\n",
              "      <th>Hypothesis</th>\n",
              "      <th>Reach</th>\n",
              "      <th>Impact</th>\n",
              "      <th>Confidence</th>\n",
              "      <th>Efforts</th>\n",
              "    </tr>\n",
              "  </thead>\n",
              "  <tbody>\n",
              "    <tr>\n",
              "      <th>0</th>\n",
              "      <td>Добавить два новых канала привлечения трафика, что позволит привлекать на 30% больше пользователей</td>\n",
              "      <td>3</td>\n",
              "      <td>10</td>\n",
              "      <td>8</td>\n",
              "      <td>6</td>\n",
              "    </tr>\n",
              "    <tr>\n",
              "      <th>1</th>\n",
              "      <td>Запустить собственную службу доставки, что сократит срок доставки заказов</td>\n",
              "      <td>2</td>\n",
              "      <td>5</td>\n",
              "      <td>4</td>\n",
              "      <td>10</td>\n",
              "    </tr>\n",
              "    <tr>\n",
              "      <th>2</th>\n",
              "      <td>Добавить блоки рекомендаций товаров на сайт интернет магазина, чтобы повысить конверсию и средний чек заказа</td>\n",
              "      <td>8</td>\n",
              "      <td>3</td>\n",
              "      <td>7</td>\n",
              "      <td>3</td>\n",
              "    </tr>\n",
              "    <tr>\n",
              "      <th>3</th>\n",
              "      <td>Изменить структура категорий, что увеличит конверсию, т.к. пользователи быстрее найдут нужный товар</td>\n",
              "      <td>8</td>\n",
              "      <td>3</td>\n",
              "      <td>3</td>\n",
              "      <td>8</td>\n",
              "    </tr>\n",
              "    <tr>\n",
              "      <th>4</th>\n",
              "      <td>Изменить цвет фона главной страницы, чтобы увеличить вовлеченность пользователей</td>\n",
              "      <td>3</td>\n",
              "      <td>1</td>\n",
              "      <td>1</td>\n",
              "      <td>1</td>\n",
              "    </tr>\n",
              "    <tr>\n",
              "      <th>5</th>\n",
              "      <td>Добавить страницу отзывов клиентов о магазине, что позволит увеличить количество заказов</td>\n",
              "      <td>3</td>\n",
              "      <td>2</td>\n",
              "      <td>2</td>\n",
              "      <td>3</td>\n",
              "    </tr>\n",
              "    <tr>\n",
              "      <th>6</th>\n",
              "      <td>Показать на главной странице баннеры с актуальными акциями и распродажами, чтобы увеличить конверсию</td>\n",
              "      <td>5</td>\n",
              "      <td>3</td>\n",
              "      <td>8</td>\n",
              "      <td>3</td>\n",
              "    </tr>\n",
              "    <tr>\n",
              "      <th>7</th>\n",
              "      <td>Добавить форму подписки на все основные страницы, чтобы собрать базу клиентов для email-рассылок</td>\n",
              "      <td>10</td>\n",
              "      <td>7</td>\n",
              "      <td>8</td>\n",
              "      <td>5</td>\n",
              "    </tr>\n",
              "    <tr>\n",
              "      <th>8</th>\n",
              "      <td>Запустить акцию, дающую скидку на товар в день рождения</td>\n",
              "      <td>1</td>\n",
              "      <td>9</td>\n",
              "      <td>9</td>\n",
              "      <td>5</td>\n",
              "    </tr>\n",
              "  </tbody>\n",
              "</table>\n",
              "</div>"
            ],
            "text/plain": [
              "                                                                                                     Hypothesis  \\\n",
              "0            Добавить два новых канала привлечения трафика, что позволит привлекать на 30% больше пользователей   \n",
              "1                                     Запустить собственную службу доставки, что сократит срок доставки заказов   \n",
              "2  Добавить блоки рекомендаций товаров на сайт интернет магазина, чтобы повысить конверсию и средний чек заказа   \n",
              "3           Изменить структура категорий, что увеличит конверсию, т.к. пользователи быстрее найдут нужный товар   \n",
              "4                              Изменить цвет фона главной страницы, чтобы увеличить вовлеченность пользователей   \n",
              "5                      Добавить страницу отзывов клиентов о магазине, что позволит увеличить количество заказов   \n",
              "6          Показать на главной странице баннеры с актуальными акциями и распродажами, чтобы увеличить конверсию   \n",
              "7              Добавить форму подписки на все основные страницы, чтобы собрать базу клиентов для email-рассылок   \n",
              "8                                                       Запустить акцию, дающую скидку на товар в день рождения   \n",
              "\n",
              "   Reach  Impact  Confidence  Efforts  \n",
              "0      3      10           8        6  \n",
              "1      2       5           4       10  \n",
              "2      8       3           7        3  \n",
              "3      8       3           3        8  \n",
              "4      3       1           1        1  \n",
              "5      3       2           2        3  \n",
              "6      5       3           8        3  \n",
              "7     10       7           8        5  \n",
              "8      1       9           9        5  "
            ]
          },
          "execution_count": 64,
          "metadata": {},
          "output_type": "execute_result"
        }
      ],
      "source": [
        "pd.options.display.max_colwidth = 130\n",
        "hypothesis.head(10)"
      ]
    },
    {
      "cell_type": "code",
      "execution_count": null,
      "metadata": {
        "id": "MGOs0vlt_ohK",
        "outputId": "5e2f770b-467b-40d9-f895-5bac17d64b36"
      },
      "outputs": [
        {
          "data": {
            "text/html": [
              "<div>\n",
              "<style scoped>\n",
              "    .dataframe tbody tr th:only-of-type {\n",
              "        vertical-align: middle;\n",
              "    }\n",
              "\n",
              "    .dataframe tbody tr th {\n",
              "        vertical-align: top;\n",
              "    }\n",
              "\n",
              "    .dataframe thead th {\n",
              "        text-align: right;\n",
              "    }\n",
              "</style>\n",
              "<table border=\"1\" class=\"dataframe\">\n",
              "  <thead>\n",
              "    <tr style=\"text-align: right;\">\n",
              "      <th></th>\n",
              "      <th>transactionId</th>\n",
              "      <th>visitorId</th>\n",
              "      <th>date</th>\n",
              "      <th>revenue</th>\n",
              "      <th>group</th>\n",
              "    </tr>\n",
              "  </thead>\n",
              "  <tbody>\n",
              "    <tr>\n",
              "      <th>0</th>\n",
              "      <td>3667963787</td>\n",
              "      <td>3312258926</td>\n",
              "      <td>2019-08-15</td>\n",
              "      <td>1650</td>\n",
              "      <td>B</td>\n",
              "    </tr>\n",
              "    <tr>\n",
              "      <th>1</th>\n",
              "      <td>2804400009</td>\n",
              "      <td>3642806036</td>\n",
              "      <td>2019-08-15</td>\n",
              "      <td>730</td>\n",
              "      <td>B</td>\n",
              "    </tr>\n",
              "    <tr>\n",
              "      <th>2</th>\n",
              "      <td>2961555356</td>\n",
              "      <td>4069496402</td>\n",
              "      <td>2019-08-15</td>\n",
              "      <td>400</td>\n",
              "      <td>A</td>\n",
              "    </tr>\n",
              "    <tr>\n",
              "      <th>3</th>\n",
              "      <td>3797467345</td>\n",
              "      <td>1196621759</td>\n",
              "      <td>2019-08-15</td>\n",
              "      <td>9759</td>\n",
              "      <td>B</td>\n",
              "    </tr>\n",
              "    <tr>\n",
              "      <th>4</th>\n",
              "      <td>2282983706</td>\n",
              "      <td>2322279887</td>\n",
              "      <td>2019-08-15</td>\n",
              "      <td>2308</td>\n",
              "      <td>B</td>\n",
              "    </tr>\n",
              "    <tr>\n",
              "      <th>5</th>\n",
              "      <td>182168103</td>\n",
              "      <td>935554773</td>\n",
              "      <td>2019-08-15</td>\n",
              "      <td>2210</td>\n",
              "      <td>B</td>\n",
              "    </tr>\n",
              "    <tr>\n",
              "      <th>6</th>\n",
              "      <td>398296753</td>\n",
              "      <td>2900797465</td>\n",
              "      <td>2019-08-15</td>\n",
              "      <td>1860</td>\n",
              "      <td>B</td>\n",
              "    </tr>\n",
              "    <tr>\n",
              "      <th>7</th>\n",
              "      <td>2626614568</td>\n",
              "      <td>78758296</td>\n",
              "      <td>2019-08-15</td>\n",
              "      <td>1044</td>\n",
              "      <td>A</td>\n",
              "    </tr>\n",
              "    <tr>\n",
              "      <th>8</th>\n",
              "      <td>1576988021</td>\n",
              "      <td>295230930</td>\n",
              "      <td>2019-08-15</td>\n",
              "      <td>13710</td>\n",
              "      <td>A</td>\n",
              "    </tr>\n",
              "    <tr>\n",
              "      <th>9</th>\n",
              "      <td>1506739906</td>\n",
              "      <td>1882260405</td>\n",
              "      <td>2019-08-15</td>\n",
              "      <td>1855</td>\n",
              "      <td>B</td>\n",
              "    </tr>\n",
              "  </tbody>\n",
              "</table>\n",
              "</div>"
            ],
            "text/plain": [
              "   transactionId   visitorId        date  revenue group\n",
              "0     3667963787  3312258926  2019-08-15     1650     B\n",
              "1     2804400009  3642806036  2019-08-15      730     B\n",
              "2     2961555356  4069496402  2019-08-15      400     A\n",
              "3     3797467345  1196621759  2019-08-15     9759     B\n",
              "4     2282983706  2322279887  2019-08-15     2308     B\n",
              "5      182168103   935554773  2019-08-15     2210     B\n",
              "6      398296753  2900797465  2019-08-15     1860     B\n",
              "7     2626614568    78758296  2019-08-15     1044     A\n",
              "8     1576988021   295230930  2019-08-15    13710     A\n",
              "9     1506739906  1882260405  2019-08-15     1855     B"
            ]
          },
          "execution_count": 65,
          "metadata": {},
          "output_type": "execute_result"
        }
      ],
      "source": [
        "orders.head(10)"
      ]
    },
    {
      "cell_type": "code",
      "execution_count": null,
      "metadata": {
        "id": "pJqsck1T_ohK",
        "outputId": "e33920a8-516d-4ab6-9f34-943999b35f7d"
      },
      "outputs": [
        {
          "data": {
            "text/html": [
              "<div>\n",
              "<style scoped>\n",
              "    .dataframe tbody tr th:only-of-type {\n",
              "        vertical-align: middle;\n",
              "    }\n",
              "\n",
              "    .dataframe tbody tr th {\n",
              "        vertical-align: top;\n",
              "    }\n",
              "\n",
              "    .dataframe thead th {\n",
              "        text-align: right;\n",
              "    }\n",
              "</style>\n",
              "<table border=\"1\" class=\"dataframe\">\n",
              "  <thead>\n",
              "    <tr style=\"text-align: right;\">\n",
              "      <th></th>\n",
              "      <th>date</th>\n",
              "      <th>group</th>\n",
              "      <th>visitors</th>\n",
              "    </tr>\n",
              "  </thead>\n",
              "  <tbody>\n",
              "    <tr>\n",
              "      <th>0</th>\n",
              "      <td>2019-08-01</td>\n",
              "      <td>A</td>\n",
              "      <td>719</td>\n",
              "    </tr>\n",
              "    <tr>\n",
              "      <th>1</th>\n",
              "      <td>2019-08-02</td>\n",
              "      <td>A</td>\n",
              "      <td>619</td>\n",
              "    </tr>\n",
              "    <tr>\n",
              "      <th>2</th>\n",
              "      <td>2019-08-03</td>\n",
              "      <td>A</td>\n",
              "      <td>507</td>\n",
              "    </tr>\n",
              "    <tr>\n",
              "      <th>3</th>\n",
              "      <td>2019-08-04</td>\n",
              "      <td>A</td>\n",
              "      <td>717</td>\n",
              "    </tr>\n",
              "    <tr>\n",
              "      <th>4</th>\n",
              "      <td>2019-08-05</td>\n",
              "      <td>A</td>\n",
              "      <td>756</td>\n",
              "    </tr>\n",
              "    <tr>\n",
              "      <th>5</th>\n",
              "      <td>2019-08-06</td>\n",
              "      <td>A</td>\n",
              "      <td>667</td>\n",
              "    </tr>\n",
              "    <tr>\n",
              "      <th>6</th>\n",
              "      <td>2019-08-07</td>\n",
              "      <td>A</td>\n",
              "      <td>644</td>\n",
              "    </tr>\n",
              "    <tr>\n",
              "      <th>7</th>\n",
              "      <td>2019-08-08</td>\n",
              "      <td>A</td>\n",
              "      <td>610</td>\n",
              "    </tr>\n",
              "    <tr>\n",
              "      <th>8</th>\n",
              "      <td>2019-08-09</td>\n",
              "      <td>A</td>\n",
              "      <td>617</td>\n",
              "    </tr>\n",
              "    <tr>\n",
              "      <th>9</th>\n",
              "      <td>2019-08-10</td>\n",
              "      <td>A</td>\n",
              "      <td>406</td>\n",
              "    </tr>\n",
              "  </tbody>\n",
              "</table>\n",
              "</div>"
            ],
            "text/plain": [
              "         date group  visitors\n",
              "0  2019-08-01     A       719\n",
              "1  2019-08-02     A       619\n",
              "2  2019-08-03     A       507\n",
              "3  2019-08-04     A       717\n",
              "4  2019-08-05     A       756\n",
              "5  2019-08-06     A       667\n",
              "6  2019-08-07     A       644\n",
              "7  2019-08-08     A       610\n",
              "8  2019-08-09     A       617\n",
              "9  2019-08-10     A       406"
            ]
          },
          "execution_count": 66,
          "metadata": {},
          "output_type": "execute_result"
        }
      ],
      "source": [
        "visitors.head(10)"
      ]
    },
    {
      "cell_type": "code",
      "execution_count": null,
      "metadata": {
        "id": "Xh4LTAvC_ohL",
        "outputId": "56904d69-6c79-4360-8bdf-240f548892ea"
      },
      "outputs": [
        {
          "name": "stdout",
          "output_type": "stream",
          "text": [
            "<class 'pandas.core.frame.DataFrame'>\n",
            "RangeIndex: 9 entries, 0 to 8\n",
            "Data columns (total 5 columns):\n",
            " #   Column      Non-Null Count  Dtype \n",
            "---  ------      --------------  ----- \n",
            " 0   Hypothesis  9 non-null      object\n",
            " 1   Reach       9 non-null      int64 \n",
            " 2   Impact      9 non-null      int64 \n",
            " 3   Confidence  9 non-null      int64 \n",
            " 4   Efforts     9 non-null      int64 \n",
            "dtypes: int64(4), object(1)\n",
            "memory usage: 488.0+ bytes\n"
          ]
        }
      ],
      "source": [
        "hypothesis.info()"
      ]
    },
    {
      "cell_type": "code",
      "execution_count": null,
      "metadata": {
        "id": "V3I1BePM_ohL",
        "outputId": "19df3a99-1370-4455-ced5-d034781b5fb2"
      },
      "outputs": [
        {
          "name": "stdout",
          "output_type": "stream",
          "text": [
            "<class 'pandas.core.frame.DataFrame'>\n",
            "RangeIndex: 1197 entries, 0 to 1196\n",
            "Data columns (total 5 columns):\n",
            " #   Column         Non-Null Count  Dtype \n",
            "---  ------         --------------  ----- \n",
            " 0   transactionId  1197 non-null   int64 \n",
            " 1   visitorId      1197 non-null   int64 \n",
            " 2   date           1197 non-null   object\n",
            " 3   revenue        1197 non-null   int64 \n",
            " 4   group          1197 non-null   object\n",
            "dtypes: int64(3), object(2)\n",
            "memory usage: 46.9+ KB\n"
          ]
        }
      ],
      "source": [
        "orders.info()"
      ]
    },
    {
      "cell_type": "code",
      "execution_count": null,
      "metadata": {
        "id": "sgUML659_ohL",
        "outputId": "75b6afd5-c905-4db3-8b7b-9d2864ec6263"
      },
      "outputs": [
        {
          "name": "stdout",
          "output_type": "stream",
          "text": [
            "<class 'pandas.core.frame.DataFrame'>\n",
            "RangeIndex: 62 entries, 0 to 61\n",
            "Data columns (total 3 columns):\n",
            " #   Column    Non-Null Count  Dtype \n",
            "---  ------    --------------  ----- \n",
            " 0   date      62 non-null     object\n",
            " 1   group     62 non-null     object\n",
            " 2   visitors  62 non-null     int64 \n",
            "dtypes: int64(1), object(2)\n",
            "memory usage: 1.6+ KB\n"
          ]
        }
      ],
      "source": [
        "visitors.info()"
      ]
    },
    {
      "cell_type": "code",
      "execution_count": null,
      "metadata": {
        "id": "PT6ATgvO_ohL",
        "outputId": "1ce1ad46-34a0-4a00-87ef-6f8914176550"
      },
      "outputs": [
        {
          "data": {
            "text/plain": [
              "0"
            ]
          },
          "execution_count": 70,
          "metadata": {},
          "output_type": "execute_result"
        }
      ],
      "source": [
        "# вижу что нет пропусков, проверю на дубликаты быстро и перейду к приведению типов в соответствие. \n",
        "hypothesis.duplicated().sum()"
      ]
    },
    {
      "cell_type": "code",
      "execution_count": null,
      "metadata": {
        "id": "AoTFUIRM_ohL",
        "outputId": "ed69ef9e-5ee3-440f-ec60-c11f8402feb6"
      },
      "outputs": [
        {
          "data": {
            "text/plain": [
              "0"
            ]
          },
          "execution_count": 71,
          "metadata": {},
          "output_type": "execute_result"
        }
      ],
      "source": [
        "orders.duplicated().sum()"
      ]
    },
    {
      "cell_type": "code",
      "execution_count": null,
      "metadata": {
        "id": "jyyKGbY3_ohM",
        "outputId": "ec3e59af-58ae-4bc1-a638-10b56b202a78"
      },
      "outputs": [
        {
          "data": {
            "text/plain": [
              "0"
            ]
          },
          "execution_count": 72,
          "metadata": {},
          "output_type": "execute_result"
        }
      ],
      "source": [
        "visitors.duplicated().sum()"
      ]
    },
    {
      "cell_type": "code",
      "execution_count": null,
      "metadata": {
        "id": "r42AsVZL_ohM"
      },
      "outputs": [],
      "source": [
        "# дубликатов тоже нет, приведу в датасетах orders и visitirs столбец date к типу datetime\n",
        "\n",
        "orders['date'] = orders['date'].astype('datetime64[ns]')\n",
        "visitors['date'] = visitors['date'].astype('datetime64[ns]')"
      ]
    },
    {
      "cell_type": "markdown",
      "metadata": {
        "id": "s23JXhJO_ohM"
      },
      "source": [
        "**Результаты подготовки**  \n",
        "Данные просмотрели, дубликатов и пропусков нет. Типы данных на datetime64[ns] изменили в столбцах date у датасетов orders и visitors. Теперь перейдем к части 2 и будем приоритизировать гипотезы. "
      ]
    },
    {
      "cell_type": "markdown",
      "metadata": {
        "id": "EdTAC44w_ohN"
      },
      "source": [
        "## Приступим к приоритизации гипотез"
      ]
    },
    {
      "cell_type": "code",
      "execution_count": null,
      "metadata": {
        "id": "Bp15RNtd_ohN",
        "outputId": "838720a4-cd6d-442c-c6b6-1b6b38a5394f"
      },
      "outputs": [
        {
          "data": {
            "text/html": [
              "<div>\n",
              "<style scoped>\n",
              "    .dataframe tbody tr th:only-of-type {\n",
              "        vertical-align: middle;\n",
              "    }\n",
              "\n",
              "    .dataframe tbody tr th {\n",
              "        vertical-align: top;\n",
              "    }\n",
              "\n",
              "    .dataframe thead th {\n",
              "        text-align: right;\n",
              "    }\n",
              "</style>\n",
              "<table border=\"1\" class=\"dataframe\">\n",
              "  <thead>\n",
              "    <tr style=\"text-align: right;\">\n",
              "      <th></th>\n",
              "      <th>Hypothesis</th>\n",
              "      <th>Ice</th>\n",
              "    </tr>\n",
              "  </thead>\n",
              "  <tbody>\n",
              "    <tr>\n",
              "      <th>8</th>\n",
              "      <td>Запустить акцию, дающую скидку на товар в день рождения</td>\n",
              "      <td>16.20</td>\n",
              "    </tr>\n",
              "    <tr>\n",
              "      <th>0</th>\n",
              "      <td>Добавить два новых канала привлечения трафика, что позволит привлекать на 30% больше пользователей</td>\n",
              "      <td>13.33</td>\n",
              "    </tr>\n",
              "    <tr>\n",
              "      <th>7</th>\n",
              "      <td>Добавить форму подписки на все основные страницы, чтобы собрать базу клиентов для email-рассылок</td>\n",
              "      <td>11.20</td>\n",
              "    </tr>\n",
              "    <tr>\n",
              "      <th>6</th>\n",
              "      <td>Показать на главной странице баннеры с актуальными акциями и распродажами, чтобы увеличить конверсию</td>\n",
              "      <td>8.00</td>\n",
              "    </tr>\n",
              "    <tr>\n",
              "      <th>2</th>\n",
              "      <td>Добавить блоки рекомендаций товаров на сайт интернет магазина, чтобы повысить конверсию и средний чек заказа</td>\n",
              "      <td>7.00</td>\n",
              "    </tr>\n",
              "    <tr>\n",
              "      <th>1</th>\n",
              "      <td>Запустить собственную службу доставки, что сократит срок доставки заказов</td>\n",
              "      <td>2.00</td>\n",
              "    </tr>\n",
              "    <tr>\n",
              "      <th>5</th>\n",
              "      <td>Добавить страницу отзывов клиентов о магазине, что позволит увеличить количество заказов</td>\n",
              "      <td>1.33</td>\n",
              "    </tr>\n",
              "    <tr>\n",
              "      <th>3</th>\n",
              "      <td>Изменить структура категорий, что увеличит конверсию, т.к. пользователи быстрее найдут нужный товар</td>\n",
              "      <td>1.12</td>\n",
              "    </tr>\n",
              "    <tr>\n",
              "      <th>4</th>\n",
              "      <td>Изменить цвет фона главной страницы, чтобы увеличить вовлеченность пользователей</td>\n",
              "      <td>1.00</td>\n",
              "    </tr>\n",
              "  </tbody>\n",
              "</table>\n",
              "</div>"
            ],
            "text/plain": [
              "                                                                                                     Hypothesis  \\\n",
              "8                                                       Запустить акцию, дающую скидку на товар в день рождения   \n",
              "0            Добавить два новых канала привлечения трафика, что позволит привлекать на 30% больше пользователей   \n",
              "7              Добавить форму подписки на все основные страницы, чтобы собрать базу клиентов для email-рассылок   \n",
              "6          Показать на главной странице баннеры с актуальными акциями и распродажами, чтобы увеличить конверсию   \n",
              "2  Добавить блоки рекомендаций товаров на сайт интернет магазина, чтобы повысить конверсию и средний чек заказа   \n",
              "1                                     Запустить собственную службу доставки, что сократит срок доставки заказов   \n",
              "5                      Добавить страницу отзывов клиентов о магазине, что позволит увеличить количество заказов   \n",
              "3           Изменить структура категорий, что увеличит конверсию, т.к. пользователи быстрее найдут нужный товар   \n",
              "4                              Изменить цвет фона главной страницы, чтобы увеличить вовлеченность пользователей   \n",
              "\n",
              "     Ice  \n",
              "8  16.20  \n",
              "0  13.33  \n",
              "7  11.20  \n",
              "6   8.00  \n",
              "2   7.00  \n",
              "1   2.00  \n",
              "5   1.33  \n",
              "3   1.12  \n",
              "4   1.00  "
            ]
          },
          "execution_count": 74,
          "metadata": {},
          "output_type": "execute_result"
        }
      ],
      "source": [
        "# сначала используем фреймворк ice\n",
        "hypothesis['Ice'] = hypothesis['Impact'] * hypothesis['Confidence'] / hypothesis['Efforts']\n",
        "round(hypothesis[['Hypothesis', 'Ice']].sort_values(by='Ice', ascending=False), 2)"
      ]
    },
    {
      "cell_type": "code",
      "execution_count": null,
      "metadata": {
        "id": "ZsCrNfqU_ohN",
        "outputId": "14462f9f-1790-4abe-98ad-69ad6784b5a1"
      },
      "outputs": [
        {
          "data": {
            "text/html": [
              "<div>\n",
              "<style scoped>\n",
              "    .dataframe tbody tr th:only-of-type {\n",
              "        vertical-align: middle;\n",
              "    }\n",
              "\n",
              "    .dataframe tbody tr th {\n",
              "        vertical-align: top;\n",
              "    }\n",
              "\n",
              "    .dataframe thead th {\n",
              "        text-align: right;\n",
              "    }\n",
              "</style>\n",
              "<table border=\"1\" class=\"dataframe\">\n",
              "  <thead>\n",
              "    <tr style=\"text-align: right;\">\n",
              "      <th></th>\n",
              "      <th>Hypothesis</th>\n",
              "      <th>Rice</th>\n",
              "    </tr>\n",
              "  </thead>\n",
              "  <tbody>\n",
              "    <tr>\n",
              "      <th>7</th>\n",
              "      <td>Добавить форму подписки на все основные страницы, чтобы собрать базу клиентов для email-рассылок</td>\n",
              "      <td>112.0</td>\n",
              "    </tr>\n",
              "    <tr>\n",
              "      <th>2</th>\n",
              "      <td>Добавить блоки рекомендаций товаров на сайт интернет магазина, чтобы повысить конверсию и средний чек заказа</td>\n",
              "      <td>56.0</td>\n",
              "    </tr>\n",
              "    <tr>\n",
              "      <th>0</th>\n",
              "      <td>Добавить два новых канала привлечения трафика, что позволит привлекать на 30% больше пользователей</td>\n",
              "      <td>40.0</td>\n",
              "    </tr>\n",
              "    <tr>\n",
              "      <th>6</th>\n",
              "      <td>Показать на главной странице баннеры с актуальными акциями и распродажами, чтобы увеличить конверсию</td>\n",
              "      <td>40.0</td>\n",
              "    </tr>\n",
              "    <tr>\n",
              "      <th>8</th>\n",
              "      <td>Запустить акцию, дающую скидку на товар в день рождения</td>\n",
              "      <td>16.2</td>\n",
              "    </tr>\n",
              "    <tr>\n",
              "      <th>3</th>\n",
              "      <td>Изменить структура категорий, что увеличит конверсию, т.к. пользователи быстрее найдут нужный товар</td>\n",
              "      <td>9.0</td>\n",
              "    </tr>\n",
              "    <tr>\n",
              "      <th>1</th>\n",
              "      <td>Запустить собственную службу доставки, что сократит срок доставки заказов</td>\n",
              "      <td>4.0</td>\n",
              "    </tr>\n",
              "    <tr>\n",
              "      <th>5</th>\n",
              "      <td>Добавить страницу отзывов клиентов о магазине, что позволит увеличить количество заказов</td>\n",
              "      <td>4.0</td>\n",
              "    </tr>\n",
              "    <tr>\n",
              "      <th>4</th>\n",
              "      <td>Изменить цвет фона главной страницы, чтобы увеличить вовлеченность пользователей</td>\n",
              "      <td>3.0</td>\n",
              "    </tr>\n",
              "  </tbody>\n",
              "</table>\n",
              "</div>"
            ],
            "text/plain": [
              "                                                                                                     Hypothesis  \\\n",
              "7              Добавить форму подписки на все основные страницы, чтобы собрать базу клиентов для email-рассылок   \n",
              "2  Добавить блоки рекомендаций товаров на сайт интернет магазина, чтобы повысить конверсию и средний чек заказа   \n",
              "0            Добавить два новых канала привлечения трафика, что позволит привлекать на 30% больше пользователей   \n",
              "6          Показать на главной странице баннеры с актуальными акциями и распродажами, чтобы увеличить конверсию   \n",
              "8                                                       Запустить акцию, дающую скидку на товар в день рождения   \n",
              "3           Изменить структура категорий, что увеличит конверсию, т.к. пользователи быстрее найдут нужный товар   \n",
              "1                                     Запустить собственную службу доставки, что сократит срок доставки заказов   \n",
              "5                      Добавить страницу отзывов клиентов о магазине, что позволит увеличить количество заказов   \n",
              "4                              Изменить цвет фона главной страницы, чтобы увеличить вовлеченность пользователей   \n",
              "\n",
              "    Rice  \n",
              "7  112.0  \n",
              "2   56.0  \n",
              "0   40.0  \n",
              "6   40.0  \n",
              "8   16.2  \n",
              "3    9.0  \n",
              "1    4.0  \n",
              "5    4.0  \n",
              "4    3.0  "
            ]
          },
          "execution_count": 75,
          "metadata": {},
          "output_type": "execute_result"
        }
      ],
      "source": [
        "hypothesis['Rice'] = (hypothesis['Reach'] * hypothesis['Impact'] * hypothesis['Confidence']) / hypothesis['Efforts']\n",
        "hypothesis[['Hypothesis', 'Rice']].sort_values(by='Rice', ascending=False)"
      ]
    },
    {
      "cell_type": "markdown",
      "metadata": {
        "id": "O-u3STqb_ohO"
      },
      "source": [
        "**Вывод**  \n",
        "При использовании Ice приоритетными были гипотезы 8, 0 и 7. После применения фреймворка Rice расстановка поменялась и на первом месте стала 7 гипотеза, на второе - 2 и на третьем - 0. \n",
        "Изменения очевидны поскольку при расчете Rice используется дополнительный параметр Reach, который означает скольких пользователй затронет изменение. По моему мнению следует опираться на приоритизацию через Rice, поскольку пользователи это ключевой фактор для любого бизнеса и не учитывать их \"мнение\" нельзя. Поэтому я предлагаю приоритет отдать 7 гипотезе и далее по перечню. "
      ]
    },
    {
      "cell_type": "markdown",
      "metadata": {
        "id": "huahbNGk_ohO"
      },
      "source": [
        "## Переходим к 3 части : анализ A/B теста."
      ]
    },
    {
      "cell_type": "code",
      "execution_count": null,
      "metadata": {
        "id": "Y42jIRZq_ohO"
      },
      "outputs": [],
      "source": [
        "# берем уникальные значения дат и групп\n",
        "datesGroups = orders[['date','group']].drop_duplicates()"
      ]
    },
    {
      "cell_type": "code",
      "execution_count": null,
      "metadata": {
        "id": "ez4_aqX6_ohO",
        "outputId": "d85447c4-7bd0-4fb4-c8de-53e163dfda71"
      },
      "outputs": [
        {
          "data": {
            "text/html": [
              "<div>\n",
              "<style scoped>\n",
              "    .dataframe tbody tr th:only-of-type {\n",
              "        vertical-align: middle;\n",
              "    }\n",
              "\n",
              "    .dataframe tbody tr th {\n",
              "        vertical-align: top;\n",
              "    }\n",
              "\n",
              "    .dataframe thead th {\n",
              "        text-align: right;\n",
              "    }\n",
              "</style>\n",
              "<table border=\"1\" class=\"dataframe\">\n",
              "  <thead>\n",
              "    <tr style=\"text-align: right;\">\n",
              "      <th></th>\n",
              "      <th>date</th>\n",
              "      <th>group</th>\n",
              "      <th>transactionId</th>\n",
              "      <th>visitorId</th>\n",
              "      <th>revenue</th>\n",
              "      <th>visitors</th>\n",
              "    </tr>\n",
              "  </thead>\n",
              "  <tbody>\n",
              "    <tr>\n",
              "      <th>0</th>\n",
              "      <td>2019-08-01</td>\n",
              "      <td>A</td>\n",
              "      <td>24</td>\n",
              "      <td>20</td>\n",
              "      <td>148579</td>\n",
              "      <td>719</td>\n",
              "    </tr>\n",
              "    <tr>\n",
              "      <th>1</th>\n",
              "      <td>2019-08-01</td>\n",
              "      <td>B</td>\n",
              "      <td>21</td>\n",
              "      <td>20</td>\n",
              "      <td>101217</td>\n",
              "      <td>713</td>\n",
              "    </tr>\n",
              "    <tr>\n",
              "      <th>2</th>\n",
              "      <td>2019-08-02</td>\n",
              "      <td>A</td>\n",
              "      <td>44</td>\n",
              "      <td>38</td>\n",
              "      <td>242401</td>\n",
              "      <td>1338</td>\n",
              "    </tr>\n",
              "    <tr>\n",
              "      <th>3</th>\n",
              "      <td>2019-08-02</td>\n",
              "      <td>B</td>\n",
              "      <td>45</td>\n",
              "      <td>43</td>\n",
              "      <td>266748</td>\n",
              "      <td>1294</td>\n",
              "    </tr>\n",
              "    <tr>\n",
              "      <th>4</th>\n",
              "      <td>2019-08-03</td>\n",
              "      <td>A</td>\n",
              "      <td>68</td>\n",
              "      <td>62</td>\n",
              "      <td>354874</td>\n",
              "      <td>1845</td>\n",
              "    </tr>\n",
              "  </tbody>\n",
              "</table>\n",
              "</div>"
            ],
            "text/plain": [
              "        date group  transactionId  visitorId  revenue  visitors\n",
              "0 2019-08-01     A             24         20   148579       719\n",
              "1 2019-08-01     B             21         20   101217       713\n",
              "2 2019-08-02     A             44         38   242401      1338\n",
              "3 2019-08-02     B             45         43   266748      1294\n",
              "4 2019-08-03     A             68         62   354874      1845"
            ]
          },
          "execution_count": 77,
          "metadata": {},
          "output_type": "execute_result"
        }
      ],
      "source": [
        "# формируем кумулятивные значения\n",
        "ordersAggregated = datesGroups.apply(lambda x: orders[np.logical_and(orders['date'] <= x['date'], \n",
        "                                                                     orders['group'] == x['group'])]\n",
        "                                     .agg({'date' : 'max', \n",
        "                                           'group' : 'max', \n",
        "                                           'transactionId' : 'nunique', \n",
        "                                           'visitorId' : 'nunique', \n",
        "                                           'revenue' : 'sum'}), \n",
        "                                     axis=1).sort_values(by=['date','group'])\n",
        "\n",
        "visitorsAggregated = datesGroups.apply(lambda x: visitors[np.logical_and(visitors['date'] <= x['date'], \n",
        "                                                                         visitors['group'] == x['group'])]\n",
        "                                       .agg({'date' : 'max', \n",
        "                                             'group' : 'max', \n",
        "                                             'visitors' : 'sum'}),\n",
        "                                       axis=1).sort_values(by=['date','group'])\n",
        "\n",
        "cumulativeData = ordersAggregated.merge(visitorsAggregated, left_on=['date', 'group'], right_on=['date', 'group'])\n",
        "cumulativeData.head(5)"
      ]
    },
    {
      "cell_type": "code",
      "execution_count": null,
      "metadata": {
        "id": "t8tupmOW_ohP",
        "outputId": "d676544d-4661-44bf-e57c-c87afc2970fb"
      },
      "outputs": [
        {
          "data": {
            "image/png": "[encoded data removed]",
            "text/plain": [
              "<Figure size 1080x504 with 1 Axes>"
            ]
          },
          "metadata": {
            "needs_background": "light"
          },
          "output_type": "display_data"
        }
      ],
      "source": [
        "# cтроим первый график кумулятивной выручки по группам\n",
        "cumulativeRevenueA = cumulativeData[cumulativeData['group']=='A'][['date','revenue', 'transactionId']]\n",
        "cumulativeRevenueB = cumulativeData[cumulativeData['group']=='B'][['date','revenue', 'transactionId']]\n",
        "\n",
        "plt.figure(figsize=(15,7))\n",
        "plt.plot(cumulativeRevenueA['date'], cumulativeRevenueA['revenue'], label='A')\n",
        "plt.plot(cumulativeRevenueB['date'], cumulativeRevenueB['revenue'], label='B')\n",
        "plt.ylabel('Выручка')\n",
        "plt.xlabel('Дата')\n",
        "plt.title('График кумулятивной выручки по группам')\n",
        "plt.legend()\n",
        "plt.show()"
      ]
    },
    {
      "cell_type": "markdown",
      "metadata": {
        "id": "TVmmQ8gl_ohQ"
      },
      "source": [
        "**Вывод**  \n",
        "Судя по графику выручка растет постоянно. \n",
        "Исходя из графика видно, что первые 5 дней обе группы шли одинаково, но потом группа \"А\" начала отставать. 13 августа группа \"А\" догнала группу \"В\", но так и не смогла опередить. Еще 17 августа у группы \"В\" произошел резкий скачек выручки вверх, это может быть увеличение количества заказов или выбросы. Посмотрим на следующих графиках. "
      ]
    },
    {
      "cell_type": "code",
      "execution_count": null,
      "metadata": {
        "id": "-aI0b3vV_ohQ",
        "outputId": "a3c8a0a6-db6f-4811-faac-9b1bf997b48b"
      },
      "outputs": [
        {
          "data": {
            "image/png": "[encoded data removed]",
            "text/plain": [
              "<Figure size 1080x504 with 1 Axes>"
            ]
          },
          "metadata": {
            "needs_background": "light"
          },
          "output_type": "display_data"
        }
      ],
      "source": [
        "# построим график кумулятивного среднего чека по группам\n",
        "plt.figure(figsize=(15,7))\n",
        "plt.plot(cumulativeRevenueA['date'], cumulativeRevenueA['revenue']/cumulativeRevenueA['transactionId'], label='A')\n",
        "plt.plot(cumulativeRevenueB['date'], cumulativeRevenueB['revenue']/cumulativeRevenueB['transactionId'], label='B')\n",
        "plt.ylabel('Сумма среднего чека')\n",
        "plt.xlabel('Дата')\n",
        "plt.title('График кумулятивного среднего чека по группам')\n",
        "plt.legend() \n",
        "plt.show()"
      ]
    },
    {
      "cell_type": "markdown",
      "metadata": {
        "id": "ZxfLvkSD_ohQ"
      },
      "source": [
        "**Вывод**  \n",
        "На этом графике мы также видим эту аномалию 17 октября. Средний чек у группы \"В\" резко вырос в этот день. Что касается группы \"А\", то 13 августа как раз в день когда группа \"А\" максимально приблизилась к группе \"В\" по выручке тоже присутствует резкий скачек выручки. Скорее всего пришел крупный заказ, который на это повлиял. В последующих днях после 21 авгуса средний чек у обеих групп переходит в плавное стабильное направление (причем у группы \"В\" он снижается). "
      ]
    },
    {
      "cell_type": "code",
      "execution_count": null,
      "metadata": {
        "id": "15kHm4X6_ohQ",
        "outputId": "a59d44f2-0ff3-42b3-cdcb-eef012466792"
      },
      "outputs": [
        {
          "data": {
            "image/png": "[encoded data removed]",
            "text/plain": [
              "<Figure size 1080x504 with 1 Axes>"
            ]
          },
          "metadata": {
            "needs_background": "light"
          },
          "output_type": "display_data"
        }
      ],
      "source": [
        "# Теперь построим график относительного изменения кумулятивного среднего чека группы B к группе A.\n",
        "mergedCumulativeRevenue = cumulativeRevenueA.merge(cumulativeRevenueB, \n",
        "                                                   left_on='date', \n",
        "                                                   right_on='date', \n",
        "                                                   how='left', \n",
        "                                                   suffixes=['A', 'B'])\n",
        "plt.figure(figsize=(15,7))\n",
        "plt.plot(mergedCumulativeRevenue['date'], \n",
        "         (mergedCumulativeRevenue['revenueB']/mergedCumulativeRevenue['transactionIdB'])\n",
        "         /(mergedCumulativeRevenue['revenueA']/mergedCumulativeRevenue['transactionIdA'])-1)\n",
        "plt.axhline(y=0, color='black', linestyle='--') \n",
        "plt.ylabel('Уровень')\n",
        "plt.xlabel('Дата')\n",
        "plt.title('График относительного изменения кумулятивного среднего чека группы B к группе A')\n",
        "plt.show()"
      ]
    },
    {
      "cell_type": "markdown",
      "metadata": {
        "id": "EtPFjZrY_ohR"
      },
      "source": [
        "**Вывод**  \n",
        "На графике видны резкие скачки, причем в те же дни, что мы уже отметили. Предположу, что у нас точно присутствуют аномалии и выбросы."
      ]
    },
    {
      "cell_type": "code",
      "execution_count": null,
      "metadata": {
        "id": "cHp2_M2V_ohR",
        "outputId": "b1169933-013b-43fc-e791-abf26e8f4821"
      },
      "outputs": [
        {
          "data": {
            "image/png": "[encoded data removed]",
            "text/plain": [
              "<Figure size 1080x504 with 1 Axes>"
            ]
          },
          "metadata": {
            "needs_background": "light"
          },
          "output_type": "display_data"
        }
      ],
      "source": [
        "# Переходим к построению графика кумулятивной конверсии.\n",
        "\n",
        "cumulativeData['conversion'] = cumulativeData['transactionId']/cumulativeData['visitors']\n",
        "\n",
        "cumulativeDataA = cumulativeData[cumulativeData['group']=='A']\n",
        "cumulativeDataB = cumulativeData[cumulativeData['group']=='B']\n",
        "\n",
        "plt.figure(figsize=(15,7))\n",
        "plt.plot(cumulativeDataA['date'], cumulativeDataA['conversion'], label='A')\n",
        "plt.plot(cumulativeDataB['date'], cumulativeDataB['conversion'], label='B')\n",
        "plt.ylabel('Конверсия')\n",
        "plt.xlabel('Дата')\n",
        "plt.title('График кумулятивной конверсии')\n",
        "plt.legend() \n",
        "\n",
        "plt.axis([dt.datetime.strptime('2019-08-01', '%Y-%m-%d'), dt.datetime.strptime('2019-09-01', '%Y-%m-%d'), 0, 0.05])\n",
        "plt.show()\n"
      ]
    },
    {
      "cell_type": "markdown",
      "metadata": {
        "id": "A2oVgTHU_ohR"
      },
      "source": [
        "**Вывод**  \n",
        "Линии плавные, но видны постоянные скачки вначале до 13 августа. Потом конверсия группы \"А\" пошла вниз, а конверсия группы \"В\" наоборот вышла на уровень 36% и дальше оставалась в диапазоне 34-35%."
      ]
    },
    {
      "cell_type": "code",
      "execution_count": null,
      "metadata": {
        "id": "G8iNo0z3_ohR",
        "outputId": "b42bc439-696d-4c43-ae7e-c4beb1053f18"
      },
      "outputs": [
        {
          "data": {
            "image/png": "[encoded data removed]",
            "text/plain": [
              "<Figure size 1080x504 with 1 Axes>"
            ]
          },
          "metadata": {
            "needs_background": "light"
          },
          "output_type": "display_data"
        }
      ],
      "source": [
        "# строим график относительного различия кумулятивных конверсий\n",
        "mergedCumulativeConversions = cumulativeDataA[['date','conversion']].merge(cumulativeDataB[['date','conversion']], \n",
        "                                       left_on='date', \n",
        "                                       right_on='date', \n",
        "                                       how='left', \n",
        "                                       suffixes=['A', 'B'])\n",
        "\n",
        "plt.figure(figsize=(15,7))\n",
        "plt.plot(mergedCumulativeConversions['date'], \n",
        "         mergedCumulativeConversions['conversionB']/mergedCumulativeConversions['conversionA']-1)\n",
        "plt.title('Относительный прирост конверсии группы B относительно группы A')\n",
        "plt.axhline(y=0, color='black', linestyle='--')\n",
        "plt.axhline(y=-0.1, color='grey', linestyle='--')\n",
        "plt.xlabel('Дата')\n",
        "plt.axis([dt.datetime.strptime('2019-08-01', '%Y-%m-%d'), dt.datetime.strptime('2019-09-01', '%Y-%m-%d'), -0.2, 0.3])\n",
        "plt.show()\n"
      ]
    },
    {
      "cell_type": "markdown",
      "metadata": {
        "id": "vga8ESMT_ohR"
      },
      "source": [
        "**Вывод**  \n",
        "Конверсия группы \"В\" выигрывает и даже при начальном резком падении достаточно быстро восстанавливается и переходит в рост. График коррелирует с предыдущим. "
      ]
    },
    {
      "cell_type": "code",
      "execution_count": null,
      "metadata": {
        "id": "1juTNpep_ohS",
        "outputId": "7ec9d949-0862-45d5-a79b-bccc65cd350a"
      },
      "outputs": [
        {
          "data": {
            "image/png": "[encoded data removed]",
            "text/plain": [
              "<Figure size 1080x504 with 1 Axes>"
            ]
          },
          "metadata": {
            "needs_background": "light"
          },
          "output_type": "display_data"
        }
      ],
      "source": [
        "# Переходим к построению точечного графика количества заказов по пользователям.\n",
        "ordersByUsers = (\n",
        "    orders.groupby('visitorId', as_index=False)\n",
        "    .agg({'transactionId': 'nunique'})\n",
        ")\n",
        "ordersByUsers.columns = ['userId', 'orders']\n",
        "\n",
        "x_values = pd.Series(range(0,len(ordersByUsers)))\n",
        "plt.figure(figsize=(15,7))\n",
        "plt.scatter(x_values, ordersByUsers['orders']) \n",
        "plt.ylabel('Заказы')\n",
        "plt.xlabel('Пользователи')\n",
        "plt.title('Количество заказов по пользователям')\n",
        "plt.show()\n"
      ]
    },
    {
      "cell_type": "markdown",
      "metadata": {
        "id": "lZMsP1uf_ohS"
      },
      "source": [
        "**Вывод**  \n",
        "Судя по графику большинство пользователей делали заказ один раз. Но также присутствует достаточно большая доля тех, кто делал 2 заказа. Чуть ниже с теми кто уже делал заказ 3 раза. Нужно посмотреть в персинтилях. "
      ]
    },
    {
      "cell_type": "code",
      "execution_count": null,
      "metadata": {
        "id": "dcgh3f_3_ohS",
        "outputId": "7c429005-6d15-444f-87b6-76b90bce5ac3"
      },
      "outputs": [
        {
          "data": {
            "text/plain": [
              "array([2., 4.])"
            ]
          },
          "execution_count": 84,
          "metadata": {},
          "output_type": "execute_result"
        }
      ],
      "source": [
        "# посчитаем перцинтили количества заказов на пользователя.\n",
        "np.percentile(ordersByUsers['orders'], [95, 99])"
      ]
    },
    {
      "cell_type": "markdown",
      "metadata": {
        "id": "u-QqKnoX_ohS"
      },
      "source": [
        "**Вывод**  \n",
        "Только 5% делают более 2-х заказов и 1% более 4. Предалгаю опеределить верхнюю границу 2-мя заказами. "
      ]
    },
    {
      "cell_type": "code",
      "execution_count": null,
      "metadata": {
        "id": "fUbv1kiL_ohS",
        "outputId": "694cd19b-8d55-4f1e-9f3b-7b34eae36485"
      },
      "outputs": [
        {
          "data": {
            "image/png": "[encoded data removed]",
            "text/plain": [
              "<Figure size 1080x504 with 1 Axes>"
            ]
          },
          "metadata": {
            "needs_background": "light"
          },
          "output_type": "display_data"
        }
      ],
      "source": [
        "# строим точечный график стоимостей заказов\n",
        "\n",
        "x_values = pd.Series(range(0,len(orders['revenue'])))\n",
        "plt.figure(figsize=(15,7))\n",
        "plt.scatter(x_values, orders['revenue'])\n",
        "plt.ylabel('Стоимость')\n",
        "plt.xlabel('Пользователи')\n",
        "plt.title('График стоимостей заказов по пользователям')\n",
        "plt.axis([0, 1200, 0, 120000])\n",
        "plt.show()"
      ]
    },
    {
      "cell_type": "markdown",
      "metadata": {
        "id": "oxuPo7t-_ohS"
      },
      "source": [
        "**Вывод**  \n",
        "Судя по графику подавляющие число заказов стоит до 20000. Дороже уже меньше, но есть и дорогие заказы в диапазоне от 80000 до 100000. Давайте посмотрим на перцентили."
      ]
    },
    {
      "cell_type": "code",
      "execution_count": null,
      "metadata": {
        "id": "PumSclri_ohT",
        "outputId": "da66dc05-1697-4cc8-f198-538488e1ccca"
      },
      "outputs": [
        {
          "data": {
            "image/png": "[encoded data removed]",
            "text/plain": [
              "<Figure size 1080x504 with 1 Axes>"
            ]
          },
          "metadata": {
            "needs_background": "light"
          },
          "output_type": "display_data"
        }
      ],
      "source": [
        "x_values = pd.Series(range(0,len(orders['revenue'])))\n",
        "plt.figure(figsize=(15,7))\n",
        "plt.scatter(x_values, orders['revenue'])\n",
        "plt.ylabel('Стоимость')\n",
        "plt.xlabel('Пользователи')\n",
        "plt.title('График стоимостей заказов по пользователям')\n",
        "\n",
        "plt.show()"
      ]
    },
    {
      "cell_type": "code",
      "execution_count": null,
      "metadata": {
        "id": "i-HAThKi_ohT",
        "outputId": "249d2145-81d3-4d31-c15d-5f9f08cfbbc9"
      },
      "outputs": [
        {
          "data": {
            "text/plain": [
              "array([28000. , 58233.2])"
            ]
          },
          "execution_count": 86,
          "metadata": {},
          "output_type": "execute_result"
        }
      ],
      "source": [
        "# посчитаем перцинтили стоимостей заказов на пользователя.\n",
        "np.percentile(orders['revenue'], [95, 99])"
      ]
    },
    {
      "cell_type": "markdown",
      "metadata": {
        "id": "6XspVwTl_ohT"
      },
      "source": [
        "**Вывод**  \n",
        "Все оказалось даже еще проще. Только 5% пользователей платят более 28000 за заказы. И 1% более 58000.  \n",
        "Таким образом предлагаю признать аномальными заказы стоимостью выше 28 000. "
      ]
    },
    {
      "cell_type": "code",
      "execution_count": null,
      "metadata": {
        "id": "fJ2gMGqC_ohU"
      },
      "outputs": [],
      "source": [
        "# Переходим к расчету статистической значимости различий в среднем количестве заказов между группами по «сырым» данным.\n",
        "# Для этого сформирую таблицу со всеми необходимыми данными в один датасет для работы как это было в тренажере,\n",
        "# далее создадим два столбца в которые вложим заказы и создадим две переменные (выборки) в которых у нас будут соттветствие\n",
        "# пользователей и количество заказов из разных групп. \n",
        "\n",
        "visitorsADaily = visitors[visitors['group'] == 'A'][['date', 'visitors']]\n",
        "visitorsADaily.columns = ['date', 'visitorsPerDateA']\n",
        "\n",
        "visitorsACummulative = visitorsADaily.apply(\n",
        "    lambda x: visitorsADaily[visitorsADaily['date'] <= x['date']].agg(\n",
        "        {'date': 'max', 'visitorsPerDateA': 'sum'}), axis=1,)\n",
        "\n",
        "visitorsACummulative.columns = ['date', 'visitorsCummulativeA']\n",
        "\n",
        "visitorsBDaily = visitors[visitors['group'] == 'B'][['date', 'visitors']]\n",
        "visitorsBDaily.columns = ['date', 'visitorsPerDateB']\n",
        "\n",
        "visitorsBCummulative = visitorsBDaily.apply(\n",
        "    lambda x: visitorsBDaily[visitorsBDaily['date'] <= x['date']].agg(\n",
        "        {'date': 'max', 'visitorsPerDateB': 'sum'}),axis=1,)\n",
        "visitorsBCummulative.columns = ['date', 'visitorsCummulativeB']\n",
        "\n",
        "ordersADaily = (\n",
        "    orders[orders['group'] == 'A'][['date', 'transactionId', 'visitorId', 'revenue']]\n",
        "    .groupby('date', as_index=False)\n",
        "    .agg({'transactionId': pd.Series.nunique, 'revenue': 'sum'}))\n",
        "\n",
        "ordersADaily.columns = ['date', 'ordersPerDateA', 'revenuePerDateA']\n",
        "\n",
        "ordersACummulative = ordersADaily.apply(\n",
        "    lambda x: ordersADaily[ordersADaily['date'] <= x['date']].agg(\n",
        "        {'date': 'max', 'ordersPerDateA': 'sum', 'revenuePerDateA': 'sum'}), axis=1,).sort_values(by=['date'])\n",
        "\n",
        "ordersACummulative.columns = ['date', 'ordersCummulativeA', 'revenueCummulativeA',]\n",
        "\n",
        "ordersBDaily = (\n",
        "    orders[orders['group'] == 'B'][['date', 'transactionId', 'visitorId', 'revenue']]\n",
        "    .groupby('date', as_index=False)\n",
        "    .agg({'transactionId': pd.Series.nunique, 'revenue': 'sum'}))\n",
        "\n",
        "ordersBDaily.columns = ['date', 'ordersPerDateB', 'revenuePerDateB']\n",
        "\n",
        "ordersBCummulative = ordersBDaily.apply(\n",
        "    lambda x: ordersBDaily[ordersBDaily['date'] <= x['date']].agg(\n",
        "        {'date': 'max', 'ordersPerDateB': 'sum', 'revenuePerDateB': 'sum'}),axis=1,).sort_values(by=['date'])\n",
        "\n",
        "ordersBCummulative.columns = ['date','ordersCummulativeB','revenueCummulativeB',]\n",
        "\n",
        "data = (\n",
        "    ordersADaily.merge(\n",
        "        ordersBDaily, left_on='date', right_on='date', how='left')\n",
        "    .merge(ordersACummulative, left_on='date', right_on='date', how='left')\n",
        "    .merge(ordersBCummulative, left_on='date', right_on='date', how='left')\n",
        "    .merge(visitorsADaily, left_on='date', right_on='date', how='left')\n",
        "    .merge(visitorsBDaily, left_on='date', right_on='date', how='left')\n",
        "    .merge(visitorsACummulative, left_on='date', right_on='date', how='left')\n",
        "    .merge(visitorsBCummulative, left_on='date', right_on='date', how='left')\n",
        ")\n",
        "ordersByUsersA = (\n",
        "    orders[orders['group'] == 'A']\n",
        "    .groupby('visitorId', as_index=False)\n",
        "    .agg({'transactionId': pd.Series.nunique})\n",
        ")\n",
        "ordersByUsersA.columns = ['userId', 'orders']\n",
        "\n",
        "ordersByUsersB = (\n",
        "    orders[orders['group'] == 'B']\n",
        "    .groupby('visitorId', as_index=False)\n",
        "    .agg({'transactionId': pd.Series.nunique})\n",
        ")\n",
        "ordersByUsersB.columns = ['userId', 'orders']\n",
        "\n",
        "sampleA = pd.concat([ordersByUsersA['orders'],pd.Series(0, index=np.arange(\n",
        "                data['visitorsPerDateA'].sum() - len(ordersByUsersA['orders'])\n",
        "            ), name='orders',),],axis=0,)\n",
        "\n",
        "sampleB = pd.concat([ordersByUsersB['orders'],pd.Series(0,index=np.arange(\n",
        "                data['visitorsPerDateB'].sum() - len(ordersByUsersB['orders'])\n",
        "            ),name='orders',),],axis=0,)\n"
      ]
    },
    {
      "cell_type": "markdown",
      "metadata": {
        "id": "EVMMgsPC_ohU"
      },
      "source": [
        "###### Прежде чем перейти к расчету статистической значимости выведем гипотезу:  \n",
        "###### Н0: Разница между количеством заказов у групп \"А\" и \"В\" статистически не значима.  \n",
        "###### Н1: Разница между группами \"А\" и \"В\" по количеству заказов статистически значима."
      ]
    },
    {
      "cell_type": "code",
      "execution_count": null,
      "metadata": {
        "id": "c2qNXyOX_ohU",
        "outputId": "89e76dbd-e0b9-45c4-ff70-9180cc211c1e"
      },
      "outputs": [
        {
          "name": "stdout",
          "output_type": "stream",
          "text": [
            "PValue: 0.017\n",
            "Разница между группами статистически значима.\n"
          ]
        }
      ],
      "source": [
        "# считаю стат.значимость по количеству заказов по \"сырым\" данным. Для проверки использую метод Манна-Уитни.\n",
        "alpha = 0.05\n",
        "result = stats.mannwhitneyu(sampleA, sampleB)\n",
        "print('PValue:', \"{0:.3f}\".format(result.pvalue))\n",
        "if result.pvalue < alpha:\n",
        "    print('Разница между группами статистически значима.')\n",
        "else:\n",
        "    print('Статистически значимых различий по количеству заказов между группами нет.')"
      ]
    },
    {
      "cell_type": "code",
      "execution_count": null,
      "metadata": {
        "id": "uyZUtdJZ_ohU",
        "outputId": "35be93ce-f3e8-45aa-c128-0d8694c44295"
      },
      "outputs": [
        {
          "name": "stdout",
          "output_type": "stream",
          "text": [
            "Прирост группы \"В\" относительно группы \"А\": 0.138\n"
          ]
        }
      ],
      "source": [
        "print('Прирост группы \"В\" относительно группы \"А\":', \"{0:.3f}\".format(sampleB.mean() / sampleA.mean() - 1))"
      ]
    },
    {
      "cell_type": "markdown",
      "metadata": {
        "id": "1WIgPXee_ohV"
      },
      "source": [
        "**Вывод**  \n",
        "Исходя из полученного результата можно точно увидеть, что статистическая разница между группами присутствует. Второе число нам показало прирост группы \"В\" на 13% над группой \"А\". "
      ]
    },
    {
      "cell_type": "markdown",
      "metadata": {
        "id": "A4Wu8IXK_ohV"
      },
      "source": [
        "###### Выведем гипотезу:  \n",
        "###### Н0: Разница между средним чеком в заказе у групп \"А\" и \"В\" статистически не значима.  \n",
        "###### Н1: Разница между группами \"А\" и \"В\" по среднему чеку заказов статистически значима."
      ]
    },
    {
      "cell_type": "code",
      "execution_count": null,
      "metadata": {
        "id": "EDDPCEH9_ohV",
        "outputId": "0bd3f68c-69cc-48f4-eacc-084e2ebe674b"
      },
      "outputs": [
        {
          "name": "stdout",
          "output_type": "stream",
          "text": [
            "PValue: 0.729\n",
            "Статистически значимых различий в среднем чеке заказа между группами нет.\n"
          ]
        }
      ],
      "source": [
        "# Считаю статистическую значимость различий в среднем чеке заказа между группами по «сырым» данным. \n",
        "# Для проверки использую метод Манна-Уитни.\n",
        "alpha = 0.05\n",
        "result = stats.mannwhitneyu(orders[orders['group']=='A']['revenue'], orders[orders['group']=='B']['revenue'])\n",
        "print('PValue:', \"{0:.3f}\".format(result.pvalue))\n",
        "if result.pvalue < alpha:\n",
        "    print('Разница между группами статистически значима.')\n",
        "else:\n",
        "    print('Статистически значимых различий в среднем чеке заказа между группами нет.')"
      ]
    },
    {
      "cell_type": "code",
      "execution_count": null,
      "metadata": {
        "id": "6CD-tfa1_ohV",
        "outputId": "d2d1e5c0-1785-454a-f057-3589214dc9f5"
      },
      "outputs": [
        {
          "name": "stdout",
          "output_type": "stream",
          "text": [
            "Прирост группы \"В\" относительно группы \"А\": 0.259\n"
          ]
        }
      ],
      "source": [
        "print('Прирост группы \"В\" относительно группы \"А\":',\n",
        "      '{0:.3f}'.format(orders[orders['group']=='B']['revenue'].mean()/\n",
        "                       orders[orders['group']=='A']['revenue'].mean()-1))"
      ]
    },
    {
      "cell_type": "markdown",
      "metadata": {
        "id": "tSWOPstt_ohW"
      },
      "source": [
        "**Вывод**  \n",
        "В среднем чеке же наоборот, статистических различий не обнаружено между группами, но виден довольно большой прирост группы \"В\" на 25% (почти на 26%). "
      ]
    },
    {
      "cell_type": "markdown",
      "metadata": {
        "id": "Ktz2EojU_ohW"
      },
      "source": [
        "**Очистка**  \n",
        "Выше в нашем исследовании мы выяснили, что большинство пользователей делает 2 и менее заказов, а сумма одной покупки в большинстве случаев не более 28000. Я очищу данные от аномальных пользователей, у которых количество заказов и сумма выше указанных цифр."
      ]
    },
    {
      "cell_type": "code",
      "execution_count": null,
      "metadata": {
        "id": "JMX35y9L_ohW",
        "outputId": "470fe476-9d38-463f-bf50-b8cf66158aeb"
      },
      "outputs": [
        {
          "name": "stdout",
          "output_type": "stream",
          "text": [
            "Количество аномальных пользователей: 74\n"
          ]
        }
      ],
      "source": [
        "usersWithManyOrders = pd.concat([ordersByUsersA[ordersByUsersA['orders'] > 2]['userId'],\n",
        "                                 ordersByUsersB[ordersByUsersB['orders'] > 2]['userId'],],axis=0,)\n",
        "\n",
        "usersWithExpensiveOrders = orders[orders['revenue'] > 28000]['visitorId']\n",
        "\n",
        "abnormalUsers = (pd.concat([usersWithManyOrders, usersWithExpensiveOrders], axis=0)\n",
        "                 .drop_duplicates()\n",
        "                 .sort_values())\n",
        "print('Количество аномальных пользователей:', len(abnormalUsers))\n",
        "\n",
        "sampleAFiltered = pd.concat([ordersByUsersA[np.logical_not(ordersByUsersA['userId'].isin(abnormalUsers))]['orders'],\n",
        "                             pd.Series(0,index=np.arange(data['visitorsPerDateA'].sum() - len(ordersByUsersA['orders'])\n",
        "                                                        ), name='orders',),], axis=0,)\n",
        "\n",
        "sampleBFiltered = pd.concat([ordersByUsersB[np.logical_not(ordersByUsersB['userId'].isin(abnormalUsers))]['orders'],\n",
        "                             pd.Series(0,index=np.arange(data['visitorsPerDateB'].sum() - len(ordersByUsersB['orders'])\n",
        "                                                        ), name='orders',),], axis=0,)"
      ]
    },
    {
      "cell_type": "markdown",
      "metadata": {
        "id": "uvgrlkAj_ohW"
      },
      "source": [
        "###### Выведем гипотезу:  \n",
        "###### Н0: Разница между количеством заказов у групп \"А\" и \"В\" по \"очищенным\" данным статистически не значима.  \n",
        "###### Н1: Разница между группами \"А\" и \"В\" по количеству заказов по \"очищенным\" данным статистически значима."
      ]
    },
    {
      "cell_type": "code",
      "execution_count": null,
      "metadata": {
        "id": "bLzSolOw_ohX",
        "outputId": "ac848d99-271e-4d3d-f853-8447911d6e8b"
      },
      "outputs": [
        {
          "name": "stdout",
          "output_type": "stream",
          "text": [
            "PValue: 0.013\n",
            "Разница между группами статистически значима.\n"
          ]
        }
      ],
      "source": [
        "# переходим к расчету статистической значимости различий в среднем количестве заказов между группами по «очищенным» данным. \n",
        "# Для проверки использую метод Манна-Уитни.\n",
        "alpha = 0.05\n",
        "result = stats.mannwhitneyu(sampleAFiltered, sampleBFiltered)\n",
        "print('PValue:', \"{0:.3f}\".format(result.pvalue))\n",
        "if result.pvalue < alpha:\n",
        "    print('Разница между группами статистически значима.')\n",
        "else:\n",
        "    print('Статистически значимых различий в среднем количестве заказов между группами нет.')"
      ]
    },
    {
      "cell_type": "code",
      "execution_count": null,
      "metadata": {
        "id": "d2OKh_9S_ohX",
        "outputId": "1ad539d6-f1a0-4a3c-eba7-8f247c212696"
      },
      "outputs": [
        {
          "name": "stdout",
          "output_type": "stream",
          "text": [
            "Прирост группы \"В\" относительно группы \"А\": 0.173\n"
          ]
        }
      ],
      "source": [
        "print('Прирост группы \"В\" относительно группы \"А\":', '{0:.3f}'.format(sampleBFiltered.mean()/sampleAFiltered.mean()-1))"
      ]
    },
    {
      "cell_type": "markdown",
      "metadata": {
        "id": "-SrUg-zK_ohX"
      },
      "source": [
        "**Вывод**  \n",
        "Равно как и по \"сырым\" данным, так и по \"очищенным\" мы находим статистически значимую разницу между группами, также видим прирост группы \"В\" относительно группы \"А\" на 17%. Я уже готов предположить, что нужно делать дальше с тестом и какой результат. Проведу сейчас расчет статистической значимости различий в среднем чеке заказа между группами по «очищенным» данным и сделаю окончательный вывод."
      ]
    },
    {
      "cell_type": "markdown",
      "metadata": {
        "id": "AhGUH-0F_ohX"
      },
      "source": [
        "###### Выведем гипотезу:  \n",
        "###### Н0: Разница между средним чеком в заказе у групп \"А\" и \"В\" по «очищенным» данным статистически не значима.  \n",
        "###### Н1: Разница между группами \"А\" и \"В\" по среднему чеку заказов по «очищенным» данным статистически значима."
      ]
    },
    {
      "cell_type": "code",
      "execution_count": null,
      "metadata": {
        "id": "XxULZXDr_ohX",
        "outputId": "1f00abe6-aa77-4317-e8f4-fade3030a0f0"
      },
      "outputs": [
        {
          "name": "stdout",
          "output_type": "stream",
          "text": [
            "PValue: 0.738\n",
            "Статистически значимых различий в среднем чеке заказа между группами нет.\n"
          ]
        }
      ],
      "source": [
        "# расчет статистической значимости различий в среднем чеке заказа между группами по «очищенным» данным\n",
        "# Для проверки использую метод Манна-Уитни.\n",
        "alpha = 0.05\n",
        "result = stats.mannwhitneyu(orders[np.logical_and(orders['group'] == 'A',\n",
        "                                   np.logical_not(orders['visitorId'].isin(abnormalUsers)),)]['revenue'],\n",
        "                            orders[np.logical_and(orders['group'] == 'B',\n",
        "                                   np.logical_not(orders['visitorId'].isin(abnormalUsers)),)]['revenue'],)\n",
        "print('PValue:', \"{0:.3f}\".format(result.pvalue))\n",
        "if result.pvalue < alpha:\n",
        "    print('Разница между группами статистически значима.')\n",
        "else:\n",
        "    print('Статистически значимых различий в среднем чеке заказа между группами нет.')"
      ]
    },
    {
      "cell_type": "code",
      "execution_count": null,
      "metadata": {
        "id": "QRZXfFE-_ohX",
        "outputId": "8bdf3ed3-2779-4bab-cade-3a21c7b3e895"
      },
      "outputs": [
        {
          "name": "stdout",
          "output_type": "stream",
          "text": [
            "Прирост группы \"В\" относительно группы \"А\": -0.020\n"
          ]
        }
      ],
      "source": [
        "print('Прирост группы \"В\" относительно группы \"А\":', \"{0:.3f}\".format(\n",
        "                        orders[np.logical_and(orders['group'] == 'B',\n",
        "                               np.logical_not(orders['visitorId'].isin(abnormalUsers)),)]['revenue'].mean()\n",
        "                      / orders[np.logical_and(orders['group'] == 'A',\n",
        "                               np.logical_not(orders['visitorId'].isin(abnormalUsers)),)]['revenue'].mean() - 1)\n",
        ")"
      ]
    },
    {
      "cell_type": "markdown",
      "metadata": {
        "id": "nx60VygY_ohY"
      },
      "source": [
        "## Вывод:  \n",
        "В начале нашей работы мы провели подготовку данных, посмотрели датасеты, проверили на пропуски, наличие дубликатов и корректность типов данных. Привели к типу datetime столбец date в таблицах orders и visitors.  \n",
        "После этого приступили к приоритезации гипотез. Используя методы ICE и RICE мы определили , что во-первых в исследовании необходимо учитывать пользователя, поскольку всегда покупатель \"голосует\" рублем, а рубль = прибыль в бизнесе. Таким образом взяв за основу результат расчета по формуле RICE мы определили приоритетные гипотезы:  \n",
        "1. 7 гипотеза  \n",
        "2. 2 гипотеза  \n",
        "3. 0 гипотеза  \n",
        "После успешной приоритизации гипотез мы перешли к анализу результатов А/В теста. При использовании кумулятивных метрик мы построили граффики кумулятивной выручки по группам, кумулятивного среднего чека по группам, относительного изменения кумулятивного среднего чека группы B к группе A, кумулятивного среднего количества заказов по группам, относительного изменения кумулятивного среднего количества заказов группы B к группе A. Судя по этим графикам можно увидеть достаточно хорошие результаты группы \"В\" по сравнению с группой \"А\". На всех графиках группа \"В\" \"побеждает\".  \n",
        "После построения точечных графиков по количеству и стоимости заказов мы выяснили, что большинство пользователей делает 2 и менее заказа, а сумма одной покупки в большинстве случаев не более 28000.  \n",
        "С учетом полученных параметров мы провели расчеты статистической значимости различий в среднем количестве заказов и в среднем чеке заказа между группами вначале по \"сырым\", а затем по \"очищенным\" данным.  \n",
        "По результам этих расчетов мы выяснили, что по среднему количеству заказов по \"сырым\" и по \"очищенным\" данным разница между группами \"В\" и \"А\" статистически значима, а прирост группы \"В\" составляет 17% и 13% соответственно.  \n",
        "По среднему чеку же между группами ститистически значимых различий не обнаружено, но в \"сырых\" данных прирост группы \"В\" показывал 25%, а после очистки ушел в -2%. Этот расчет подтверждает наш график кумулятивного среднего чека, где был резкий скачок у группы \"В\". Видимо в этот момент произошел крупный заказ.  \n",
        "Таким образом, если не брать во внимание расчет статистической значимости по среднему чеку (как я описал выше, он просто нам подтвердил теорию резкого скачка на графике кумулятивного среднего чека) на протяжении всего анализа по всем метрикам лидировала группа \"В\", а в конце все подтвердилось результатом расчета статистической значимости по количеству заказов. Поэтому моя рекомендация по итогу всего анализа это остановить тест и признать группу \"В\" победителем в этом исследовании. "
      ]
    }
  ],
  "metadata": {
    "ExecuteTimeLog": [
      {
        "duration": 821,
        "start_time": "2022-10-15T14:39:33.465Z"
      },
      {
        "duration": 3,
        "start_time": "2022-10-15T14:45:20.869Z"
      },
      {
        "duration": 114,
        "start_time": "2022-10-15T14:48:04.384Z"
      },
      {
        "duration": 15,
        "start_time": "2022-10-15T14:48:16.972Z"
      },
      {
        "duration": 9,
        "start_time": "2022-10-15T14:48:31.427Z"
      },
      {
        "duration": 8,
        "start_time": "2022-10-15T14:48:50.533Z"
      },
      {
        "duration": 24,
        "start_time": "2022-10-15T14:49:33.039Z"
      },
      {
        "duration": 17,
        "start_time": "2022-10-15T14:49:56.230Z"
      },
      {
        "duration": 15,
        "start_time": "2022-10-15T14:50:08.018Z"
      },
      {
        "duration": 14,
        "start_time": "2022-10-15T14:50:13.027Z"
      },
      {
        "duration": 6,
        "start_time": "2022-10-15T14:50:59.585Z"
      },
      {
        "duration": 9,
        "start_time": "2022-10-15T14:51:42.858Z"
      },
      {
        "duration": 10,
        "start_time": "2022-10-15T14:51:48.304Z"
      },
      {
        "duration": 6,
        "start_time": "2022-10-15T14:52:09.273Z"
      },
      {
        "duration": 9,
        "start_time": "2022-10-15T14:52:09.962Z"
      },
      {
        "duration": 7,
        "start_time": "2022-10-15T14:52:10.611Z"
      },
      {
        "duration": 350,
        "start_time": "2022-10-15T14:54:51.194Z"
      },
      {
        "duration": 189,
        "start_time": "2022-10-15T14:55:38.569Z"
      },
      {
        "duration": 20,
        "start_time": "2022-10-15T14:57:20.792Z"
      },
      {
        "duration": 226,
        "start_time": "2022-10-15T14:57:36.061Z"
      },
      {
        "duration": 212,
        "start_time": "2022-10-15T14:58:59.142Z"
      },
      {
        "duration": 276,
        "start_time": "2022-10-15T15:04:30.194Z"
      },
      {
        "duration": 10,
        "start_time": "2022-10-15T15:11:55.768Z"
      },
      {
        "duration": 185,
        "start_time": "2022-10-15T15:12:52.049Z"
      },
      {
        "duration": 3,
        "start_time": "2022-10-15T15:13:15.209Z"
      },
      {
        "duration": 11,
        "start_time": "2022-10-15T15:13:28.973Z"
      },
      {
        "duration": 7,
        "start_time": "2022-10-15T15:22:39.238Z"
      },
      {
        "duration": 12,
        "start_time": "2022-10-15T15:25:26.682Z"
      },
      {
        "duration": 11,
        "start_time": "2022-10-15T15:28:03.250Z"
      },
      {
        "duration": 7,
        "start_time": "2022-10-15T15:52:59.448Z"
      },
      {
        "duration": 36,
        "start_time": "2022-10-15T16:07:57.292Z"
      },
      {
        "duration": 162,
        "start_time": "2022-10-15T16:09:32.284Z"
      },
      {
        "duration": 262,
        "start_time": "2022-10-15T16:10:32.500Z"
      },
      {
        "duration": 263,
        "start_time": "2022-10-15T16:15:38.782Z"
      },
      {
        "duration": 264,
        "start_time": "2022-10-15T16:16:49.951Z"
      },
      {
        "duration": 456,
        "start_time": "2022-10-15T16:18:44.539Z"
      },
      {
        "duration": 41,
        "start_time": "2022-10-15T16:18:44.998Z"
      },
      {
        "duration": 10,
        "start_time": "2022-10-15T16:18:45.041Z"
      },
      {
        "duration": 10,
        "start_time": "2022-10-15T16:18:45.053Z"
      },
      {
        "duration": 8,
        "start_time": "2022-10-15T16:18:45.066Z"
      },
      {
        "duration": 13,
        "start_time": "2022-10-15T16:18:45.076Z"
      },
      {
        "duration": 10,
        "start_time": "2022-10-15T16:18:45.091Z"
      },
      {
        "duration": 33,
        "start_time": "2022-10-15T16:18:45.104Z"
      },
      {
        "duration": 5,
        "start_time": "2022-10-15T16:18:45.139Z"
      },
      {
        "duration": 10,
        "start_time": "2022-10-15T16:18:45.146Z"
      },
      {
        "duration": 6,
        "start_time": "2022-10-15T16:18:45.158Z"
      },
      {
        "duration": 10,
        "start_time": "2022-10-15T16:18:45.166Z"
      },
      {
        "duration": 14,
        "start_time": "2022-10-15T16:18:45.178Z"
      },
      {
        "duration": 13,
        "start_time": "2022-10-15T16:18:45.194Z"
      },
      {
        "duration": 25,
        "start_time": "2022-10-15T16:18:45.209Z"
      },
      {
        "duration": 280,
        "start_time": "2022-10-15T16:18:45.236Z"
      },
      {
        "duration": 28,
        "start_time": "2022-10-15T16:18:45.518Z"
      },
      {
        "duration": 273,
        "start_time": "2022-10-15T16:19:27.154Z"
      },
      {
        "duration": 245,
        "start_time": "2022-10-15T16:20:04.328Z"
      },
      {
        "duration": 297,
        "start_time": "2022-10-15T16:21:43.932Z"
      },
      {
        "duration": 273,
        "start_time": "2022-10-15T16:22:04.150Z"
      },
      {
        "duration": 181,
        "start_time": "2022-10-15T16:22:32.976Z"
      },
      {
        "duration": 196,
        "start_time": "2022-10-15T16:22:43.774Z"
      },
      {
        "duration": 242,
        "start_time": "2022-10-15T16:23:02.167Z"
      },
      {
        "duration": 289,
        "start_time": "2022-10-15T16:23:13.864Z"
      },
      {
        "duration": 230,
        "start_time": "2022-10-15T16:23:32.369Z"
      },
      {
        "duration": 220,
        "start_time": "2022-10-15T16:29:37.189Z"
      },
      {
        "duration": 751,
        "start_time": "2022-10-15T16:36:42.849Z"
      },
      {
        "duration": 369,
        "start_time": "2022-10-15T16:37:17.847Z"
      },
      {
        "duration": 320,
        "start_time": "2022-10-15T16:38:41.373Z"
      },
      {
        "duration": 204,
        "start_time": "2022-10-15T16:49:23.040Z"
      },
      {
        "duration": 200,
        "start_time": "2022-10-15T16:49:55.450Z"
      },
      {
        "duration": 206,
        "start_time": "2022-10-15T16:54:06.737Z"
      },
      {
        "duration": 688,
        "start_time": "2022-10-15T16:56:39.101Z"
      },
      {
        "duration": 217,
        "start_time": "2022-10-15T16:57:19.984Z"
      },
      {
        "duration": 211,
        "start_time": "2022-10-15T16:57:27.049Z"
      },
      {
        "duration": 11,
        "start_time": "2022-10-15T19:21:43.911Z"
      },
      {
        "duration": 188,
        "start_time": "2022-10-15T19:23:02.876Z"
      },
      {
        "duration": 319,
        "start_time": "2022-10-15T19:23:12.758Z"
      },
      {
        "duration": 227,
        "start_time": "2022-10-15T19:23:23.501Z"
      },
      {
        "duration": 258,
        "start_time": "2022-10-15T19:25:45.891Z"
      },
      {
        "duration": 225,
        "start_time": "2022-10-15T19:26:31.249Z"
      },
      {
        "duration": 267,
        "start_time": "2022-10-15T19:27:27.940Z"
      },
      {
        "duration": 242,
        "start_time": "2022-10-15T19:28:55.750Z"
      },
      {
        "duration": 240,
        "start_time": "2022-10-15T19:32:11.198Z"
      },
      {
        "duration": 45,
        "start_time": "2022-10-15T19:51:46.406Z"
      },
      {
        "duration": 312,
        "start_time": "2022-10-15T19:52:05.225Z"
      },
      {
        "duration": 311,
        "start_time": "2022-10-15T19:52:42.046Z"
      },
      {
        "duration": 228,
        "start_time": "2022-10-15T19:56:34.680Z"
      },
      {
        "duration": 309,
        "start_time": "2022-10-15T19:56:52.561Z"
      },
      {
        "duration": 282,
        "start_time": "2022-10-15T19:57:26.980Z"
      },
      {
        "duration": 9,
        "start_time": "2022-10-15T20:04:59.662Z"
      },
      {
        "duration": 11,
        "start_time": "2022-10-15T20:05:25.329Z"
      },
      {
        "duration": 9,
        "start_time": "2022-10-15T20:06:11.121Z"
      },
      {
        "duration": 117,
        "start_time": "2022-10-15T20:06:45.787Z"
      },
      {
        "duration": 245,
        "start_time": "2022-10-15T20:08:37.316Z"
      },
      {
        "duration": 1337,
        "start_time": "2022-10-16T05:00:16.040Z"
      },
      {
        "duration": 113,
        "start_time": "2022-10-16T05:00:17.379Z"
      },
      {
        "duration": 18,
        "start_time": "2022-10-16T05:00:17.493Z"
      },
      {
        "duration": 13,
        "start_time": "2022-10-16T05:00:17.514Z"
      },
      {
        "duration": 13,
        "start_time": "2022-10-16T05:00:17.529Z"
      },
      {
        "duration": 16,
        "start_time": "2022-10-16T05:00:17.545Z"
      },
      {
        "duration": 17,
        "start_time": "2022-10-16T05:00:17.563Z"
      },
      {
        "duration": 12,
        "start_time": "2022-10-16T05:00:17.582Z"
      },
      {
        "duration": 9,
        "start_time": "2022-10-16T05:00:17.596Z"
      },
      {
        "duration": 7,
        "start_time": "2022-10-16T05:00:17.608Z"
      },
      {
        "duration": 4,
        "start_time": "2022-10-16T05:00:17.617Z"
      },
      {
        "duration": 35,
        "start_time": "2022-10-16T05:00:17.623Z"
      },
      {
        "duration": 14,
        "start_time": "2022-10-16T05:00:17.660Z"
      },
      {
        "duration": 13,
        "start_time": "2022-10-16T05:00:17.676Z"
      },
      {
        "duration": 7,
        "start_time": "2022-10-16T05:00:17.691Z"
      },
      {
        "duration": 331,
        "start_time": "2022-10-16T05:00:17.700Z"
      },
      {
        "duration": 327,
        "start_time": "2022-10-16T05:00:18.034Z"
      },
      {
        "duration": 250,
        "start_time": "2022-10-16T05:00:18.364Z"
      },
      {
        "duration": 411,
        "start_time": "2022-10-16T05:00:18.616Z"
      },
      {
        "duration": 232,
        "start_time": "2022-10-16T05:00:19.029Z"
      },
      {
        "duration": 335,
        "start_time": "2022-10-16T05:00:19.262Z"
      },
      {
        "duration": 176,
        "start_time": "2022-10-16T05:00:19.598Z"
      },
      {
        "duration": 216,
        "start_time": "2022-10-16T05:00:58.886Z"
      },
      {
        "duration": 229,
        "start_time": "2022-10-16T05:01:05.791Z"
      },
      {
        "duration": 305,
        "start_time": "2022-10-16T05:02:17.841Z"
      },
      {
        "duration": 329,
        "start_time": "2022-10-16T05:03:28.336Z"
      },
      {
        "duration": 290,
        "start_time": "2022-10-16T05:03:37.488Z"
      },
      {
        "duration": 307,
        "start_time": "2022-10-16T05:03:48.096Z"
      },
      {
        "duration": 300,
        "start_time": "2022-10-16T05:03:57.205Z"
      },
      {
        "duration": 324,
        "start_time": "2022-10-16T05:04:24.136Z"
      },
      {
        "duration": 6,
        "start_time": "2022-10-16T05:08:10.570Z"
      },
      {
        "duration": 176,
        "start_time": "2022-10-16T05:14:06.509Z"
      },
      {
        "duration": 59,
        "start_time": "2022-10-16T05:14:49.406Z"
      },
      {
        "duration": 46,
        "start_time": "2022-10-16T05:15:12.070Z"
      },
      {
        "duration": 50,
        "start_time": "2022-10-16T05:15:31.225Z"
      },
      {
        "duration": 43,
        "start_time": "2022-10-16T05:16:29.205Z"
      },
      {
        "duration": 155,
        "start_time": "2022-10-16T05:17:11.261Z"
      },
      {
        "duration": 183,
        "start_time": "2022-10-16T05:17:42.883Z"
      },
      {
        "duration": 190,
        "start_time": "2022-10-16T05:18:01.704Z"
      },
      {
        "duration": 196,
        "start_time": "2022-10-16T05:18:34.332Z"
      },
      {
        "duration": 276,
        "start_time": "2022-10-16T05:18:54.646Z"
      },
      {
        "duration": 189,
        "start_time": "2022-10-16T05:19:09.453Z"
      },
      {
        "duration": 6,
        "start_time": "2022-10-16T05:23:19.496Z"
      },
      {
        "duration": 235,
        "start_time": "2022-10-16T05:34:16.653Z"
      },
      {
        "duration": 229,
        "start_time": "2022-10-16T05:35:54.577Z"
      },
      {
        "duration": 244,
        "start_time": "2022-10-16T05:37:37.989Z"
      },
      {
        "duration": 223,
        "start_time": "2022-10-16T05:37:50.608Z"
      },
      {
        "duration": 222,
        "start_time": "2022-10-16T05:41:14.266Z"
      },
      {
        "duration": 215,
        "start_time": "2022-10-16T05:41:23.479Z"
      },
      {
        "duration": 262,
        "start_time": "2022-10-16T05:51:14.582Z"
      },
      {
        "duration": 400,
        "start_time": "2022-10-16T05:52:36.174Z"
      },
      {
        "duration": 377,
        "start_time": "2022-10-16T05:52:52.755Z"
      },
      {
        "duration": 364,
        "start_time": "2022-10-16T05:53:03.324Z"
      },
      {
        "duration": 384,
        "start_time": "2022-10-16T05:53:11.706Z"
      },
      {
        "duration": 24,
        "start_time": "2022-10-16T05:55:56.674Z"
      },
      {
        "duration": 29,
        "start_time": "2022-10-16T06:07:39.237Z"
      },
      {
        "duration": 21,
        "start_time": "2022-10-16T06:09:57.121Z"
      },
      {
        "duration": 22,
        "start_time": "2022-10-16T06:10:04.690Z"
      },
      {
        "duration": 21,
        "start_time": "2022-10-16T06:10:12.450Z"
      },
      {
        "duration": 30,
        "start_time": "2022-10-16T06:13:03.494Z"
      },
      {
        "duration": 45,
        "start_time": "2022-10-16T06:13:43.035Z"
      },
      {
        "duration": 23,
        "start_time": "2022-10-16T06:13:57.573Z"
      },
      {
        "duration": 38,
        "start_time": "2022-10-16T06:14:20.852Z"
      },
      {
        "duration": 27,
        "start_time": "2022-10-16T06:16:03.282Z"
      },
      {
        "duration": 29,
        "start_time": "2022-10-16T06:16:24.210Z"
      },
      {
        "duration": 23,
        "start_time": "2022-10-16T06:16:48.734Z"
      },
      {
        "duration": 29,
        "start_time": "2022-10-16T06:18:24.274Z"
      },
      {
        "duration": 26,
        "start_time": "2022-10-16T06:19:57.170Z"
      },
      {
        "duration": 21,
        "start_time": "2022-10-16T06:20:15.758Z"
      },
      {
        "duration": 27,
        "start_time": "2022-10-16T06:20:32.901Z"
      },
      {
        "duration": 32,
        "start_time": "2022-10-16T06:23:22.203Z"
      },
      {
        "duration": 23,
        "start_time": "2022-10-16T06:24:28.211Z"
      },
      {
        "duration": 23,
        "start_time": "2022-10-16T06:24:57.477Z"
      },
      {
        "duration": 24,
        "start_time": "2022-10-16T06:25:08.167Z"
      },
      {
        "duration": 6,
        "start_time": "2022-10-16T06:25:12.787Z"
      },
      {
        "duration": 5,
        "start_time": "2022-10-16T06:25:23.473Z"
      },
      {
        "duration": 6,
        "start_time": "2022-10-16T06:25:32.181Z"
      },
      {
        "duration": 22,
        "start_time": "2022-10-16T06:27:40.489Z"
      },
      {
        "duration": 22,
        "start_time": "2022-10-16T06:29:39.319Z"
      },
      {
        "duration": 29,
        "start_time": "2022-10-16T06:29:56.290Z"
      },
      {
        "duration": 22,
        "start_time": "2022-10-16T06:30:02.183Z"
      },
      {
        "duration": 28,
        "start_time": "2022-10-16T06:30:17.086Z"
      },
      {
        "duration": 22,
        "start_time": "2022-10-16T06:30:32.832Z"
      },
      {
        "duration": 49,
        "start_time": "2022-10-16T06:31:59.735Z"
      },
      {
        "duration": 48,
        "start_time": "2022-10-16T06:32:09.249Z"
      },
      {
        "duration": 22,
        "start_time": "2022-10-16T06:32:16.195Z"
      },
      {
        "duration": 23,
        "start_time": "2022-10-16T06:32:30.207Z"
      },
      {
        "duration": 22,
        "start_time": "2022-10-16T06:33:18.178Z"
      },
      {
        "duration": 6,
        "start_time": "2022-10-16T06:34:03.596Z"
      },
      {
        "duration": 40,
        "start_time": "2022-10-16T07:50:09.841Z"
      },
      {
        "duration": 6,
        "start_time": "2022-10-16T07:50:10.576Z"
      },
      {
        "duration": 18,
        "start_time": "2022-10-16T07:51:42.670Z"
      },
      {
        "duration": 50,
        "start_time": "2022-10-16T07:53:34.483Z"
      },
      {
        "duration": 4,
        "start_time": "2022-10-16T07:53:44.327Z"
      },
      {
        "duration": 13,
        "start_time": "2022-10-16T07:55:29.452Z"
      },
      {
        "duration": 12,
        "start_time": "2022-10-16T07:55:38.749Z"
      },
      {
        "duration": 7,
        "start_time": "2022-10-16T07:57:09.046Z"
      },
      {
        "duration": 762,
        "start_time": "2022-10-16T08:08:27.370Z"
      },
      {
        "duration": 17,
        "start_time": "2022-10-16T08:09:06.186Z"
      },
      {
        "duration": 11,
        "start_time": "2022-10-16T08:12:14.720Z"
      },
      {
        "duration": 13,
        "start_time": "2022-10-16T08:12:19.184Z"
      },
      {
        "duration": 25,
        "start_time": "2022-10-16T08:12:19.867Z"
      },
      {
        "duration": 5,
        "start_time": "2022-10-16T08:13:28.381Z"
      },
      {
        "duration": 15,
        "start_time": "2022-10-16T08:17:35.823Z"
      },
      {
        "duration": 15,
        "start_time": "2022-10-16T08:18:20.465Z"
      },
      {
        "duration": 14,
        "start_time": "2022-10-16T08:18:34.589Z"
      },
      {
        "duration": 22,
        "start_time": "2022-10-16T08:18:46.785Z"
      },
      {
        "duration": 4,
        "start_time": "2022-10-16T08:18:47.399Z"
      },
      {
        "duration": 29,
        "start_time": "2022-10-16T08:21:46.677Z"
      },
      {
        "duration": 5,
        "start_time": "2022-10-16T08:21:48.096Z"
      },
      {
        "duration": 11,
        "start_time": "2022-10-16T08:21:53.240Z"
      },
      {
        "duration": 714,
        "start_time": "2022-10-16T08:22:57.011Z"
      },
      {
        "duration": 13,
        "start_time": "2022-10-16T08:23:30.537Z"
      },
      {
        "duration": 12,
        "start_time": "2022-10-16T08:23:53.588Z"
      },
      {
        "duration": 10,
        "start_time": "2022-10-16T08:24:09.166Z"
      },
      {
        "duration": 8,
        "start_time": "2022-10-16T08:24:10.058Z"
      },
      {
        "duration": 14,
        "start_time": "2022-10-16T08:24:11.140Z"
      },
      {
        "duration": 22,
        "start_time": "2022-10-16T08:24:11.169Z"
      },
      {
        "duration": 6,
        "start_time": "2022-10-16T08:24:11.453Z"
      },
      {
        "duration": 13,
        "start_time": "2022-10-16T08:24:11.774Z"
      },
      {
        "duration": 922,
        "start_time": "2022-10-16T08:24:11.804Z"
      },
      {
        "duration": 9,
        "start_time": "2022-10-16T08:27:10.210Z"
      },
      {
        "duration": 1215,
        "start_time": "2022-10-17T05:24:49.544Z"
      },
      {
        "duration": 103,
        "start_time": "2022-10-17T05:24:50.760Z"
      },
      {
        "duration": 11,
        "start_time": "2022-10-17T05:24:50.864Z"
      },
      {
        "duration": 32,
        "start_time": "2022-10-17T05:24:50.877Z"
      },
      {
        "duration": 36,
        "start_time": "2022-10-17T05:24:50.911Z"
      },
      {
        "duration": 30,
        "start_time": "2022-10-17T05:24:50.949Z"
      },
      {
        "duration": 34,
        "start_time": "2022-10-17T05:24:50.981Z"
      },
      {
        "duration": 60,
        "start_time": "2022-10-17T05:24:51.017Z"
      },
      {
        "duration": 25,
        "start_time": "2022-10-17T05:24:51.079Z"
      },
      {
        "duration": 32,
        "start_time": "2022-10-17T05:24:51.107Z"
      },
      {
        "duration": 35,
        "start_time": "2022-10-17T05:24:51.140Z"
      },
      {
        "duration": 35,
        "start_time": "2022-10-17T05:24:51.177Z"
      },
      {
        "duration": 47,
        "start_time": "2022-10-17T05:24:51.213Z"
      },
      {
        "duration": 28,
        "start_time": "2022-10-17T05:24:51.262Z"
      },
      {
        "duration": 31,
        "start_time": "2022-10-17T05:24:51.292Z"
      },
      {
        "duration": 279,
        "start_time": "2022-10-17T05:24:51.325Z"
      },
      {
        "duration": 285,
        "start_time": "2022-10-17T05:24:51.606Z"
      },
      {
        "duration": 220,
        "start_time": "2022-10-17T05:24:51.893Z"
      },
      {
        "duration": 372,
        "start_time": "2022-10-17T05:24:52.115Z"
      },
      {
        "duration": 201,
        "start_time": "2022-10-17T05:24:52.489Z"
      },
      {
        "duration": 311,
        "start_time": "2022-10-17T05:24:52.691Z"
      },
      {
        "duration": 162,
        "start_time": "2022-10-17T05:24:53.004Z"
      },
      {
        "duration": 5,
        "start_time": "2022-10-17T05:24:53.167Z"
      },
      {
        "duration": 165,
        "start_time": "2022-10-17T05:24:53.174Z"
      },
      {
        "duration": 5,
        "start_time": "2022-10-17T05:24:53.341Z"
      },
      {
        "duration": 327,
        "start_time": "2022-10-17T05:24:53.347Z"
      },
      {
        "duration": 21,
        "start_time": "2022-10-17T05:24:53.676Z"
      },
      {
        "duration": 3,
        "start_time": "2022-10-17T05:24:53.700Z"
      },
      {
        "duration": 21,
        "start_time": "2022-10-17T05:24:53.705Z"
      },
      {
        "duration": 8,
        "start_time": "2022-10-17T05:24:53.728Z"
      },
      {
        "duration": 13,
        "start_time": "2022-10-17T05:24:53.737Z"
      },
      {
        "duration": 26,
        "start_time": "2022-10-17T05:24:53.751Z"
      },
      {
        "duration": 3,
        "start_time": "2022-10-17T05:24:53.779Z"
      },
      {
        "duration": 10,
        "start_time": "2022-10-17T05:24:53.784Z"
      },
      {
        "duration": 28,
        "start_time": "2022-10-17T05:24:53.795Z"
      },
      {
        "duration": 46,
        "start_time": "2022-10-17T05:37:54.733Z"
      },
      {
        "duration": 52,
        "start_time": "2022-10-17T06:51:26.259Z"
      },
      {
        "duration": 0,
        "start_time": "2022-10-17T06:51:26.313Z"
      },
      {
        "duration": 7,
        "start_time": "2022-10-17T06:51:27.541Z"
      },
      {
        "duration": 6,
        "start_time": "2022-10-17T06:51:28.380Z"
      },
      {
        "duration": 1248,
        "start_time": "2022-10-17T06:51:33.532Z"
      },
      {
        "duration": 101,
        "start_time": "2022-10-17T06:51:37.195Z"
      },
      {
        "duration": 12,
        "start_time": "2022-10-17T06:51:37.973Z"
      },
      {
        "duration": 73,
        "start_time": "2022-10-17T10:27:53.803Z"
      },
      {
        "duration": 3,
        "start_time": "2022-10-17T10:28:04.175Z"
      },
      {
        "duration": 39,
        "start_time": "2022-10-17T10:28:04.183Z"
      },
      {
        "duration": 8,
        "start_time": "2022-10-17T10:28:04.224Z"
      },
      {
        "duration": 16,
        "start_time": "2022-10-17T10:28:04.234Z"
      },
      {
        "duration": 9,
        "start_time": "2022-10-17T10:28:04.252Z"
      },
      {
        "duration": 13,
        "start_time": "2022-10-17T10:28:04.263Z"
      },
      {
        "duration": 11,
        "start_time": "2022-10-17T10:28:04.278Z"
      },
      {
        "duration": 19,
        "start_time": "2022-10-17T10:28:04.290Z"
      },
      {
        "duration": 4,
        "start_time": "2022-10-17T10:28:04.310Z"
      },
      {
        "duration": 10,
        "start_time": "2022-10-17T10:28:04.316Z"
      },
      {
        "duration": 13,
        "start_time": "2022-10-17T10:28:04.328Z"
      },
      {
        "duration": 8,
        "start_time": "2022-10-17T10:28:04.342Z"
      },
      {
        "duration": 25,
        "start_time": "2022-10-17T10:28:04.351Z"
      },
      {
        "duration": 0,
        "start_time": "2022-10-17T10:28:04.377Z"
      },
      {
        "duration": 6,
        "start_time": "2022-10-17T10:28:04.589Z"
      },
      {
        "duration": 310,
        "start_time": "2022-10-17T10:28:04.597Z"
      },
      {
        "duration": 332,
        "start_time": "2022-10-17T10:28:04.909Z"
      },
      {
        "duration": 216,
        "start_time": "2022-10-17T10:28:05.243Z"
      },
      {
        "duration": 393,
        "start_time": "2022-10-17T10:28:05.461Z"
      },
      {
        "duration": 220,
        "start_time": "2022-10-17T10:28:05.855Z"
      },
      {
        "duration": 335,
        "start_time": "2022-10-17T10:28:06.076Z"
      },
      {
        "duration": 163,
        "start_time": "2022-10-17T10:28:06.412Z"
      },
      {
        "duration": 4,
        "start_time": "2022-10-17T10:28:06.577Z"
      },
      {
        "duration": 179,
        "start_time": "2022-10-17T10:28:06.582Z"
      },
      {
        "duration": 4,
        "start_time": "2022-10-17T10:28:06.764Z"
      },
      {
        "duration": 340,
        "start_time": "2022-10-17T10:28:06.769Z"
      },
      {
        "duration": 21,
        "start_time": "2022-10-17T10:28:07.110Z"
      },
      {
        "duration": 4,
        "start_time": "2022-10-17T10:28:07.133Z"
      },
      {
        "duration": 9,
        "start_time": "2022-10-17T10:28:07.138Z"
      },
      {
        "duration": 7,
        "start_time": "2022-10-17T10:28:07.149Z"
      },
      {
        "duration": 13,
        "start_time": "2022-10-17T10:28:07.157Z"
      },
      {
        "duration": 55,
        "start_time": "2022-10-17T10:28:07.171Z"
      },
      {
        "duration": 4,
        "start_time": "2022-10-17T10:28:07.227Z"
      },
      {
        "duration": 10,
        "start_time": "2022-10-17T10:28:07.232Z"
      },
      {
        "duration": 6,
        "start_time": "2022-10-17T10:28:07.244Z"
      },
      {
        "duration": 12,
        "start_time": "2022-10-17T10:28:42.389Z"
      },
      {
        "duration": 244,
        "start_time": "2022-10-17T10:34:16.540Z"
      },
      {
        "duration": 210,
        "start_time": "2022-10-17T10:34:38.948Z"
      },
      {
        "duration": 295,
        "start_time": "2022-10-17T10:34:50.235Z"
      },
      {
        "duration": 202,
        "start_time": "2022-10-17T10:35:00.267Z"
      },
      {
        "duration": 320,
        "start_time": "2022-10-17T10:35:10.009Z"
      },
      {
        "duration": 152,
        "start_time": "2022-10-17T10:35:20.759Z"
      },
      {
        "duration": 181,
        "start_time": "2022-10-17T10:35:30.716Z"
      },
      {
        "duration": 52,
        "start_time": "2022-10-17T10:37:04.343Z"
      },
      {
        "duration": 49,
        "start_time": "2022-10-17T10:37:12.522Z"
      },
      {
        "duration": 56,
        "start_time": "2022-10-17T10:37:19.644Z"
      },
      {
        "duration": 53,
        "start_time": "2022-10-17T10:37:32.014Z"
      },
      {
        "duration": 75,
        "start_time": "2022-10-17T10:37:52.065Z"
      },
      {
        "duration": 50,
        "start_time": "2022-10-17T10:38:03.855Z"
      },
      {
        "duration": 57,
        "start_time": "2022-10-17T10:38:13.366Z"
      },
      {
        "duration": 51,
        "start_time": "2022-10-17T10:38:30.605Z"
      },
      {
        "duration": 21,
        "start_time": "2022-10-17T11:14:00.960Z"
      },
      {
        "duration": 8,
        "start_time": "2022-10-17T11:16:28.980Z"
      },
      {
        "duration": 14,
        "start_time": "2022-10-17T11:22:14.146Z"
      },
      {
        "duration": 3,
        "start_time": "2022-10-17T11:22:25.901Z"
      },
      {
        "duration": 50,
        "start_time": "2022-10-17T11:22:25.906Z"
      },
      {
        "duration": 8,
        "start_time": "2022-10-17T11:22:25.958Z"
      },
      {
        "duration": 19,
        "start_time": "2022-10-17T11:22:25.967Z"
      },
      {
        "duration": 8,
        "start_time": "2022-10-17T11:22:25.988Z"
      },
      {
        "duration": 11,
        "start_time": "2022-10-17T11:22:25.997Z"
      },
      {
        "duration": 14,
        "start_time": "2022-10-17T11:22:26.010Z"
      },
      {
        "duration": 16,
        "start_time": "2022-10-17T11:22:26.025Z"
      },
      {
        "duration": 8,
        "start_time": "2022-10-17T11:22:26.044Z"
      },
      {
        "duration": 5,
        "start_time": "2022-10-17T11:22:26.054Z"
      },
      {
        "duration": 4,
        "start_time": "2022-10-17T11:22:26.062Z"
      },
      {
        "duration": 6,
        "start_time": "2022-10-17T11:22:26.068Z"
      },
      {
        "duration": 35,
        "start_time": "2022-10-17T11:22:26.075Z"
      },
      {
        "duration": 11,
        "start_time": "2022-10-17T11:22:26.111Z"
      },
      {
        "duration": 5,
        "start_time": "2022-10-17T11:22:26.123Z"
      },
      {
        "duration": 281,
        "start_time": "2022-10-17T11:22:26.129Z"
      },
      {
        "duration": 223,
        "start_time": "2022-10-17T11:22:26.411Z"
      },
      {
        "duration": 224,
        "start_time": "2022-10-17T11:22:26.636Z"
      },
      {
        "duration": 312,
        "start_time": "2022-10-17T11:22:26.861Z"
      },
      {
        "duration": 209,
        "start_time": "2022-10-17T11:22:27.176Z"
      },
      {
        "duration": 365,
        "start_time": "2022-10-17T11:22:27.387Z"
      },
      {
        "duration": 177,
        "start_time": "2022-10-17T11:22:27.754Z"
      },
      {
        "duration": 5,
        "start_time": "2022-10-17T11:22:27.932Z"
      },
      {
        "duration": 200,
        "start_time": "2022-10-17T11:22:27.939Z"
      },
      {
        "duration": 6,
        "start_time": "2022-10-17T11:22:28.141Z"
      },
      {
        "duration": 336,
        "start_time": "2022-10-17T11:22:28.151Z"
      },
      {
        "duration": 25,
        "start_time": "2022-10-17T11:22:28.489Z"
      },
      {
        "duration": 4,
        "start_time": "2022-10-17T11:22:28.516Z"
      },
      {
        "duration": 9,
        "start_time": "2022-10-17T11:22:28.522Z"
      },
      {
        "duration": 5,
        "start_time": "2022-10-17T11:22:28.533Z"
      },
      {
        "duration": 12,
        "start_time": "2022-10-17T11:22:28.539Z"
      },
      {
        "duration": 57,
        "start_time": "2022-10-17T11:22:28.552Z"
      },
      {
        "duration": 3,
        "start_time": "2022-10-17T11:22:28.611Z"
      },
      {
        "duration": 14,
        "start_time": "2022-10-17T11:22:28.616Z"
      },
      {
        "duration": 6,
        "start_time": "2022-10-17T11:22:28.632Z"
      },
      {
        "duration": 166,
        "start_time": "2022-10-17T12:25:15.398Z"
      }
    ],
    "kernelspec": {
      "display_name": "Python 3 (ipykernel)",
      "language": "python",
      "name": "python3"
    },
    "language_info": {
      "codemirror_mode": {
        "name": "ipython",
        "version": 3
      },
      "file_extension": ".py",
      "mimetype": "text/x-python",
      "name": "python",
      "nbconvert_exporter": "python",
      "pygments_lexer": "ipython3",
      "version": "3.9.5"
    },
    "toc": {
      "base_numbering": 1,
      "nav_menu": {},
      "number_sections": true,
      "sideBar": true,
      "skip_h1_title": true,
      "title_cell": "Table of Contents",
      "title_sidebar": "Contents",
      "toc_cell": false,
      "toc_position": {},
      "toc_section_display": true,
      "toc_window_display": false
    },
    "colab": {
      "provenance": []
    }
  },
  "nbformat": 4,
  "nbformat_minor": 0
}