{
  "nbformat": 4,
  "nbformat_minor": 0,
  "metadata": {
    "colab": {
      "provenance": []
    },
    "kernelspec": {
      "name": "python3",
      "display_name": "Python 3"
    },
    "language_info": {
      "name": "python"
    }
  },
  "cells": [
    {
      "cell_type": "markdown",
      "source": [
        "**Мы будем работать с базой данных StackOverflow — сервиса вопросов и ответов о программировании используя язык запросов SQL**"
      ],
      "metadata": {
        "id": "Q6eFIUTclajI"
      }
    },
    {
      "cell_type": "markdown",
      "source": [
        "1. Найдите количество вопросов, которые набрали больше 300 очков или как минимум 100 раз были добавлены в «Закладки»."
      ],
      "metadata": {
        "id": "c2UUdBawlo1C"
      }
    },
    {
      "cell_type": "code",
      "source": [
        "SELECT COUNT(id)\n",
        "FROM stackoverflow.posts \n",
        "WHERE post_type_id=1 AND (score > 300 OR favorites_count >= 100);"
      ],
      "metadata": {
        "id": "5T2_4dLb6Rrs"
      },
      "execution_count": null,
      "outputs": []
    },
    {
      "cell_type": "markdown",
      "source": [
        "2. Сколько в среднем в день задавали вопросов с 1 по 18 ноября 2008 включительно? Результат округлите до целого числа."
      ],
      "metadata": {
        "id": "UkYhOJI06VJ_"
      }
    },
    {
      "cell_type": "code",
      "source": [
        "SELECT ROUND(AVG(count), 0)\n",
        "FROM \n",
        "    (SELECT CAST(DATE_TRUNC('day', creation_date) AS date) AS dt,\n",
        "     COUNT(id)\n",
        "      FROM stackoverflow.posts\n",
        "      WHERE post_type_id = 1\n",
        "      GROUP BY dt) as subq\n",
        "WHERE dt >= '2008-11-01' AND dt <= '2008-11-18';"
      ],
      "metadata": {
        "id": "jYIytIh56YQ7"
      },
      "execution_count": null,
      "outputs": []
    },
    {
      "cell_type": "markdown",
      "source": [
        "3. Сколько пользователей получили значки сразу в день регистрации? Выведите количество уникальных пользователей."
      ],
      "metadata": {
        "id": "1HWxSvvg6ZhJ"
      }
    },
    {
      "cell_type": "code",
      "source": [
        "SELECT COUNT(DISTINCT u.id)\n",
        "FROM stackoverflow.users u\n",
        "LEFT JOIN stackoverflow.badges b ON u.id = b.user_id\n",
        "WHERE u.creation_date::date = b.creation_date::date;"
      ],
      "metadata": {
        "id": "dDoTjmBS6dK-"
      },
      "execution_count": null,
      "outputs": []
    },
    {
      "cell_type": "markdown",
      "source": [
        "4. Сколько уникальных постов пользователя с именем Joel Coehoorn получили хотя бы один голос?"
      ],
      "metadata": {
        "id": "oruoPeSq6eYU"
      }
    },
    {
      "cell_type": "code",
      "source": [
        "SELECT COUNT(DISTINCT p.id)\n",
        "FROM stackoverflow.posts p\n",
        "JOIN stackoverflow.users u ON p.user_id = u.id\n",
        "JOIN stackoverflow.votes v ON p.id = v.post_id\n",
        "WHERE u.display_name = 'Joel Coehoorn' AND p.score >= 1;"
      ],
      "metadata": {
        "id": "xKF5PFZW6hKw"
      },
      "execution_count": null,
      "outputs": []
    },
    {
      "cell_type": "markdown",
      "source": [
        "5. Выгрузите все поля таблицы vote_types. Добавьте к таблице поле rank, в которое войдут номера записей в обратном порядке. Таблица должна быть отсортирована по полю id."
      ],
      "metadata": {
        "id": "YP-a_FD_6i2x"
      }
    },
    {
      "cell_type": "code",
      "source": [
        "SELECT *,\n",
        "       RANK() OVER (ORDER BY id DESC)\n",
        "FROM stackoverflow.vote_types\n",
        "ORDER BY id;"
      ],
      "metadata": {
        "id": "kEMMSyJC6mbm"
      },
      "execution_count": null,
      "outputs": []
    },
    {
      "cell_type": "markdown",
      "source": [
        "6. Отберите 10 пользователей, которые поставили больше всего голосов типа Close. Отобразите таблицу из двух полей: идентификатором пользователя и количеством голосов. Отсортируйте данные сначала по убыванию количества голосов, потом по убыванию значения идентификатора пользователя."
      ],
      "metadata": {
        "id": "xpeGYNmE6nhU"
      }
    },
    {
      "cell_type": "code",
      "source": [
        "SELECT DISTINCT v.user_id AS id,\n",
        "       COUNT(v.id) OVER (PARTITION BY v.user_id) AS count\n",
        "FROM stackoverflow.votes v\n",
        "JOIN stackoverflow.vote_types vt ON v.vote_type_id = vt.id\n",
        "WHERE vt.name = 'Close'\n",
        "ORDER BY count DESC,\n",
        "         id DESC\n",
        "LIMIT 10;"
      ],
      "metadata": {
        "id": "knq9YAj56qec"
      },
      "execution_count": null,
      "outputs": []
    },
    {
      "cell_type": "markdown",
      "source": [
        "7. Отберите 10 пользователей по количеству значков, полученных в период с 15 ноября по 15 декабря 2008 года включительно.  \n",
        "Отобразите несколько полей:  \n",
        "- идентификатор пользователя;  \n",
        "- число значков;  \n",
        "- место в рейтинге — чем больше значков, тем выше рейтинг.  \n",
        "Пользователям, которые набрали одинаковое количество значков, присвойте одно и то же место в рейтинге.  \n",
        "Отсортируйте записи по количеству значков по убыванию, а затем по возрастанию значения идентификатора пользователя."
      ],
      "metadata": {
        "id": "QII_VAjG6r0l"
      }
    },
    {
      "cell_type": "code",
      "source": [
        "WITH profile AS \n",
        "                (SELECT DISTINCT user_id, \n",
        "                        COUNT(id) AS count\n",
        "                 FROM stackoverflow.badges\n",
        "                 WHERE DATE_TRUNC('day', creation_date::date) >= '2008-11-15' \n",
        "                 AND DATE_TRUNC('day', creation_date::date) <= '2008-12-15'\n",
        "                 GROUP BY 1\n",
        "                 ORDER BY 2 DESC\n",
        "                 LIMIT 10)\n",
        "SELECT *,\n",
        "       DENSE_RANK() OVER (ORDER BY count DESC)\n",
        "FROM profile\n",
        "ORDER BY count DESC,\n",
        "         user_id;"
      ],
      "metadata": {
        "id": "J8OSOQcU61pJ"
      },
      "execution_count": null,
      "outputs": []
    },
    {
      "cell_type": "markdown",
      "source": [
        "8. Сколько в среднем очков получает пост каждого пользователя?  \n",
        "Сформируйте таблицу из следующих полей:  \n",
        "- заголовок поста;  \n",
        "- идентификатор пользователя;  \n",
        "- число очков поста;  \n",
        "- среднее число очков пользователя за пост, округлённое до целого числа.  \n",
        "Не учитывайте посты без заголовка, а также те, что набрали ноль очков."
      ],
      "metadata": {
        "id": "o9ARxCQk63NJ"
      }
    },
    {
      "cell_type": "code",
      "source": [
        "SELECT title, \n",
        "       user_id,\n",
        "       score,\n",
        "       ROUND(AVG(score) OVER (PARTITION BY user_id), 0) AS avg_score\n",
        "FROM stackoverflow.posts\n",
        "WHERE score != 0 AND title <> '';"
      ],
      "metadata": {
        "id": "L45DLdIi7BWq"
      },
      "execution_count": null,
      "outputs": []
    },
    {
      "cell_type": "markdown",
      "source": [
        "9. Отобразите заголовки постов, которые были написаны пользователями, получившими более 1000 значков. Посты без заголовков не должны попасть в список."
      ],
      "metadata": {
        "id": "wZS_JDdb7Dq4"
      }
    },
    {
      "cell_type": "code",
      "source": [
        "SELECT p.title\n",
        "FROM stackoverflow.posts AS p\n",
        "LEFT JOIN stackoverflow.users AS u ON u.id = p.user_id\n",
        "WHERE u.id IN (SELECT b.user_id\n",
        "                 FROM stackoverflow.badges AS b\n",
        "                 JOIN stackoverflow.users as u ON u.id = b.user_id\n",
        "               GROUP BY 1\n",
        "               HAVING COUNT (DISTINCT b.id)>1000)\n",
        "AND p.title IS NOT NULL;"
      ],
      "metadata": {
        "id": "iCAKi1g97GOu"
      },
      "execution_count": null,
      "outputs": []
    },
    {
      "cell_type": "markdown",
      "source": [
        "10. Напишите запрос, который выгрузит данные о пользователях из США (англ. United States). Разделите пользователей на три группы в зависимости от количества просмотров их профилей:  \n",
        "- пользователям с числом просмотров больше либо равным 350 присвойте группу 1;  \n",
        "- пользователям с числом просмотров меньше 350, но больше либо равно 100 — группу 2;  \n",
        "- пользователям с числом просмотров меньше 100 — группу 3.  \n",
        "Отобразите в итоговой таблице идентификатор пользователя, количество просмотров профиля и группу. Пользователи с нулевым количеством просмотров не должны войти в итоговую таблицу."
      ],
      "metadata": {
        "id": "WWdLq6Bv7HUM"
      }
    },
    {
      "cell_type": "code",
      "source": [
        "SELECT id,\n",
        "       views,\n",
        "       CASE \n",
        "           WHEN views >= 350 THEN 1\n",
        "           WHEN views < 350 AND views >= 100 THEN 2\n",
        "           WHEN views < 100 THEN 3\n",
        "        END AS group\n",
        "FROM stackoverflow.users\n",
        "WHERE location LIKE '%United States%' AND views != 0;"
      ],
      "metadata": {
        "id": "yTHDvKwK7qnh"
      },
      "execution_count": null,
      "outputs": []
    },
    {
      "cell_type": "markdown",
      "source": [
        "11. Дополните предыдущий запрос. Отобразите лидеров каждой группы — пользователей, которые набрали максимальное число просмотров в своей группе. Выведите поля с идентификатором пользователя, группой и количеством просмотров. Отсортируйте таблицу по убыванию просмотров, а затем по возрастанию значения идентификатора."
      ],
      "metadata": {
        "id": "ZSbylTVB7yDa"
      }
    },
    {
      "cell_type": "code",
      "source": [
        "WITH g AS (SELECT id,\n",
        "                  views,\n",
        "                  CASE \n",
        "                               WHEN views >= 350 THEN 1\n",
        "                               WHEN views < 350 AND views >= 100 THEN 2\n",
        "                               WHEN views < 100 THEN 3\n",
        "                         END AS group\n",
        "                         FROM stackoverflow.users\n",
        "                         WHERE location LIKE '%United States%' AND views != 0),\n",
        "mv AS (SELECT *,\n",
        "              MAX(views) OVER (PARTITION BY g.group) AS max_v\n",
        "       FROM g\n",
        "       ORDER BY g.views DESC,\n",
        "                id)\n",
        "SELECT mv.id,\n",
        "       mv.group,\n",
        "       mv.views\n",
        "FROM mv\n",
        "WHERE views = max_v;"
      ],
      "metadata": {
        "id": "oO9a2SPx71MO"
      },
      "execution_count": null,
      "outputs": []
    },
    {
      "cell_type": "markdown",
      "source": [
        "12. Посчитайте ежедневный прирост новых пользователей в ноябре 2008 года. Сформируйте таблицу с полями:  \n",
        "- номер дня;  \n",
        "- число пользователей, зарегистрированных в этот день;  \n",
        "- сумму пользователей с накоплением."
      ],
      "metadata": {
        "id": "PHWzid-_73n0"
      }
    },
    {
      "cell_type": "code",
      "source": [
        "WITH fd AS \n",
        "          (SELECT *\n",
        "           FROM stackoverflow.users\n",
        "           WHERE DATE_TRUNC('day', creation_date)::date BETWEEN '2008-11-01' AND '2008-11-30'),\n",
        "pf AS (SELECT DENSE_RANK () OVER (ORDER BY fd.creation_date::date) AS rank,\n",
        "               COUNT(fd.id) AS cnt,\n",
        "               COUNT(fd.id) OVER (ORDER BY DATE_TRUNC('day',fd.creation_date)::date) AS cnts\n",
        "       FROM fd\n",
        "       GROUP BY fd.creation_date, fd.id)\n",
        "SELECT pf.rank,\n",
        "       SUM(pf.cnt),\n",
        "       pf.cnts\n",
        "FROM pf\n",
        "GROUP BY 1,\n",
        "         3\n",
        "ORDER BY 1;"
      ],
      "metadata": {
        "id": "tYj50pI98BBM"
      },
      "execution_count": null,
      "outputs": []
    },
    {
      "cell_type": "markdown",
      "source": [
        "13. Для каждого пользователя, который написал хотя бы один пост, найдите интервал между регистрацией и временем создания первого поста. Отобразите:  \n",
        "- идентификатор пользователя;\n",
        "- разницу во времени между регистрацией и первым постом."
      ],
      "metadata": {
        "id": "N11C4FOf8GFM"
      }
    },
    {
      "cell_type": "code",
      "source": [
        "SELECT DISTINCT u.id,\n",
        "       FIRST_VALUE(p.creation_date) OVER (PARTITION BY u.id ORDER BY p.creation_date) - u.creation_date\n",
        "FROM stackoverflow.users u \n",
        "JOIN stackoverflow.posts p ON u.id = p.user_id;"
      ],
      "metadata": {
        "id": "lUwEXNqn8Lgk"
      },
      "execution_count": null,
      "outputs": []
    },
    {
      "cell_type": "markdown",
      "source": [
        "14. Выведите общую сумму просмотров постов за каждый месяц 2008 года. Если данных за какой-либо месяц в базе нет, такой месяц можно пропустить. Результат отсортируйте по убыванию общего количества просмотров."
      ],
      "metadata": {
        "id": "VXze6OTG8NCu"
      }
    },
    {
      "cell_type": "code",
      "source": [
        "SELECT DATE_TRUNC('month', creation_date)::date,\n",
        "       SUM(views_count)\n",
        "FROM stackoverflow.posts\n",
        "GROUP BY DATE_TRUNC('month', creation_date)::date\n",
        "ORDER BY SUM(views_count) DESC;"
      ],
      "metadata": {
        "id": "2uWpyTcj8Tn7"
      },
      "execution_count": null,
      "outputs": []
    },
    {
      "cell_type": "markdown",
      "source": [
        "15.  Выведите имена самых активных пользователей, которые в первый месяц после регистрации (включая день регистрации) дали больше 100 ответов. Вопросы, которые задавали пользователи, не учитывайте. Для каждого имени пользователя выведите количество уникальных значений user_id. Отсортируйте результат по полю с именами в лексикографическом порядке."
      ],
      "metadata": {
        "id": "x72zd9eN8VRF"
      }
    },
    {
      "cell_type": "code",
      "source": [
        "SELECT u.display_name,\n",
        "    COUNT(DISTINCT user_id) as answ_count\n",
        "FROM stackoverflow.posts p\n",
        "JOIN stackoverflow.post_types pt ON p.post_type_id = pt.id\n",
        "JOIN stackoverflow.users u ON p.user_id = u.id\n",
        "WHERE type = 'Answer' AND DATE_TRUNC('day', p.creation_date) >= DATE_TRUNC('day', u.creation_date) AND\n",
        "    DATE_TRUNC('day', p.creation_date) <= (DATE_TRUNC('day', u.creation_date) + INTERVAL '1 month')\n",
        "GROUP BY 1\n",
        "HAVING COUNT(*) > 100\n",
        "ORDER BY 1;"
      ],
      "metadata": {
        "id": "Odwqpm0j8Ynb"
      },
      "execution_count": null,
      "outputs": []
    },
    {
      "cell_type": "markdown",
      "source": [
        "16. Выведите количество постов за 2008 год по месяцам. Отберите посты от пользователей, которые зарегистрировались в сентябре 2008 года и сделали хотя бы один пост в декабре того же года. Отсортируйте таблицу по значению месяца по убыванию."
      ],
      "metadata": {
        "id": "8BnZCT4i8aKn"
      }
    },
    {
      "cell_type": "code",
      "source": [
        "WITH users AS \n",
        "            (SELECT DISTINCT u.id\n",
        "            FROM  stackoverflow.users u\n",
        "            JOIN  stackoverflow.posts p ON u.id = p.user_id\n",
        "            WHERE DATE_TRUNC('day', u.creation_date)::date BETWEEN '2008-09-01' AND '2008-09-30' \n",
        "            AND DATE_TRUNC('day', p.creation_date)::date BETWEEN '2008-12-01' AND '2008-12-31')\n",
        "SELECT DATE_TRUNC('month', pp.creation_date)::date,\n",
        "        COUNT(pp.id)\n",
        "FROM users\n",
        "JOIN stackoverflow.posts pp on pp.user_id=users.id\n",
        "GROUP BY 1\n",
        "ORDER BY 1 DESC;"
      ],
      "metadata": {
        "id": "miWjNPeo8dmP"
      },
      "execution_count": null,
      "outputs": []
    },
    {
      "cell_type": "markdown",
      "source": [
        "17. Используя данные о постах, выведите несколько полей:  \n",
        "- идентификатор пользователя, который написал пост;  \n",
        "- дата создания поста;  \n",
        "- количество просмотров у текущего поста;  \n",
        "- сумму просмотров постов автора с накоплением.  \n",
        "Данные в таблице должны быть отсортированы по возрастанию идентификаторов пользователей, а данные об одном и том же пользователе — по возрастанию даты создания поста."
      ],
      "metadata": {
        "id": "CAakPqjC8e2v"
      }
    },
    {
      "cell_type": "code",
      "source": [
        "SELECT user_id,\n",
        "       creation_date,\n",
        "       views_count,\n",
        "       SUM(views_count) OVER (PARTITION BY user_id ORDER BY creation_date)\n",
        "FROM stackoverflow.posts\n",
        "ORDER BY 1, \n",
        "         2;"
      ],
      "metadata": {
        "id": "NId8F4AQ8lz1"
      },
      "execution_count": null,
      "outputs": []
    },
    {
      "cell_type": "markdown",
      "source": [
        "18.  Сколько в среднем дней в период с 1 по 7 декабря 2008 года включительно пользователи взаимодействовали с платформой? Для каждого пользователя отберите дни, в которые он или она опубликовали хотя бы один пост. Нужно получить одно целое число — не забудьте округлить результат."
      ],
      "metadata": {
        "id": "4svsg2Gy9KjK"
      }
    },
    {
      "cell_type": "code",
      "source": [
        "WITH day AS \n",
        "           (SELECT DISTINCT user_id,\n",
        "                   COUNT(DISTINCT creation_date::date) AS count_day\n",
        "            FROM stackoverflow.posts\n",
        "            WHERE creation_date::date BETWEEN '2008-12-01' AND '2008-12-07'\n",
        "            GROUP BY 1)\n",
        "SELECT ROUND(AVG(count_day),0)\n",
        "FROM day;"
      ],
      "metadata": {
        "id": "a-Qojami9O8D"
      },
      "execution_count": null,
      "outputs": []
    },
    {
      "cell_type": "markdown",
      "source": [
        "19. На сколько процентов менялось количество постов ежемесячно с 1 сентября по 31 декабря 2008 года? Отобразите таблицу со следующими полями:  \n",
        "- номер месяца;  \n",
        "- количество постов за месяц;  \n",
        "- процент, который показывает, насколько изменилось количество постов в текущем месяце по сравнению с предыдущим.  \n",
        "Если постов стало меньше, значение процента должно быть отрицательным, если больше — положительным. Округлите значение процента до двух знаков после запятой.\n"
      ],
      "metadata": {
        "id": "IYVSUocQ8nP1"
      }
    },
    {
      "cell_type": "code",
      "source": [
        "WITH cp AS \n",
        "          (SELECT EXTRACT('month' FROM creation_date::date) AS dt,\n",
        "                  COUNT(id) AS cnt_p\n",
        "           FROM stackoverflow.posts\n",
        "           WHERE DATE_TRUNC('month', creation_date)::date BETWEEN '2008-09-01' AND '2008-12-31'\n",
        "           GROUP BY 1)\n",
        "SELECT *,\n",
        "      ROUND((cnt_p::numeric/(LAG(cnt_p) OVER (ORDER BY dt)) - 1) * 100, 2) AS posts_growth\n",
        "FROM cp;"
      ],
      "metadata": {
        "id": "bv0WlbPh82m0"
      },
      "execution_count": null,
      "outputs": []
    },
    {
      "cell_type": "markdown",
      "source": [
        "20. Выгрузите данные активности пользователя, который опубликовал больше всего постов за всё время. Выведите данные за октябрь 2008 года в таком виде:  \n",
        "- номер недели;  \n",
        "- дата и время последнего поста, опубликованного на этой неделе."
      ],
      "metadata": {
        "id": "_gbDVcLJ830s"
      }
    },
    {
      "cell_type": "code",
      "source": [
        "SELECT EXTRACT(week FROM creation_date::date) AS week,\n",
        "       MAX(creation_date) AS last_post\n",
        "FROM stackoverflow.posts\n",
        "WHERE user_id IN\n",
        "                (SELECT user_id\n",
        "                 FROM\n",
        "                     (SELECT user_id,\n",
        "                             COUNT(*)\n",
        "                      FROM stackoverflow.posts\n",
        "                      GROUP BY 1\n",
        "                      ORDER BY 2 DESC\n",
        "                      LIMIT 1) max_user )  \n",
        "AND creation_date BETWEEN '2008-10-01' AND '2008-11-01'\n",
        "GROUP BY EXTRACT(week FROM creation_date::date);"
      ],
      "metadata": {
        "id": "6XTCaJG9891-"
      },
      "execution_count": null,
      "outputs": []
    }
  ]
}