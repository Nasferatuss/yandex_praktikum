{
  "nbformat": 4,
  "nbformat_minor": 0,
  "metadata": {
    "colab": {
      "provenance": []
    },
    "kernelspec": {
      "name": "python3",
      "display_name": "Python 3"
    },
    "language_info": {
      "name": "python"
    }
  },
  "cells": [
    {
      "cell_type": "markdown",
      "source": [
        "**Проект выполнен полностью с использованием языка SQL**"
      ],
      "metadata": {
        "id": "RMvUVNTf4o3W"
      }
    },
    {
      "cell_type": "markdown",
      "source": [
        "1. Посчитайте, сколько компаний закрылось."
      ],
      "metadata": {
        "id": "Vg9hXBXb5HFT"
      }
    },
    {
      "cell_type": "code",
      "source": [
        "SELECT COUNT(*)\n",
        "FROM company\n",
        "WHERE status = 'closed'"
      ],
      "metadata": {
        "id": "rnSLgd0x5KNV"
      },
      "execution_count": null,
      "outputs": []
    },
    {
      "cell_type": "markdown",
      "source": [
        "2. Отобразите количество привлечённых средств для новостных компаний США. Используйте данные из таблицы company. Отсортируйте таблицу по убыванию значений в поле funding_total ."
      ],
      "metadata": {
        "id": "BxRUNFmc5LbV"
      }
    },
    {
      "cell_type": "code",
      "source": [
        "SELECT funding_total\n",
        "FROM company\n",
        "WHERE country_code = 'USA' AND category_code = 'news'\n",
        "ORDER BY funding_total DESC;"
      ],
      "metadata": {
        "id": "7kEHHUN85Vrk"
      },
      "execution_count": null,
      "outputs": []
    },
    {
      "cell_type": "markdown",
      "source": [
        "3. Найдите общую сумму сделок по покупке одних компаний другими в долларах. Отберите сделки, которые осуществлялись только за наличные с 2011 по 2013 год включительно."
      ],
      "metadata": {
        "id": "ZlVlgALU5hNJ"
      }
    },
    {
      "cell_type": "code",
      "source": [
        "SELECT SUM(price_amount)\n",
        "FROM acquisition\n",
        "WHERE term_code = 'cash'\n",
        " AND acquired_at BETWEEN '2011-01-01' AND '2013-12-31';"
      ],
      "metadata": {
        "id": "U9hEJLPo5k9f"
      },
      "execution_count": null,
      "outputs": []
    },
    {
      "cell_type": "markdown",
      "source": [
        "4. Отобразите имя, фамилию и названия аккаунтов людей в твиттере, у которых названия аккаунтов начинаются на 'Silver'."
      ],
      "metadata": {
        "id": "JlMtNbUC5qhR"
      }
    },
    {
      "cell_type": "code",
      "source": [
        "SELECT first_name,\n",
        "       last_name,\n",
        "       twitter_username\n",
        "FROM people\n",
        "WHERE twitter_username LIKE 'Silver%';"
      ],
      "metadata": {
        "id": "-M46BJrE5vi1"
      },
      "execution_count": null,
      "outputs": []
    },
    {
      "cell_type": "markdown",
      "source": [
        "5. Выведите на экран всю информацию о людях, у которых названия аккаунтов в твиттере содержат подстроку 'money', а фамилия начинается на 'K'."
      ],
      "metadata": {
        "id": "mOAYyXMt5x2M"
      }
    },
    {
      "cell_type": "code",
      "source": [
        "SELECT *\n",
        "FROM people\n",
        "WHERE twitter_username LIKE '%money%' \n",
        "  AND last_name LIKE 'K%';"
      ],
      "metadata": {
        "id": "KnH57xuE50WB"
      },
      "execution_count": null,
      "outputs": []
    },
    {
      "cell_type": "markdown",
      "source": [
        "6. Для каждой страны отобразите общую сумму привлечённых инвестиций, которые получили компании, зарегистрированные в этой стране. Страну, в которой зарегистрирована компания, можно определить по коду страны. Отсортируйте данные по убыванию суммы."
      ],
      "metadata": {
        "id": "FvRmgf4J51zh"
      }
    },
    {
      "cell_type": "code",
      "source": [
        "SELECT country_code AS country,\n",
        "       SUM(funding_total) AS total_money\n",
        "FROM company\n",
        "GROUP BY country\n",
        "ORDER BY total_money DESC;"
      ],
      "metadata": {
        "id": "d1Sepw8j55eN"
      },
      "execution_count": null,
      "outputs": []
    },
    {
      "cell_type": "markdown",
      "source": [
        "7. Составьте таблицу, в которую войдёт дата проведения раунда, а также минимальное и максимальное значения суммы инвестиций, привлечённых в эту дату.\n",
        "Оставьте в итоговой таблице только те записи, в которых минимальное значение суммы инвестиций не равно нулю и не равно максимальному значению."
      ],
      "metadata": {
        "id": "UdbifM4a6Crx"
      }
    },
    {
      "cell_type": "code",
      "source": [
        "SELECT funded_at,\n",
        "       MIN(raised_amount),\n",
        "       MAX(raised_amount)\n",
        "FROM funding_round\n",
        "GROUP BY funded_at\n",
        "HAVING NOT MIN(raised_amount) = '0' \n",
        "   AND NOT MIN(raised_amount) =  MAX(raised_amount);"
      ],
      "metadata": {
        "id": "25cbzQBG6GdJ"
      },
      "execution_count": null,
      "outputs": []
    },
    {
      "cell_type": "markdown",
      "source": [
        "8. Создайте поле с категориями:  \n",
        "Для фондов, которые инвестируют в 100 и более компаний, назначьте категорию high_activity.  \n",
        "Для фондов, которые инвестируют в 20 и более компаний до 100, назначьте категорию middle_activity.  \n",
        "Если количество инвестируемых компаний фонда не достигает 20, назначьте категорию low_activity.  \n",
        "Отобразите все поля таблицы fund и новое поле с категориями."
      ],
      "metadata": {
        "id": "AUVXl29r6PVa"
      }
    },
    {
      "cell_type": "code",
      "source": [
        "SELECT *,\n",
        "  CASE\n",
        "      WHEN invested_companies >= 100 THEN 'high_activity'\n",
        "      WHEN invested_companies >=20 AND invested_companies < 100 THEN 'middle_activity'\n",
        "      WHEN invested_companies < 20 THEN 'low_activity'\n",
        "  END\n",
        "FROM fund;"
      ],
      "metadata": {
        "id": "6dEWNm9AOg1x"
      },
      "execution_count": null,
      "outputs": []
    },
    {
      "cell_type": "markdown",
      "source": [
        "9. Для каждой из категорий, назначенных в предыдущем задании, посчитайте округлённое до ближайшего целого числа среднее количество инвестиционных раундов, в которых фонд принимал участие.   \n",
        "Выведите на экран категории и среднее число инвестиционных раундов. Отсортируйте таблицу по возрастанию среднего."
      ],
      "metadata": {
        "id": "umKHPbBxOjzy"
      }
    },
    {
      "cell_type": "code",
      "source": [
        "SELECT CASE\n",
        "           WHEN invested_companies>=100 THEN 'high_activity'\n",
        "           WHEN invested_companies>=20 THEN 'middle_activity'\n",
        "           ELSE 'low_activity'\n",
        "       END AS activity,\n",
        "       ROUND(AVG(investment_rounds))\n",
        "FROM fund\n",
        "GROUP BY activity\n",
        "ORDER BY ROUND(AVG(investment_rounds))"
      ],
      "metadata": {
        "id": "5eNWYQ7dO28_"
      },
      "execution_count": null,
      "outputs": []
    },
    {
      "cell_type": "markdown",
      "source": [
        "10. Проанализируйте, в каких странах находятся фонды, которые чаще всего инвестируют в стартапы.     \n",
        "Для каждой страны посчитайте минимальное, максимальное и среднее число компаний, в которые инвестировали фонды этой страны, основанные с 2010 по 2012 год включительно. Исключите страны с фондами, у которых минимальное число компаний, получивших инвестиции, равно нулю. Выгрузите десять самых активных стран-инвесторов.  \n",
        "Отсортируйте таблицу по среднему количеству компаний от большего к меньшему, а затем по коду страны в лексикографическом порядке."
      ],
      "metadata": {
        "id": "e75ngYT0O4-j"
      }
    },
    {
      "cell_type": "code",
      "source": [
        "SELECT country_code,\n",
        "       MIN(invested_companies),\n",
        "       MAX(invested_companies),\n",
        "       AVG(invested_companies)\n",
        "FROM fund\n",
        "WHERE founded_at BETWEEN '2010-01-01' AND '2012-12-31'\n",
        "GROUP BY country_code\n",
        "HAVING NOT MIN(invested_companies) = 0\n",
        "ORDER BY AVG(invested_companies) DESC, country_code\n",
        "LIMIT 10;"
      ],
      "metadata": {
        "id": "MUVGaz9XO-uz"
      },
      "execution_count": null,
      "outputs": []
    },
    {
      "cell_type": "markdown",
      "source": [
        "11. Отобразите имя и фамилию всех сотрудников стартапов. Добавьте поле с названием учебного заведения, которое окончил сотрудник, если эта информация известна."
      ],
      "metadata": {
        "id": "ccw-cJ4qPAHk"
      }
    },
    {
      "cell_type": "code",
      "source": [
        "SELECT p.first_name,\n",
        "       p.last_name,\n",
        "       e.instituition\n",
        "FROM people AS p\n",
        "LEFT JOIN education AS e ON p.id = e.person_id;"
      ],
      "metadata": {
        "id": "pHd95MikPDFj"
      },
      "execution_count": null,
      "outputs": []
    },
    {
      "cell_type": "markdown",
      "source": [
        "12. Для каждой компании найдите количество учебных заведений, которые окончили её сотрудники. Выведите название компании и число уникальных названий учебных заведений. Составьте топ-5 компаний по количеству университетов."
      ],
      "metadata": {
        "id": "Z7iAiZL9PElj"
      }
    },
    {
      "cell_type": "code",
      "source": [
        "SELECT c.name AS name_company,\n",
        "       COUNT(DISTINCT e.instituition) AS amount\n",
        "FROM company AS c\n",
        "JOIN people AS p ON c.id = p.company_id\n",
        "JOIN education AS e ON p.id = e.person_id\n",
        "GROUP BY c.name\n",
        "ORDER BY amount DESC\n",
        "LIMIT 5;"
      ],
      "metadata": {
        "id": "-j4eE5VsPHtV"
      },
      "execution_count": null,
      "outputs": []
    },
    {
      "cell_type": "markdown",
      "source": [
        "13. Составьте список с уникальными названиями закрытых компаний, для которых первый раунд финансирования оказался последним."
      ],
      "metadata": {
        "id": "LOU9vQoSPJYH"
      }
    },
    {
      "cell_type": "code",
      "source": [
        "SELECT DISTINCT c.name\n",
        "FROM company AS c\n",
        "JOIN funding_round AS fr ON c.id = fr.company_id\n",
        "WHERE c.status = 'closed' AND fr.id IN \n",
        "                                       (SELECT id\n",
        "                                        FROM funding_round\n",
        "                                        WHERE is_first_round = '1'\n",
        "                                         AND is_last_round = '1');"
      ],
      "metadata": {
        "id": "F_SszFb6PMn5"
      },
      "execution_count": null,
      "outputs": []
    },
    {
      "cell_type": "markdown",
      "source": [
        "14. Составьте список уникальных номеров сотрудников, которые работают в компаниях, отобранных в предыдущем задании."
      ],
      "metadata": {
        "id": "grgMNyS-PObn"
      }
    },
    {
      "cell_type": "code",
      "source": [
        "SELECT p.id\n",
        "FROM people AS p\n",
        "INNER JOIN company AS c ON p.company_id = c.id\n",
        "WHERE c.name IN \n",
        "                (SELECT DISTINCT c.name\n",
        "                 FROM company AS c\n",
        "                 JOIN funding_round AS fr ON c.id = fr.company_id\n",
        "                 WHERE c.status = 'closed' AND fr.id IN \n",
        "                                                       (SELECT id\n",
        "                                                        FROM funding_round\n",
        "                                                        WHERE is_first_round = '1'\n",
        "                                                        AND is_last_round = '1'));"
      ],
      "metadata": {
        "id": "mLJgUNb0PQ65"
      },
      "execution_count": null,
      "outputs": []
    },
    {
      "cell_type": "markdown",
      "source": [
        "15. Составьте таблицу, куда войдут уникальные пары с номерами сотрудников из предыдущей задачи и учебным заведением, которое окончил сотрудник."
      ],
      "metadata": {
        "id": "H79eqf6zPS6j"
      }
    },
    {
      "cell_type": "code",
      "source": [
        "WITH \n",
        "\n",
        "uniq_id_people AS (SELECT p.id AS id\n",
        "                   FROM people AS p\n",
        "                   INNER JOIN company AS c ON p.company_id = c.id\n",
        "                   WHERE c.name IN (SELECT DISTINCT c.name\n",
        "                                    FROM company AS c\n",
        "                                    JOIN funding_round AS fr ON c.id = fr.company_id\n",
        "                                    WHERE c.status = 'closed' AND fr.id IN (SELECT id\n",
        "                                                                            FROM funding_round\n",
        "                                                                            WHERE is_first_round = '1'\n",
        "                                                                            AND is_last_round = '1')))\n",
        "                   \n",
        "SELECT DISTINCT uniq_id_people.id,\n",
        "      e.instituition\n",
        "FROM uniq_id_people INNER JOIN education AS e ON uniq_id_people.id = e.person_id;"
      ],
      "metadata": {
        "id": "H-Qi091APWyq"
      },
      "execution_count": null,
      "outputs": []
    },
    {
      "cell_type": "markdown",
      "source": [
        "16. Посчитайте количество учебных заведений для каждого сотрудника из предыдущего задания. При подсчёте учитывайте, что некоторые сотрудники могли окончить одно и то же заведение дважды."
      ],
      "metadata": {
        "id": "3XIJaeAGPaBk"
      }
    },
    {
      "cell_type": "code",
      "source": [
        "WITH \n",
        "\n",
        "uniq_id_people AS (SELECT p.id AS id\n",
        "                   FROM people AS p\n",
        "                   INNER JOIN company AS c ON p.company_id = c.id\n",
        "                   WHERE c.name IN (SELECT DISTINCT c.name\n",
        "                                    FROM company AS c\n",
        "                                    JOIN funding_round AS fr ON c.id = fr.company_id\n",
        "                                    WHERE c.status = 'closed' AND fr.id IN (SELECT id\n",
        "                                                                            FROM funding_round\n",
        "                                                                            WHERE is_first_round = '1'\n",
        "                                                                            AND is_last_round = '1')))\n",
        "                   \n",
        "SELECT DISTINCT uniq_id_people.id,\n",
        "      COUNT(e.instituition)\n",
        "FROM uniq_id_people INNER JOIN education AS e ON uniq_id_people.id = e.person_id\n",
        "GROUP BY uniq_id_people.id;"
      ],
      "metadata": {
        "id": "gvJd4_5bPcgs"
      },
      "execution_count": null,
      "outputs": []
    },
    {
      "cell_type": "markdown",
      "source": [
        "17. Дополните предыдущий запрос и выведите среднее число учебных заведений (всех, не только уникальных), которые окончили сотрудники разных компаний. Нужно вывести только одну запись, группировка здесь не понадобится."
      ],
      "metadata": {
        "id": "xComqlcXPgq8"
      }
    },
    {
      "cell_type": "code",
      "source": [
        "SELECT COUNT(e.instituition) * 1.0 / COUNT(DISTINCT person_id)\n",
        "FROM education AS e\n",
        "WHERE person_id IN \n",
        "                   (SELECT p.id AS id\n",
        "                   FROM people AS p\n",
        "                   INNER JOIN company AS c ON p.company_id = c.id\n",
        "                   WHERE c.name IN (SELECT DISTINCT c.name\n",
        "                                    FROM company AS c\n",
        "                                    JOIN funding_round AS fr ON c.id = fr.company_id\n",
        "                                    WHERE c.status = 'closed' AND fr.id IN (SELECT id\n",
        "                                                                            FROM funding_round\n",
        "                                                                            WHERE is_first_round = '1'\n",
        "                                                                            AND is_last_round = '1')));"
      ],
      "metadata": {
        "id": "cS5f6vuaPjNK"
      },
      "execution_count": null,
      "outputs": []
    },
    {
      "cell_type": "markdown",
      "source": [
        "18. Напишите похожий запрос: выведите среднее число учебных заведений (всех, не только уникальных), которые окончили сотрудники Facebook*.\n",
        "*(сервис, запрещённый на территории РФ)"
      ],
      "metadata": {
        "id": "ScyFAatiPlKt"
      }
    },
    {
      "cell_type": "code",
      "source": [
        "WITH \n",
        "\n",
        "a AS (SELECT DISTINCT p.id\n",
        "      FROM people AS p\n",
        "      INNER JOIN company AS c ON c.id = p.company_id\n",
        "      WHERE c.name = 'Facebook'),\n",
        "b AS (SELECT COUNT(e.instituition) AS amount,\n",
        "      p.id\n",
        "      FROM people AS p \n",
        "      INNER JOIN education AS e ON p.id = e.person_id\n",
        "      GROUP BY p.id)\n",
        "      \n",
        "SELECT AVG(amount)\n",
        "FROM a\n",
        "INNER JOIN b ON a.id = b.id;"
      ],
      "metadata": {
        "id": "rDCV4c-4Po7F"
      },
      "execution_count": null,
      "outputs": []
    },
    {
      "cell_type": "markdown",
      "source": [
        "19. Составьте таблицу из полей:  \n",
        "name_of_fund — название фонда;  \n",
        "name_of_company — название компании;  \n",
        "amount — сумма инвестиций, которую привлекла компания в раунде.  \n",
        "В таблицу войдут данные о компаниях, в истории которых было больше шести важных этапов, а раунды финансирования проходили с 2012 по 2013 год включительно."
      ],
      "metadata": {
        "id": "0S7EsIuPPqRD"
      }
    },
    {
      "cell_type": "code",
      "source": [
        "SELECT f.name AS name_of_fund,\n",
        "       st.name AS name_of_company,\n",
        "       fr.raised_amount AS amount\n",
        "FROM investment AS i\n",
        "LEFT JOIN fund AS f ON f.id = i.fund_id\n",
        "LEFT JOIN company AS st ON st.id = i.company_id\n",
        "INNER JOIN \n",
        "           (SELECT *\n",
        "            FROM funding_round \n",
        "            WHERE funded_at BETWEEN '2012-01-01' AND '2013-12-31') AS fr\n",
        "ON fr.id = i.funding_round_id \n",
        "WHERE st.milestones > 6;\n"
      ],
      "metadata": {
        "id": "YarHhIXpPvUw"
      },
      "execution_count": null,
      "outputs": []
    },
    {
      "cell_type": "markdown",
      "source": [
        "20. Выгрузите таблицу, в которой будут такие поля:  \n",
        "- название компании-покупателя;  \n",
        "- сумма сделки;  \n",
        "- название компании, которую купили;  \n",
        "- сумма инвестиций, вложенных в купленную компанию;  \n",
        "доля, которая отображает, во сколько раз сумма покупки превысила сумму вложенных в компанию инвестиций, округлённая до ближайшего целого числа.  \n",
        "Не учитывайте те сделки, в которых сумма покупки равна нулю. Если сумма инвестиций в компанию равна нулю, исключите такую компанию из таблицы. \n",
        "Отсортируйте таблицу по сумме сделки от большей к меньшей, а затем по названию купленной компании в лексикографическом порядке.  \n",
        "Ограничьте таблицу первыми десятью записями."
      ],
      "metadata": {
        "id": "JQSimooVPwYE"
      }
    },
    {
      "cell_type": "code",
      "source": [
        "SELECT c.name AS ascuiring_company,\n",
        "       ac.price_amount,\n",
        "       c_1.name AS ascuired_company,\n",
        "       c_1.funding_total,\n",
        "       ROUND(ac.price_amount/c_1.funding_total) AS percent\n",
        "FROM acquisition AS ac\n",
        "LEFT JOIN company AS c ON ac.acquiring_company_id = c.id\n",
        "LEFT JOIN company AS c_1 ON ac.acquired_company_id = c_1.id\n",
        "WHERE ac.price_amount > 0 AND c_1.funding_total > 0\n",
        "ORDER BY ac.price_amount DESC, ascuired_company\n",
        "LIMIT 10;"
      ],
      "metadata": {
        "id": "6f6MqjfeP81_"
      },
      "execution_count": null,
      "outputs": []
    },
    {
      "cell_type": "markdown",
      "source": [
        "21. Выгрузите таблицу, в которую войдут названия компаний из категории social, получившие финансирование с 2010 по 2013 год включительно. Проверьте, что сумма инвестиций не равна нулю. Выведите также номер месяца, в котором проходил раунд финансирования."
      ],
      "metadata": {
        "id": "HlzVkGuNP_F0"
      }
    },
    {
      "cell_type": "code",
      "source": [
        "SELECT c.name, \n",
        "       EXTRACT(MONTH FROM CAST(f.funded_at AS date)) AS month\n",
        "FROM company AS c\n",
        "LEFT JOIN funding_round AS f ON c.id = f.company_id\n",
        "WHERE f.funded_at BETWEEN '2010-01-01' AND '2013-12-31' \n",
        "      AND c.category_code = 'social'\n",
        "      AND f.raised_amount > 0;"
      ],
      "metadata": {
        "id": "RVEEvtj8QCYe"
      },
      "execution_count": null,
      "outputs": []
    },
    {
      "cell_type": "markdown",
      "source": [
        "22. Отберите данные по месяцам с 2010 по 2013 год, когда проходили инвестиционные раунды. Сгруппируйте данные по номеру месяца и получите таблицу, в которой будут поля:  \n",
        "- номер месяца, в котором проходили раунды;  \n",
        "- количество уникальных названий фондов из США, которые инвестировали в этом месяце;  \n",
        "- количество компаний, купленных за этот месяц;  \n",
        "- общая сумма сделок по покупкам в этом месяце."
      ],
      "metadata": {
        "id": "c0tzx3drQDtG"
      }
    },
    {
      "cell_type": "code",
      "source": [
        "WITH \n",
        "data_month AS (SELECT EXTRACT(MONTH FROM CAST(fr.funded_at AS date)) AS month_1,\n",
        "               COUNT(DISTINCT f.name) AS amount_company_1\n",
        "               FROM funding_round AS fr\n",
        "               JOIN investment AS i ON fr.id = i.funding_round_id\n",
        "               JOIN fund AS f ON i.fund_id = f.id\n",
        "               WHERE EXTRACT(YEAR FROM CAST(fr.funded_at AS date)) BETWEEN '2010' AND '2013'\n",
        "                  AND f.country_code = 'USA'\n",
        "               GROUP BY month_1),\n",
        "               \n",
        "info_acquisition AS (SELECT EXTRACT(MONTH FROM CAST(a.acquired_at AS date)) AS month_1,\n",
        "                     COUNT(a.acquired_company_id) AS amount_buy_company_1,\n",
        "                     SUM(a.price_amount) AS sum_price_1\n",
        "                     FROM acquisition AS a \n",
        "                     WHERE EXTRACT(YEAR FROM CAST(a.acquired_at AS date)) BETWEEN '2010' AND '2013'\n",
        "                     GROUP BY month_1)\n",
        "\n",
        "SELECT data_month.month_1 AS month,\n",
        "       data_month.amount_company_1 AS amount_company,\n",
        "       info_acquisition.amount_buy_company_1 AS amount_buy_company,\n",
        "       info_acquisition.sum_price_1 AS sum_price\n",
        "FROM data_month LEFT JOIN info_acquisition ON data_month.month_1 = info_acquisition.month_1;"
      ],
      "metadata": {
        "id": "_akUKunEQLeI"
      },
      "execution_count": null,
      "outputs": []
    },
    {
      "cell_type": "markdown",
      "source": [
        "23. Составьте сводную таблицу и выведите среднюю сумму инвестиций для стран, в которых есть стартапы, зарегистрированные в 2011, 2012 и 2013 годах. Данные за каждый год должны быть в отдельном поле. Отсортируйте таблицу по среднему значению инвестиций за 2011 год от большего к меньшему."
      ],
      "metadata": {
        "id": "WfPGueo7QNss"
      }
    },
    {
      "cell_type": "code",
      "source": [
        "WITH \n",
        "one AS (SELECT country_code AS country,\n",
        "            AVG(funding_total) AS year_2011\n",
        "        FROM company\n",
        "        WHERE EXTRACT(YEAR FROM CAST(founded_at AS date)) = 2011\n",
        "        GROUP BY country),\n",
        "\n",
        "two AS (SELECT country_code AS country,\n",
        "            AVG(funding_total) AS year_2012\n",
        "        FROM company\n",
        "        WHERE EXTRACT(YEAR FROM CAST(founded_at AS date)) = 2012\n",
        "        GROUP BY country),\n",
        "       \n",
        "three AS (SELECT country_code AS country,\n",
        "            AVG(funding_total) AS year_2013\n",
        "        FROM company\n",
        "        WHERE EXTRACT(YEAR FROM CAST(founded_at AS date)) = 2013\n",
        "        GROUP BY country)        \n",
        "\n",
        "SELECT one.country,\n",
        "       one.year_2011,\n",
        "       two.year_2012,\n",
        "       three.year_2013\n",
        "FROM one INNER JOIN two ON one.country = two.country\n",
        "INNER JOIN three ON two.country = three.country\n",
        "ORDER BY year_2011 DESC;"
      ],
      "metadata": {
        "id": "smho1jIPQScQ"
      },
      "execution_count": null,
      "outputs": []
    }
  ]
}